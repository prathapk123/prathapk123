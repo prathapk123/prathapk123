{
  "cells": [
    {
      "cell_type": "markdown",
      "metadata": {
        "id": "KSKTWs4uEw3c"
      },
      "source": [
        "**Model to classify 'buy' or 'sell' stocks**"
      ]
    },
    {
      "cell_type": "code",
      "execution_count": 2,
      "metadata": {
        "id": "2Q4VgY3r7Pa2"
      },
      "outputs": [],
      "source": [
        "import pandas as pd\n",
        "import os\n",
        "import pandas_profiling\n",
        "from pandas_profiling import ProfileReport\n",
        "import numpy as np\n",
        "\n",
        "import matplotlib.pyplot as plt\n",
        "import seaborn as sns \n",
        "\n",
        "from sklearn.metrics import silhouette_score, silhouette_samples\n",
        "import sklearn.metrics\n",
        "from sklearn.preprocessing import StandardScaler\n",
        "from sklearn.cluster import KMeans, DBSCAN, AgglomerativeClustering\n",
        "from sklearn.mixture import GaussianMixture\n",
        "from sklearn.metrics import accuracy_score, cohen_kappa_score, f1_score, log_loss, confusion_matrix\n",
        "from sklearn.model_selection import train_test_split\n",
        "from sklearn.datasets import make_classification\n",
        "\n",
        "import scipy\n",
        "\n",
        "from IPython.core.interactiveshell import InteractiveShell\n",
        "InteractiveShell.ast_node_interactivity = \"all\""
      ]
    },
    {
      "cell_type": "code",
      "execution_count": 3,
      "metadata": {
        "id": "ojw9Hb9U7fg_"
      },
      "outputs": [],
      "source": [
        "df1=pd.read_csv(\"2014_Financial_Data.csv\")\n",
        "df2=pd.read_csv(\"2015_Financial_Data.csv\")\n",
        "df3=pd.read_csv(\"2016_Financial_Data.csv\")\n",
        "df4=pd.read_csv(\"2017_Financial_Data.csv\")\n",
        "df5=pd.read_csv(\"2018_Financial_Data.csv\")"
      ]
    },
    {
      "cell_type": "code",
      "execution_count": 4,
      "metadata": {
        "id": "oT92Weyf9f_7"
      },
      "outputs": [],
      "source": [
        "df1['Year']=2014\n",
        "df2['Year']=2015\n",
        "df3['Year']=2016\n",
        "df4['Year']=2017\n",
        "df5['Year']=2018"
      ]
    },
    {
      "cell_type": "code",
      "execution_count": 5,
      "metadata": {
        "id": "6JTYiKtk9jpq"
      },
      "outputs": [],
      "source": [
        "### Drop the Stock Column\n",
        "df1 = df1.drop(df1.columns[0], axis = 1)\n",
        "df2 = df2.drop(df2.columns[0], axis = 1)\n",
        "df3 = df3.drop(df3.columns[0], axis = 1)\n",
        "df4 = df4.drop(df4.columns[0], axis = 1)\n",
        "df5 = df5.drop(df5.columns[0], axis = 1)"
      ]
    },
    {
      "cell_type": "code",
      "execution_count": 7,
      "metadata": {
        "id": "Eh7_ISMb9rz0"
      },
      "outputs": [],
      "source": [
        "### Change Data Type\n",
        "df1['Class'] = df1['Class'].astype(object)\n",
        "df2['Class'] = df2['Class'].astype(object)\n",
        "df3['Class'] = df3['Class'].astype(object)\n",
        "df4['Class'] = df4['Class'].astype(object)\n",
        "df5['Class'] = df5['Class'].astype(object)"
      ]
    },
    {
      "cell_type": "code",
      "execution_count": 8,
      "metadata": {
        "id": "GYcvh0fb9sva"
      },
      "outputs": [],
      "source": [
        "df5['Class'] = df5['Class'].astype(object)\n",
        "df1.rename(columns={\"2015 PRICE VAR [%]\": \"PRICE_VAR\"},inplace=True)\n",
        "df2.rename(columns={\"2016 PRICE VAR [%]\": \"PRICE_VAR\"},inplace=True)\n",
        "df3.rename(columns={\"2017 PRICE VAR [%]\": \"PRICE_VAR\"},inplace=True)\n",
        "df4.rename(columns={\"2018 PRICE VAR [%]\": \"PRICE_VAR\"},inplace=True)\n",
        "df5.rename(columns={\"2019 PRICE VAR [%]\": \"PRICE_VAR\"},inplace=True)"
      ]
    },
    {
      "cell_type": "code",
      "execution_count": 9,
      "metadata": {
        "id": "YqbWcZB29v9g"
      },
      "outputs": [],
      "source": [
        "df1.drop(['Sector'], axis=1, inplace=True)\n",
        "df2.drop(['Sector'], axis=1, inplace=True)\n",
        "df3.drop(['Sector'], axis=1, inplace=True)\n",
        "df4.drop(['Sector'], axis=1, inplace=True)\n",
        "df5.drop(['Sector'], axis=1, inplace=True)"
      ]
    },
    {
      "cell_type": "code",
      "execution_count": 10,
      "metadata": {
        "id": "Ar_DEGAW9yrv"
      },
      "outputs": [],
      "source": [
        "from sklearn.impute import KNNImputer\n",
        "imputer = KNNImputer(n_neighbors=20, weights='distance', metric='nan_euclidean', copy=True)"
      ]
    },
    {
      "cell_type": "code",
      "execution_count": 11,
      "metadata": {
        "id": "Flzf26d29189"
      },
      "outputs": [],
      "source": [
        "df1_clean = imputer.fit_transform(df1)\n",
        "df1_clean = pd.DataFrame(df1_clean)\n",
        "df1_clean.columns = list(df1)"
      ]
    },
    {
      "cell_type": "code",
      "execution_count": 12,
      "metadata": {
        "id": "03nPjye7942A"
      },
      "outputs": [],
      "source": [
        "df2_clean = imputer.fit_transform(df2)\n",
        "df2_clean = pd.DataFrame(df2_clean)\n",
        "df2_clean.columns = list(df2)\n",
        "df3_clean = imputer.fit_transform(df3)\n",
        "df3_clean = pd.DataFrame(df3_clean)\n",
        "df3_clean.columns = list(df3)\n",
        "df4_clean = imputer.fit_transform(df4)\n",
        "df4_clean = pd.DataFrame(df4_clean)\n",
        "df4_clean.columns = list(df4)\n",
        "df5_clean = imputer.fit_transform(df5)\n",
        "df5_clean = pd.DataFrame(df5_clean)\n",
        "df5_clean.columns = list(df5)\n"
      ]
    },
    {
      "cell_type": "code",
      "execution_count": 13,
      "metadata": {
        "colab": {
          "base_uri": "https://localhost:8080/"
        },
        "id": "mn8i_73j-JKy",
        "outputId": "b1df9d5b-e90e-4a72-ba87-c5da97f9d144"
      },
      "outputs": [
        {
          "output_type": "execute_result",
          "data": {
            "text/plain": [
              "Revenue                 0\n",
              "Revenue Growth          0\n",
              "Cost of Revenue         0\n",
              "Gross Profit            0\n",
              "R&D Expenses            0\n",
              "                       ..\n",
              "R&D Expense Growth      0\n",
              "SG&A Expenses Growth    0\n",
              "PRICE_VAR               0\n",
              "Class                   0\n",
              "Year                    0\n",
              "Length: 224, dtype: int64"
            ]
          },
          "metadata": {},
          "execution_count": 13
        },
        {
          "output_type": "execute_result",
          "data": {
            "text/plain": [
              "Revenue                 0\n",
              "Revenue Growth          0\n",
              "Cost of Revenue         0\n",
              "Gross Profit            0\n",
              "R&D Expenses            0\n",
              "                       ..\n",
              "R&D Expense Growth      0\n",
              "SG&A Expenses Growth    0\n",
              "PRICE_VAR               0\n",
              "Class                   0\n",
              "Year                    0\n",
              "Length: 224, dtype: int64"
            ]
          },
          "metadata": {},
          "execution_count": 13
        },
        {
          "output_type": "execute_result",
          "data": {
            "text/plain": [
              "Revenue                 0\n",
              "Revenue Growth          0\n",
              "Cost of Revenue         0\n",
              "Gross Profit            0\n",
              "R&D Expenses            0\n",
              "                       ..\n",
              "R&D Expense Growth      0\n",
              "SG&A Expenses Growth    0\n",
              "PRICE_VAR               0\n",
              "Class                   0\n",
              "Year                    0\n",
              "Length: 224, dtype: int64"
            ]
          },
          "metadata": {},
          "execution_count": 13
        },
        {
          "output_type": "execute_result",
          "data": {
            "text/plain": [
              "Revenue                 0\n",
              "Revenue Growth          0\n",
              "Cost of Revenue         0\n",
              "Gross Profit            0\n",
              "R&D Expenses            0\n",
              "                       ..\n",
              "R&D Expense Growth      0\n",
              "SG&A Expenses Growth    0\n",
              "PRICE_VAR               0\n",
              "Class                   0\n",
              "Year                    0\n",
              "Length: 224, dtype: int64"
            ]
          },
          "metadata": {},
          "execution_count": 13
        },
        {
          "output_type": "execute_result",
          "data": {
            "text/plain": [
              "Revenue                 0\n",
              "Revenue Growth          0\n",
              "Cost of Revenue         0\n",
              "Gross Profit            0\n",
              "R&D Expenses            0\n",
              "                       ..\n",
              "R&D Expense Growth      0\n",
              "SG&A Expenses Growth    0\n",
              "PRICE_VAR               0\n",
              "Class                   0\n",
              "Year                    0\n",
              "Length: 224, dtype: int64"
            ]
          },
          "metadata": {},
          "execution_count": 13
        }
      ],
      "source": [
        "##### Check Missing Value Again\n",
        "df1_clean.isnull().sum()\n",
        "df2_clean.isnull().sum()\n",
        "df3_clean.isnull().sum()\n",
        "df4_clean.isnull().sum()\n",
        "df5_clean.isnull().sum()"
      ]
    },
    {
      "cell_type": "code",
      "execution_count": 62,
      "metadata": {
        "id": "R8j192Ad-KL_"
      },
      "outputs": [],
      "source": [
        "data = pd.concat([df1_clean, df2_clean, df3_clean, df4_clean, df5_clean])"
      ]
    },
    {
      "cell_type": "code",
      "execution_count": 63,
      "metadata": {
        "colab": {
          "base_uri": "https://localhost:8080/"
        },
        "id": "n3bkKgT--NFt",
        "outputId": "613885fc-367f-437d-dcff-6c028fc43d87"
      },
      "outputs": [
        {
          "output_type": "stream",
          "name": "stdout",
          "text": [
            "<class 'pandas.core.frame.DataFrame'>\n",
            "Int64Index: 22077 entries, 0 to 4391\n",
            "Columns: 224 entries, Revenue to Year\n",
            "dtypes: float64(224)\n",
            "memory usage: 37.9 MB\n"
          ]
        }
      ],
      "source": [
        "data.info()"
      ]
    },
    {
      "cell_type": "code",
      "source": [
        "from sklearn.svm import LinearSVC\n",
        "from sklearn.feature_selection import SelectFromModel\n",
        "from sklearn.ensemble import ExtraTreesClassifier\n",
        "X=data.drop('Class', axis=1)\n",
        "y=data['Class']\n",
        "svc = LinearSVC(C=0.01, penalty=\"l1\", dual=False).fit(X, y)\n",
        "model = SelectFromModel(svc, prefit=True)\n",
        "X_new = model.transform(data.drop('Class', axis=1))\n",
        "print(X_new.shape)\n",
        "feature_idx = model.get_support()\n",
        "feature_name = X.columns[feature_idx]\n",
        "feature_name=list(feature_name)"
      ],
      "metadata": {
        "colab": {
          "base_uri": "https://localhost:8080/"
        },
        "id": "5WAQeVvrOka_",
        "outputId": "c6d88ba0-cf06-4378-e613-f9f07b5b0ee2"
      },
      "execution_count": 64,
      "outputs": [
        {
          "output_type": "stream",
          "name": "stdout",
          "text": [
            "(22077, 49)\n"
          ]
        },
        {
          "output_type": "stream",
          "name": "stderr",
          "text": [
            "/usr/local/lib/python3.7/dist-packages/sklearn/svm/_base.py:1208: ConvergenceWarning: Liblinear failed to converge, increase the number of iterations.\n",
            "  ConvergenceWarning,\n",
            "/usr/local/lib/python3.7/dist-packages/sklearn/base.py:444: UserWarning: X has feature names, but SelectFromModel was fitted without feature names\n",
            "  f\"X has feature names, but {self.__class__.__name__} was fitted without\"\n"
          ]
        }
      ]
    },
    {
      "cell_type": "code",
      "source": [
        "feature_name.append('Class')\n",
        "data_info=data[feature_name]\n",
        "data=data_info\n",
        "data.columns"
      ],
      "metadata": {
        "colab": {
          "base_uri": "https://localhost:8080/"
        },
        "id": "qACwU44STC0q",
        "outputId": "cb99ddd0-a086-4e1a-ce58-264922181175"
      },
      "execution_count": 65,
      "outputs": [
        {
          "output_type": "execute_result",
          "data": {
            "text/plain": [
              "Index(['EBITDA Margin', 'EBIT Margin', 'Profit Margin',\n",
              "       'Earnings Before Tax Margin', 'Net Profit Margin', 'priceToSalesRatio',\n",
              "       'priceEarningsRatio', 'priceToFreeCashFlowsRatio',\n",
              "       'priceToOperatingCashFlowsRatio', 'priceCashFlowRatio',\n",
              "       'priceEarningsToGrowthRatio', 'priceSalesRatio',\n",
              "       'enterpriseValueMultiple', 'ebtperEBIT', 'eBTperEBIT',\n",
              "       'inventoryTurnover', 'fixedAssetTurnover', 'currentRatio', 'quickRatio',\n",
              "       'daysOfSalesOutstanding', 'operatingCycle', 'daysOfPayablesOutstanding',\n",
              "       'cashConversionCycle', 'interestCoverage', 'cashFlowToDebtRatio',\n",
              "       'operatingCashFlowSalesRatio', 'cashFlowCoverageRatios',\n",
              "       'capitalExpenditureCoverageRatios',\n",
              "       'dividendpaidAndCapexCoverageRatios', 'dividendPayoutRatio',\n",
              "       'EV to Sales', 'Enterprise Value over EBITDA',\n",
              "       'EV to Operating cash flow', 'EV to Free cash flow', 'Earnings Yield',\n",
              "       'Net Debt to EBITDA', 'Interest Coverage', 'Income Quality',\n",
              "       'Graham Number', 'Graham Net-Net', 'Days of Inventory on Hand',\n",
              "       'Inventory Turnover', 'Operating Income Growth', 'EPS Diluted Growth',\n",
              "       'Operating Cash Flow growth', 'Free Cash Flow growth',\n",
              "       'R&D Expense Growth', 'PRICE_VAR', 'Year', 'Class'],\n",
              "      dtype='object')"
            ]
          },
          "metadata": {},
          "execution_count": 65
        }
      ]
    },
    {
      "cell_type": "code",
      "execution_count": 66,
      "metadata": {
        "colab": {
          "base_uri": "https://localhost:8080/",
          "height": 376
        },
        "id": "xyN4vEQV-xhl",
        "outputId": "ba752432-8446-45ba-c097-6ff5bbf908df"
      },
      "outputs": [
        {
          "output_type": "display_data",
          "data": {
            "text/plain": [
              "                 EBITDA Margin EBIT Margin Profit Margin  \\\n",
              "column type            float64     float64       float64   \n",
              "null values (nb)             0           0             0   \n",
              "null values (%)            0.0         0.0           0.0   \n",
              "\n",
              "                 Earnings Before Tax Margin Net Profit Margin  \\\n",
              "column type                         float64           float64   \n",
              "null values (nb)                          0                 0   \n",
              "null values (%)                         0.0               0.0   \n",
              "\n",
              "                 priceToSalesRatio priceEarningsRatio  \\\n",
              "column type                float64            float64   \n",
              "null values (nb)                 0                  0   \n",
              "null values (%)                0.0                0.0   \n",
              "\n",
              "                 priceToFreeCashFlowsRatio priceToOperatingCashFlowsRatio  \\\n",
              "column type                        float64                        float64   \n",
              "null values (nb)                         0                              0   \n",
              "null values (%)                        0.0                            0.0   \n",
              "\n",
              "                 priceCashFlowRatio  ... Days of Inventory on Hand  \\\n",
              "column type                 float64  ...                   float64   \n",
              "null values (nb)                  0  ...                         0   \n",
              "null values (%)                 0.0  ...                       0.0   \n",
              "\n",
              "                 Inventory Turnover Operating Income Growth  \\\n",
              "column type                 float64                 float64   \n",
              "null values (nb)                  0                       0   \n",
              "null values (%)                 0.0                     0.0   \n",
              "\n",
              "                 EPS Diluted Growth Operating Cash Flow growth  \\\n",
              "column type                 float64                    float64   \n",
              "null values (nb)                  0                          0   \n",
              "null values (%)                 0.0                        0.0   \n",
              "\n",
              "                 Free Cash Flow growth R&D Expense Growth PRICE_VAR     Year  \\\n",
              "column type                    float64            float64   float64  float64   \n",
              "null values (nb)                     0                  0         0        0   \n",
              "null values (%)                    0.0                0.0       0.0      0.0   \n",
              "\n",
              "                    Class  \n",
              "column type       float64  \n",
              "null values (nb)        0  \n",
              "null values (%)       0.0  \n",
              "\n",
              "[3 rows x 50 columns]"
            ],
            "text/html": [
              "\n",
              "  <div id=\"df-7189ed1a-b35c-4256-8775-df607529f9cd\">\n",
              "    <div class=\"colab-df-container\">\n",
              "      <div>\n",
              "<style scoped>\n",
              "    .dataframe tbody tr th:only-of-type {\n",
              "        vertical-align: middle;\n",
              "    }\n",
              "\n",
              "    .dataframe tbody tr th {\n",
              "        vertical-align: top;\n",
              "    }\n",
              "\n",
              "    .dataframe thead th {\n",
              "        text-align: right;\n",
              "    }\n",
              "</style>\n",
              "<table border=\"1\" class=\"dataframe\">\n",
              "  <thead>\n",
              "    <tr style=\"text-align: right;\">\n",
              "      <th></th>\n",
              "      <th>EBITDA Margin</th>\n",
              "      <th>EBIT Margin</th>\n",
              "      <th>Profit Margin</th>\n",
              "      <th>Earnings Before Tax Margin</th>\n",
              "      <th>Net Profit Margin</th>\n",
              "      <th>priceToSalesRatio</th>\n",
              "      <th>priceEarningsRatio</th>\n",
              "      <th>priceToFreeCashFlowsRatio</th>\n",
              "      <th>priceToOperatingCashFlowsRatio</th>\n",
              "      <th>priceCashFlowRatio</th>\n",
              "      <th>...</th>\n",
              "      <th>Days of Inventory on Hand</th>\n",
              "      <th>Inventory Turnover</th>\n",
              "      <th>Operating Income Growth</th>\n",
              "      <th>EPS Diluted Growth</th>\n",
              "      <th>Operating Cash Flow growth</th>\n",
              "      <th>Free Cash Flow growth</th>\n",
              "      <th>R&amp;D Expense Growth</th>\n",
              "      <th>PRICE_VAR</th>\n",
              "      <th>Year</th>\n",
              "      <th>Class</th>\n",
              "    </tr>\n",
              "  </thead>\n",
              "  <tbody>\n",
              "    <tr>\n",
              "      <th>column type</th>\n",
              "      <td>float64</td>\n",
              "      <td>float64</td>\n",
              "      <td>float64</td>\n",
              "      <td>float64</td>\n",
              "      <td>float64</td>\n",
              "      <td>float64</td>\n",
              "      <td>float64</td>\n",
              "      <td>float64</td>\n",
              "      <td>float64</td>\n",
              "      <td>float64</td>\n",
              "      <td>...</td>\n",
              "      <td>float64</td>\n",
              "      <td>float64</td>\n",
              "      <td>float64</td>\n",
              "      <td>float64</td>\n",
              "      <td>float64</td>\n",
              "      <td>float64</td>\n",
              "      <td>float64</td>\n",
              "      <td>float64</td>\n",
              "      <td>float64</td>\n",
              "      <td>float64</td>\n",
              "    </tr>\n",
              "    <tr>\n",
              "      <th>null values (nb)</th>\n",
              "      <td>0</td>\n",
              "      <td>0</td>\n",
              "      <td>0</td>\n",
              "      <td>0</td>\n",
              "      <td>0</td>\n",
              "      <td>0</td>\n",
              "      <td>0</td>\n",
              "      <td>0</td>\n",
              "      <td>0</td>\n",
              "      <td>0</td>\n",
              "      <td>...</td>\n",
              "      <td>0</td>\n",
              "      <td>0</td>\n",
              "      <td>0</td>\n",
              "      <td>0</td>\n",
              "      <td>0</td>\n",
              "      <td>0</td>\n",
              "      <td>0</td>\n",
              "      <td>0</td>\n",
              "      <td>0</td>\n",
              "      <td>0</td>\n",
              "    </tr>\n",
              "    <tr>\n",
              "      <th>null values (%)</th>\n",
              "      <td>0.0</td>\n",
              "      <td>0.0</td>\n",
              "      <td>0.0</td>\n",
              "      <td>0.0</td>\n",
              "      <td>0.0</td>\n",
              "      <td>0.0</td>\n",
              "      <td>0.0</td>\n",
              "      <td>0.0</td>\n",
              "      <td>0.0</td>\n",
              "      <td>0.0</td>\n",
              "      <td>...</td>\n",
              "      <td>0.0</td>\n",
              "      <td>0.0</td>\n",
              "      <td>0.0</td>\n",
              "      <td>0.0</td>\n",
              "      <td>0.0</td>\n",
              "      <td>0.0</td>\n",
              "      <td>0.0</td>\n",
              "      <td>0.0</td>\n",
              "      <td>0.0</td>\n",
              "      <td>0.0</td>\n",
              "    </tr>\n",
              "  </tbody>\n",
              "</table>\n",
              "<p>3 rows × 50 columns</p>\n",
              "</div>\n",
              "      <button class=\"colab-df-convert\" onclick=\"convertToInteractive('df-7189ed1a-b35c-4256-8775-df607529f9cd')\"\n",
              "              title=\"Convert this dataframe to an interactive table.\"\n",
              "              style=\"display:none;\">\n",
              "        \n",
              "  <svg xmlns=\"http://www.w3.org/2000/svg\" height=\"24px\"viewBox=\"0 0 24 24\"\n",
              "       width=\"24px\">\n",
              "    <path d=\"M0 0h24v24H0V0z\" fill=\"none\"/>\n",
              "    <path d=\"M18.56 5.44l.94 2.06.94-2.06 2.06-.94-2.06-.94-.94-2.06-.94 2.06-2.06.94zm-11 1L8.5 8.5l.94-2.06 2.06-.94-2.06-.94L8.5 2.5l-.94 2.06-2.06.94zm10 10l.94 2.06.94-2.06 2.06-.94-2.06-.94-.94-2.06-.94 2.06-2.06.94z\"/><path d=\"M17.41 7.96l-1.37-1.37c-.4-.4-.92-.59-1.43-.59-.52 0-1.04.2-1.43.59L10.3 9.45l-7.72 7.72c-.78.78-.78 2.05 0 2.83L4 21.41c.39.39.9.59 1.41.59.51 0 1.02-.2 1.41-.59l7.78-7.78 2.81-2.81c.8-.78.8-2.07 0-2.86zM5.41 20L4 18.59l7.72-7.72 1.47 1.35L5.41 20z\"/>\n",
              "  </svg>\n",
              "      </button>\n",
              "      \n",
              "  <style>\n",
              "    .colab-df-container {\n",
              "      display:flex;\n",
              "      flex-wrap:wrap;\n",
              "      gap: 12px;\n",
              "    }\n",
              "\n",
              "    .colab-df-convert {\n",
              "      background-color: #E8F0FE;\n",
              "      border: none;\n",
              "      border-radius: 50%;\n",
              "      cursor: pointer;\n",
              "      display: none;\n",
              "      fill: #1967D2;\n",
              "      height: 32px;\n",
              "      padding: 0 0 0 0;\n",
              "      width: 32px;\n",
              "    }\n",
              "\n",
              "    .colab-df-convert:hover {\n",
              "      background-color: #E2EBFA;\n",
              "      box-shadow: 0px 1px 2px rgba(60, 64, 67, 0.3), 0px 1px 3px 1px rgba(60, 64, 67, 0.15);\n",
              "      fill: #174EA6;\n",
              "    }\n",
              "\n",
              "    [theme=dark] .colab-df-convert {\n",
              "      background-color: #3B4455;\n",
              "      fill: #D2E3FC;\n",
              "    }\n",
              "\n",
              "    [theme=dark] .colab-df-convert:hover {\n",
              "      background-color: #434B5C;\n",
              "      box-shadow: 0px 1px 3px 1px rgba(0, 0, 0, 0.15);\n",
              "      filter: drop-shadow(0px 1px 2px rgba(0, 0, 0, 0.3));\n",
              "      fill: #FFFFFF;\n",
              "    }\n",
              "  </style>\n",
              "\n",
              "      <script>\n",
              "        const buttonEl =\n",
              "          document.querySelector('#df-7189ed1a-b35c-4256-8775-df607529f9cd button.colab-df-convert');\n",
              "        buttonEl.style.display =\n",
              "          google.colab.kernel.accessAllowed ? 'block' : 'none';\n",
              "\n",
              "        async function convertToInteractive(key) {\n",
              "          const element = document.querySelector('#df-7189ed1a-b35c-4256-8775-df607529f9cd');\n",
              "          const dataTable =\n",
              "            await google.colab.kernel.invokeFunction('convertToInteractive',\n",
              "                                                     [key], {});\n",
              "          if (!dataTable) return;\n",
              "\n",
              "          const docLinkHtml = 'Like what you see? Visit the ' +\n",
              "            '<a target=\"_blank\" href=https://colab.research.google.com/notebooks/data_table.ipynb>data table notebook</a>'\n",
              "            + ' to learn more about interactive tables.';\n",
              "          element.innerHTML = '';\n",
              "          dataTable['output_type'] = 'display_data';\n",
              "          await google.colab.output.renderOutput(dataTable, element);\n",
              "          const docLink = document.createElement('div');\n",
              "          docLink.innerHTML = docLinkHtml;\n",
              "          element.appendChild(docLink);\n",
              "        }\n",
              "      </script>\n",
              "    </div>\n",
              "  </div>\n",
              "  "
            ]
          },
          "metadata": {}
        }
      ],
      "source": [
        "# Data missing information \n",
        "data_info=pd.DataFrame(data.dtypes).T.rename(index={0:'column type'})\n",
        "data_info=data_info.append(pd.DataFrame(data.isnull().sum()).T.rename(index={0:'null values (nb)'}))\n",
        "data_info=data_info.append(pd.DataFrame(data.isnull().sum()/data.shape[0]*100).T.\n",
        "                         rename(index={0:'null values (%)'}))\n",
        "display(data_info)"
      ]
    },
    {
      "cell_type": "code",
      "execution_count": 67,
      "metadata": {
        "colab": {
          "base_uri": "https://localhost:8080/"
        },
        "id": "VF63kpUo-02z",
        "outputId": "314261e1-dea3-45fa-8aac-4b3fc0fd5dca"
      },
      "outputs": [
        {
          "output_type": "execute_result",
          "data": {
            "text/plain": [
              "(4, 1, 5)"
            ]
          },
          "metadata": {},
          "execution_count": 67
        }
      ],
      "source": [
        "# Train Year: 2014 - 2016\n",
        "# Test Year:  2017 - 2018\n",
        "all_year = set(data['Year'].unique())\n",
        "test_year = set(range(2017,2018,1))\n",
        "train_year = all_year - test_year\n",
        "\n",
        "len(train_year), len(test_year), len(all_year)\n",
        "\n",
        "train = data[data['Year'].isin(train_year)]\n",
        "test = data[data['Year'].isin(test_year)]"
      ]
    },
    {
      "cell_type": "code",
      "source": [
        "class_ratio = len(train[train['Class']==1]) / len(train.index)\n",
        "class_ratio\n",
        "\n",
        "len(test) / len(data)\n",
        "len(train) / len(data)"
      ],
      "metadata": {
        "colab": {
          "base_uri": "https://localhost:8080/"
        },
        "id": "AZNnAR5iY3Yf",
        "outputId": "062c249c-af8a-4bef-c16a-ec1d7cca7262"
      },
      "execution_count": 69,
      "outputs": [
        {
          "output_type": "execute_result",
          "data": {
            "text/plain": [
              "0.6303090494829702"
            ]
          },
          "metadata": {},
          "execution_count": 69
        },
        {
          "output_type": "execute_result",
          "data": {
            "text/plain": [
              "0.224668206730987"
            ]
          },
          "metadata": {},
          "execution_count": 69
        },
        {
          "output_type": "execute_result",
          "data": {
            "text/plain": [
              "0.775331793269013"
            ]
          },
          "metadata": {},
          "execution_count": 69
        }
      ]
    },
    {
      "cell_type": "code",
      "execution_count": 70,
      "metadata": {
        "colab": {
          "base_uri": "https://localhost:8080/"
        },
        "id": "o0u1L2eo-5-M",
        "outputId": "b9ce6cfe-ff79-473f-c775-90765ec337f5"
      },
      "outputs": [
        {
          "output_type": "stream",
          "name": "stderr",
          "text": [
            "/usr/local/lib/python3.7/dist-packages/pandas/core/frame.py:4913: SettingWithCopyWarning: \n",
            "A value is trying to be set on a copy of a slice from a DataFrame\n",
            "\n",
            "See the caveats in the documentation: https://pandas.pydata.org/pandas-docs/stable/user_guide/indexing.html#returning-a-view-versus-a-copy\n",
            "  errors=errors,\n"
          ]
        }
      ],
      "source": [
        "data.drop(['Year','PRICE_VAR'], axis=1, inplace=True)\n",
        "train.drop(['Year','PRICE_VAR'], axis=1, inplace=True)\n",
        "test.drop(['Year','PRICE_VAR'], axis=1, inplace=True)"
      ]
    },
    {
      "cell_type": "code",
      "execution_count": 71,
      "metadata": {
        "colab": {
          "base_uri": "https://localhost:8080/"
        },
        "id": "CbWIaj7u_E7e",
        "outputId": "5b1cca6e-0c33-4f92-8eab-2b6705e5234f"
      },
      "outputs": [
        {
          "output_type": "stream",
          "name": "stdout",
          "text": [
            "Index(['EBITDA Margin', 'EBIT Margin', 'Profit Margin',\n",
            "       'Earnings Before Tax Margin', 'Net Profit Margin', 'priceToSalesRatio',\n",
            "       'priceEarningsRatio', 'priceToFreeCashFlowsRatio',\n",
            "       'priceToOperatingCashFlowsRatio', 'priceCashFlowRatio',\n",
            "       'priceEarningsToGrowthRatio', 'priceSalesRatio',\n",
            "       'enterpriseValueMultiple', 'ebtperEBIT', 'eBTperEBIT',\n",
            "       'inventoryTurnover', 'fixedAssetTurnover', 'currentRatio', 'quickRatio',\n",
            "       'daysOfSalesOutstanding', 'operatingCycle', 'daysOfPayablesOutstanding',\n",
            "       'cashConversionCycle', 'interestCoverage', 'cashFlowToDebtRatio',\n",
            "       'operatingCashFlowSalesRatio', 'cashFlowCoverageRatios',\n",
            "       'capitalExpenditureCoverageRatios',\n",
            "       'dividendpaidAndCapexCoverageRatios', 'dividendPayoutRatio',\n",
            "       'EV to Sales', 'Enterprise Value over EBITDA',\n",
            "       'EV to Operating cash flow', 'EV to Free cash flow', 'Earnings Yield',\n",
            "       'Net Debt to EBITDA', 'Interest Coverage', 'Income Quality',\n",
            "       'Graham Number', 'Graham Net-Net', 'Days of Inventory on Hand',\n",
            "       'Inventory Turnover', 'Operating Income Growth', 'EPS Diluted Growth',\n",
            "       'Operating Cash Flow growth', 'Free Cash Flow growth',\n",
            "       'R&D Expense Growth', 'Class'],\n",
            "      dtype='object')\n",
            "Index(['EBITDA Margin', 'EBIT Margin', 'Profit Margin',\n",
            "       'Earnings Before Tax Margin', 'Net Profit Margin', 'priceToSalesRatio',\n",
            "       'priceEarningsRatio', 'priceToFreeCashFlowsRatio',\n",
            "       'priceToOperatingCashFlowsRatio', 'priceCashFlowRatio',\n",
            "       'priceEarningsToGrowthRatio', 'priceSalesRatio',\n",
            "       'enterpriseValueMultiple', 'ebtperEBIT', 'eBTperEBIT',\n",
            "       'inventoryTurnover', 'fixedAssetTurnover', 'currentRatio', 'quickRatio',\n",
            "       'daysOfSalesOutstanding', 'operatingCycle', 'daysOfPayablesOutstanding',\n",
            "       'cashConversionCycle', 'interestCoverage', 'cashFlowToDebtRatio',\n",
            "       'operatingCashFlowSalesRatio', 'cashFlowCoverageRatios',\n",
            "       'capitalExpenditureCoverageRatios',\n",
            "       'dividendpaidAndCapexCoverageRatios', 'dividendPayoutRatio',\n",
            "       'EV to Sales', 'Enterprise Value over EBITDA',\n",
            "       'EV to Operating cash flow', 'EV to Free cash flow', 'Earnings Yield',\n",
            "       'Net Debt to EBITDA', 'Interest Coverage', 'Income Quality',\n",
            "       'Graham Number', 'Graham Net-Net', 'Days of Inventory on Hand',\n",
            "       'Inventory Turnover', 'Operating Income Growth', 'EPS Diluted Growth',\n",
            "       'Operating Cash Flow growth', 'Free Cash Flow growth',\n",
            "       'R&D Expense Growth', 'Class'],\n",
            "      dtype='object')\n",
            "Index(['EBITDA Margin', 'EBIT Margin', 'Profit Margin',\n",
            "       'Earnings Before Tax Margin', 'Net Profit Margin', 'priceToSalesRatio',\n",
            "       'priceEarningsRatio', 'priceToFreeCashFlowsRatio',\n",
            "       'priceToOperatingCashFlowsRatio', 'priceCashFlowRatio',\n",
            "       'priceEarningsToGrowthRatio', 'priceSalesRatio',\n",
            "       'enterpriseValueMultiple', 'ebtperEBIT', 'eBTperEBIT',\n",
            "       'inventoryTurnover', 'fixedAssetTurnover', 'currentRatio', 'quickRatio',\n",
            "       'daysOfSalesOutstanding', 'operatingCycle', 'daysOfPayablesOutstanding',\n",
            "       'cashConversionCycle', 'interestCoverage', 'cashFlowToDebtRatio',\n",
            "       'operatingCashFlowSalesRatio', 'cashFlowCoverageRatios',\n",
            "       'capitalExpenditureCoverageRatios',\n",
            "       'dividendpaidAndCapexCoverageRatios', 'dividendPayoutRatio',\n",
            "       'EV to Sales', 'Enterprise Value over EBITDA',\n",
            "       'EV to Operating cash flow', 'EV to Free cash flow', 'Earnings Yield',\n",
            "       'Net Debt to EBITDA', 'Interest Coverage', 'Income Quality',\n",
            "       'Graham Number', 'Graham Net-Net', 'Days of Inventory on Hand',\n",
            "       'Inventory Turnover', 'Operating Income Growth', 'EPS Diluted Growth',\n",
            "       'Operating Cash Flow growth', 'Free Cash Flow growth',\n",
            "       'R&D Expense Growth', 'Class'],\n",
            "      dtype='object')\n"
          ]
        }
      ],
      "source": [
        "test2=test.copy()\n",
        "print(test.columns)\n",
        "print(test2.columns)\n",
        "print(data.columns)"
      ]
    },
    {
      "cell_type": "code",
      "execution_count": 55,
      "metadata": {
        "colab": {
          "base_uri": "https://localhost:8080/"
        },
        "id": "T9Ez-52e_ln6",
        "outputId": "e0c27eb6-7e5f-4686-984d-d6b52fef527a"
      },
      "outputs": [
        {
          "output_type": "stream",
          "name": "stderr",
          "text": [
            "/usr/local/lib/python3.7/dist-packages/ipykernel_launcher.py:2: SettingWithCopyWarning: \n",
            "A value is trying to be set on a copy of a slice from a DataFrame.\n",
            "Try using .loc[row_indexer,col_indexer] = value instead\n",
            "\n",
            "See the caveats in the documentation: https://pandas.pydata.org/pandas-docs/stable/user_guide/indexing.html#returning-a-view-versus-a-copy\n",
            "  \n",
            "/usr/local/lib/python3.7/dist-packages/ipykernel_launcher.py:3: SettingWithCopyWarning: \n",
            "A value is trying to be set on a copy of a slice from a DataFrame.\n",
            "Try using .loc[row_indexer,col_indexer] = value instead\n",
            "\n",
            "See the caveats in the documentation: https://pandas.pydata.org/pandas-docs/stable/user_guide/indexing.html#returning-a-view-versus-a-copy\n",
            "  This is separate from the ipykernel package so we can avoid doing imports until\n"
          ]
        }
      ],
      "source": [
        "data['Class']= data['Class'].astype('int64')\n",
        "train['Class']= train['Class'].astype('int64')\n",
        "test['Class']= test['Class'].astype('int64')"
      ]
    },
    {
      "cell_type": "markdown",
      "metadata": {
        "id": "diL_eACwFrO6"
      },
      "source": [
        "# **MLP Classifier**"
      ]
    },
    {
      "cell_type": "code",
      "execution_count": 72,
      "metadata": {
        "colab": {
          "base_uri": "https://localhost:8080/"
        },
        "id": "hHymRmhfCtif",
        "outputId": "a0af22af-f9db-4756-d573-1c1c507207fe"
      },
      "outputs": [
        {
          "output_type": "stream",
          "name": "stderr",
          "text": [
            "/usr/local/lib/python3.7/dist-packages/sklearn/neural_network/_multilayer_perceptron.py:549: ConvergenceWarning: lbfgs failed to converge (status=1):\n",
            "STOP: TOTAL NO. of ITERATIONS REACHED LIMIT.\n",
            "\n",
            "Increase the number of iterations (max_iter) or scale the data as shown in:\n",
            "    https://scikit-learn.org/stable/modules/preprocessing.html\n",
            "  self.n_iter_ = _check_optimize_result(\"lbfgs\", opt_res, self.max_iter)\n"
          ]
        }
      ],
      "source": [
        "from sklearn.neural_network import MLPClassifier\n",
        "X_train=train.drop('Class', axis=1)\n",
        "Y_train=train['Class']\n",
        "clf = MLPClassifier(random_state=1, hidden_layer_sizes=150,activation='logistic', solver='lbfgs',alpha=0.2, learning_rate='adaptive',max_iter=300).fit(X_train, Y_train)"
      ]
    },
    {
      "cell_type": "code",
      "execution_count": 73,
      "metadata": {
        "id": "95KGfoP1C30U"
      },
      "outputs": [],
      "source": [
        "pred=clf.predict(test2.drop('Class', axis=1))"
      ]
    },
    {
      "cell_type": "code",
      "execution_count": 74,
      "metadata": {
        "colab": {
          "base_uri": "https://localhost:8080/"
        },
        "id": "BMTsnpIdDFMB",
        "outputId": "7fedd8bd-f5d6-4e47-8af8-87c0a181f2ce"
      },
      "outputs": [
        {
          "output_type": "execute_result",
          "data": {
            "text/plain": [
              "array([[1204,  501],\n",
              "       [2386,  869]])"
            ]
          },
          "metadata": {},
          "execution_count": 74
        }
      ],
      "source": [
        "confusion_matrix(pred, test['Class'])"
      ]
    },
    {
      "cell_type": "code",
      "execution_count": 75,
      "metadata": {
        "colab": {
          "base_uri": "https://localhost:8080/"
        },
        "id": "EsMdZYzZDumE",
        "outputId": "17d8d2d4-42a6-4c9e-bdda-ee4ab2e2236c"
      },
      "outputs": [
        {
          "output_type": "execute_result",
          "data": {
            "text/plain": [
              "0.4848413069556554"
            ]
          },
          "metadata": {},
          "execution_count": 75
        }
      ],
      "source": [
        "from sklearn.metrics import roc_auc_score, classification_report\n",
        "roc_auc_score(test['Class'], pred)"
      ]
    },
    {
      "cell_type": "code",
      "execution_count": 76,
      "metadata": {
        "colab": {
          "base_uri": "https://localhost:8080/"
        },
        "id": "paxv5sgrDwcF",
        "outputId": "2265cdd6-dd39-49eb-8de8-c95ac950a498"
      },
      "outputs": [
        {
          "output_type": "stream",
          "name": "stdout",
          "text": [
            "              precision    recall  f1-score   support\n",
            "\n",
            "         0.0       0.34      0.71      0.45      1705\n",
            "         1.0       0.63      0.27      0.38      3255\n",
            "\n",
            "    accuracy                           0.42      4960\n",
            "   macro avg       0.48      0.49      0.42      4960\n",
            "weighted avg       0.53      0.42      0.40      4960\n",
            "\n"
          ]
        }
      ],
      "source": [
        "print(classification_report(pred,test['Class']))"
      ]
    },
    {
      "cell_type": "markdown",
      "metadata": {
        "id": "mmMDYUcPFx1V"
      },
      "source": [
        "# Decision Tree Classifier"
      ]
    },
    {
      "cell_type": "code",
      "execution_count": 77,
      "metadata": {
        "id": "SWvzfb9tGISy"
      },
      "outputs": [],
      "source": [
        "from sklearn.model_selection import cross_val_score\n",
        "from sklearn.tree import DecisionTreeClassifier\n",
        "clf = DecisionTreeClassifier(random_state=0)\n",
        "clf = clf.fit(X_train,Y_train)\n",
        "#Predict the response for test dataset\n",
        "y_pred = clf.predict(test2.drop('Class', axis=1))"
      ]
    },
    {
      "cell_type": "code",
      "execution_count": 78,
      "metadata": {
        "colab": {
          "base_uri": "https://localhost:8080/"
        },
        "id": "feb02RGyHqd6",
        "outputId": "26d94442-72db-4092-e8df-e49ded2f6aff"
      },
      "outputs": [
        {
          "output_type": "stream",
          "name": "stdout",
          "text": [
            "              precision    recall  f1-score   support\n",
            "\n",
            "         0.0       0.44      0.72      0.55      2178\n",
            "         1.0       0.56      0.28      0.37      2782\n",
            "\n",
            "    accuracy                           0.47      4960\n",
            "   macro avg       0.50      0.50      0.46      4960\n",
            "weighted avg       0.51      0.47      0.45      4960\n",
            "\n"
          ]
        }
      ],
      "source": [
        "print(classification_report(y_pred,test['Class']))"
      ]
    },
    {
      "cell_type": "code",
      "execution_count": 79,
      "metadata": {
        "colab": {
          "base_uri": "https://localhost:8080/"
        },
        "id": "HLrNotauHl0_",
        "outputId": "500f1fbf-a56d-47fd-b608-14f1ef5d945f"
      },
      "outputs": [
        {
          "output_type": "execute_result",
          "data": {
            "text/plain": [
              "0.49979057804525956"
            ]
          },
          "metadata": {},
          "execution_count": 79
        }
      ],
      "source": [
        "roc_auc_score(test['Class'], y_pred)"
      ]
    },
    {
      "cell_type": "code",
      "execution_count": 80,
      "metadata": {
        "colab": {
          "base_uri": "https://localhost:8080/"
        },
        "id": "n3ayNjnJGwFa",
        "outputId": "9c794775-925c-4da6-8b2e-3dc3defe101e"
      },
      "outputs": [
        {
          "output_type": "execute_result",
          "data": {
            "text/plain": [
              "array([[1576,  602],\n",
              "       [2014,  768]])"
            ]
          },
          "metadata": {},
          "execution_count": 80
        }
      ],
      "source": [
        "confusion_matrix(y_pred, test['Class'])"
      ]
    },
    {
      "cell_type": "markdown",
      "metadata": {
        "id": "RqAjC8pNH__4"
      },
      "source": [
        "# **Random Forest Classifier**"
      ]
    },
    {
      "cell_type": "code",
      "execution_count": 81,
      "metadata": {
        "colab": {
          "base_uri": "https://localhost:8080/"
        },
        "id": "fIQ3m7V1IHJD",
        "outputId": "0b4fb8f8-4cd3-4beb-e0ac-95724f80c6ae"
      },
      "outputs": [
        {
          "output_type": "execute_result",
          "data": {
            "text/plain": [
              "RandomForestClassifier()"
            ]
          },
          "metadata": {},
          "execution_count": 81
        }
      ],
      "source": [
        "from sklearn.ensemble import RandomForestClassifier\n",
        "#Create a Gaussian Classifier\n",
        "clf=RandomForestClassifier(n_estimators=100)\n",
        "#Train the model using the training sets y_pred=clf.predict(X_test)\n",
        "clf.fit(X_train,Y_train)\n",
        "y_pred = clf.predict(test2.drop('Class', axis=1))"
      ]
    },
    {
      "cell_type": "code",
      "execution_count": 82,
      "metadata": {
        "colab": {
          "base_uri": "https://localhost:8080/"
        },
        "id": "4nwG1P7rJBNa",
        "outputId": "e459192b-8155-4efc-929b-bb0d9ab61df9"
      },
      "outputs": [
        {
          "output_type": "stream",
          "name": "stdout",
          "text": [
            "              precision    recall  f1-score   support\n",
            "\n",
            "         0.0       0.23      0.75      0.36      1106\n",
            "         1.0       0.80      0.28      0.42      3854\n",
            "\n",
            "    accuracy                           0.39      4960\n",
            "   macro avg       0.52      0.52      0.39      4960\n",
            "weighted avg       0.67      0.39      0.41      4960\n",
            "\n"
          ]
        }
      ],
      "source": [
        "print(classification_report(y_pred,test['Class']))"
      ]
    },
    {
      "cell_type": "code",
      "execution_count": 83,
      "metadata": {
        "colab": {
          "base_uri": "https://localhost:8080/"
        },
        "id": "IfCmvDKSJCEX",
        "outputId": "256e29a1-6cab-486a-8381-e4ace3e3e821"
      },
      "outputs": [
        {
          "output_type": "execute_result",
          "data": {
            "text/plain": [
              "array([[1204,  501],\n",
              "       [2386,  869]])"
            ]
          },
          "metadata": {},
          "execution_count": 83
        }
      ],
      "source": [
        "confusion_matrix(pred, test['Class'])"
      ]
    },
    {
      "cell_type": "code",
      "execution_count": 84,
      "metadata": {
        "colab": {
          "base_uri": "https://localhost:8080/"
        },
        "id": "Oe2rg7s7JCQs",
        "outputId": "d3ba3182-fc38-4a16-c4d5-12859341aeb6"
      },
      "outputs": [
        {
          "output_type": "execute_result",
          "data": {
            "text/plain": [
              "0.5168859158652379"
            ]
          },
          "metadata": {},
          "execution_count": 84
        }
      ],
      "source": [
        "roc_auc_score(test['Class'], y_pred)"
      ]
    },
    {
      "cell_type": "markdown",
      "metadata": {
        "id": "Z50fa7GzJTk1"
      },
      "source": [
        "# **Logistic Regression**"
      ]
    },
    {
      "cell_type": "code",
      "execution_count": 85,
      "metadata": {
        "colab": {
          "base_uri": "https://localhost:8080/"
        },
        "id": "EuX-4osbJmuT",
        "outputId": "c05ad97f-957f-401d-dfb4-80fe15cf70e8"
      },
      "outputs": [
        {
          "output_type": "stream",
          "name": "stderr",
          "text": [
            "/usr/local/lib/python3.7/dist-packages/sklearn/linear_model/_logistic.py:818: ConvergenceWarning: lbfgs failed to converge (status=1):\n",
            "STOP: TOTAL NO. of ITERATIONS REACHED LIMIT.\n",
            "\n",
            "Increase the number of iterations (max_iter) or scale the data as shown in:\n",
            "    https://scikit-learn.org/stable/modules/preprocessing.html\n",
            "Please also refer to the documentation for alternative solver options:\n",
            "    https://scikit-learn.org/stable/modules/linear_model.html#logistic-regression\n",
            "  extra_warning_msg=_LOGISTIC_SOLVER_CONVERGENCE_MSG,\n"
          ]
        },
        {
          "output_type": "execute_result",
          "data": {
            "text/plain": [
              "LogisticRegression()"
            ]
          },
          "metadata": {},
          "execution_count": 85
        }
      ],
      "source": [
        "from sklearn.linear_model import LogisticRegression\n",
        "\n",
        "# instantiate the model (using the default parameters)\n",
        "logreg = LogisticRegression()\n",
        "\n",
        "# fit the model with data\n",
        "logreg.fit(X_train,Y_train)\n",
        "\n",
        "#\n",
        "y_pred=logreg.predict(test2.drop('Class', axis=1))"
      ]
    },
    {
      "cell_type": "code",
      "execution_count": 86,
      "metadata": {
        "colab": {
          "base_uri": "https://localhost:8080/"
        },
        "id": "1MNCV2yqJv3L",
        "outputId": "e5ca0c2f-7dac-4f81-bdaa-edabda289b19"
      },
      "outputs": [
        {
          "output_type": "stream",
          "name": "stdout",
          "text": [
            "              precision    recall  f1-score   support\n",
            "\n",
            "         0.0       0.00      1.00      0.01        13\n",
            "         1.0       1.00      0.28      0.43      4947\n",
            "\n",
            "    accuracy                           0.28      4960\n",
            "   macro avg       0.50      0.64      0.22      4960\n",
            "weighted avg       1.00      0.28      0.43      4960\n",
            "\n"
          ]
        }
      ],
      "source": [
        "print(classification_report(y_pred,test['Class']))"
      ]
    },
    {
      "cell_type": "code",
      "execution_count": 87,
      "metadata": {
        "colab": {
          "base_uri": "https://localhost:8080/"
        },
        "id": "LPEh40tkJx4O",
        "outputId": "326a360b-987b-4252-f944-bf2171664c93"
      },
      "outputs": [
        {
          "output_type": "execute_result",
          "data": {
            "text/plain": [
              "array([[1204,  501],\n",
              "       [2386,  869]])"
            ]
          },
          "metadata": {},
          "execution_count": 87
        }
      ],
      "source": [
        "confusion_matrix(pred, test['Class'])"
      ]
    },
    {
      "cell_type": "code",
      "execution_count": 88,
      "metadata": {
        "colab": {
          "base_uri": "https://localhost:8080/"
        },
        "id": "KTTNN0_yJ2iZ",
        "outputId": "6b51dcb6-b915-48a2-b50d-b6dcb49fcbf9"
      },
      "outputs": [
        {
          "output_type": "execute_result",
          "data": {
            "text/plain": [
              "0.5018105849582173"
            ]
          },
          "metadata": {},
          "execution_count": 88
        }
      ],
      "source": [
        "roc_auc_score(test['Class'], y_pred)"
      ]
    },
    {
      "cell_type": "markdown",
      "metadata": {
        "id": "dXnmXP6aKB0H"
      },
      "source": [
        "# **Ada Boost**"
      ]
    },
    {
      "cell_type": "code",
      "execution_count": 89,
      "metadata": {
        "id": "Ha4jq0L0KKEm"
      },
      "outputs": [],
      "source": [
        "from sklearn.ensemble import AdaBoostClassifier\n",
        "# Create adaboost classifer object\n",
        "abc = AdaBoostClassifier(n_estimators=50,\n",
        "                         learning_rate=1)\n",
        "# Train Adaboost Classifer\n",
        "model = abc.fit(X_train, Y_train)\n",
        "\n",
        "#Predict the response for test dataset\n",
        "y_pred = model.predict(test2.drop('Class', axis=1))"
      ]
    },
    {
      "cell_type": "code",
      "source": [
        "train_x=X_train\n",
        "train_y=Y_train\n",
        "test_x=test2.drop('Class', axis=1)\n",
        "test_y=test['Class']"
      ],
      "metadata": {
        "id": "xvrsMyv1jxaU"
      },
      "execution_count": 90,
      "outputs": []
    },
    {
      "cell_type": "code",
      "execution_count": 91,
      "metadata": {
        "colab": {
          "base_uri": "https://localhost:8080/"
        },
        "id": "k066S5J_K1U8",
        "outputId": "7dde3e60-00e0-44c6-d1ec-6aaa56d3b453"
      },
      "outputs": [
        {
          "output_type": "stream",
          "name": "stdout",
          "text": [
            "              precision    recall  f1-score   support\n",
            "\n",
            "         0.0       0.35      0.73      0.47      1740\n",
            "         1.0       0.65      0.28      0.39      3220\n",
            "\n",
            "    accuracy                           0.44      4960\n",
            "   macro avg       0.50      0.50      0.43      4960\n",
            "weighted avg       0.55      0.44      0.42      4960\n",
            "\n"
          ]
        }
      ],
      "source": [
        "print(classification_report(y_pred,test['Class']))"
      ]
    },
    {
      "cell_type": "code",
      "execution_count": 92,
      "metadata": {
        "colab": {
          "base_uri": "https://localhost:8080/"
        },
        "id": "mUqnGVJqK1rb",
        "outputId": "24dad1a5-8026-4891-b1ac-67d1be2e8e3b"
      },
      "outputs": [
        {
          "output_type": "execute_result",
          "data": {
            "text/plain": [
              "array([[1204,  501],\n",
              "       [2386,  869]])"
            ]
          },
          "metadata": {},
          "execution_count": 92
        }
      ],
      "source": [
        "confusion_matrix(pred, test['Class'])"
      ]
    },
    {
      "cell_type": "code",
      "execution_count": 93,
      "metadata": {
        "colab": {
          "base_uri": "https://localhost:8080/"
        },
        "id": "-p_66NndK15M",
        "outputId": "24f52e83-328b-485b-f594-a4c69a7a28d1"
      },
      "outputs": [
        {
          "output_type": "execute_result",
          "data": {
            "text/plain": [
              "0.502321940507899"
            ]
          },
          "metadata": {},
          "execution_count": 93
        }
      ],
      "source": [
        "roc_auc_score(test['Class'], y_pred)"
      ]
    },
    {
      "cell_type": "markdown",
      "metadata": {
        "id": "PGdBg31xLEwi"
      },
      "source": [
        "GB Classifier"
      ]
    },
    {
      "cell_type": "code",
      "execution_count": 94,
      "metadata": {
        "colab": {
          "base_uri": "https://localhost:8080/"
        },
        "id": "NQzHtUITPZB0",
        "outputId": "4709f4ec-540c-4053-c96e-24fdc1696ca9"
      },
      "outputs": [
        {
          "output_type": "stream",
          "name": "stdout",
          "text": [
            "Accuracy is 42.9233870967742\n",
            "              precision    recall  f1-score   support\n",
            "\n",
            "         0.0       0.72      0.35      0.47      3590\n",
            "         1.0       0.27      0.64      0.38      1370\n",
            "\n",
            "    accuracy                           0.43      4960\n",
            "   macro avg       0.49      0.49      0.43      4960\n",
            "weighted avg       0.59      0.43      0.45      4960\n",
            "\n",
            "[[1255 2335]\n",
            " [ 496  874]]\n"
          ]
        }
      ],
      "source": [
        "from sklearn.linear_model import SGDClassifier, SGDRegressor,LogisticRegression\n",
        "from sklearn.ensemble import RandomForestClassifier, GradientBoostingClassifier\n",
        "basicmodel = GradientBoostingClassifier()\n",
        "basicmodel = basicmodel.fit(train_x, train_y)\n",
        "preds1 = basicmodel.predict(test_x)\n",
        "acc1=accuracy_score(test_y, preds1)\n",
        "print(\"Accuracy is {}\".format(acc1*100))\n",
        "print(classification_report(test_y, preds1))\n",
        "print(confusion_matrix(test_y, preds1))"
      ]
    },
    {
      "cell_type": "markdown",
      "metadata": {
        "id": "pEPBezSqP3Ia"
      },
      "source": [
        "SGD Classifier"
      ]
    },
    {
      "cell_type": "code",
      "execution_count": 95,
      "metadata": {
        "id": "VlxomWEYP14O",
        "colab": {
          "base_uri": "https://localhost:8080/"
        },
        "outputId": "f12547d8-de86-42cd-bb4d-046056bd212c"
      },
      "outputs": [
        {
          "output_type": "stream",
          "name": "stdout",
          "text": [
            "Accuracy is 47.66129032258065\n",
            "              precision    recall  f1-score   support\n",
            "\n",
            "         0.0       0.72      0.45      0.56      3590\n",
            "         1.0       0.27      0.54      0.36      1370\n",
            "\n",
            "    accuracy                           0.48      4960\n",
            "   macro avg       0.50      0.49      0.46      4960\n",
            "weighted avg       0.60      0.48      0.50      4960\n",
            "\n",
            "[[1630 1960]\n",
            " [ 636  734]]\n"
          ]
        },
        {
          "output_type": "stream",
          "name": "stderr",
          "text": [
            "/usr/local/lib/python3.7/dist-packages/sklearn/linear_model/_stochastic_gradient.py:700: ConvergenceWarning: Maximum number of iteration reached before convergence. Consider increasing max_iter to improve the fit.\n",
            "  ConvergenceWarning,\n"
          ]
        }
      ],
      "source": [
        "basicmodel= SGDClassifier(loss='modified_huber', max_iter=5, random_state=0, shuffle=True)\n",
        "basicmodel = basicmodel.fit(train_x, train_y)\n",
        "preds1 = basicmodel.predict(test_x)\n",
        "acc1=accuracy_score(test_y, preds1)\n",
        "print(\"Accuracy is {}\".format(acc1*100))\n",
        "print(classification_report(test_y, preds1))\n",
        "print(confusion_matrix(test_y, preds1))"
      ]
    },
    {
      "cell_type": "markdown",
      "source": [
        "Support Vector Classifier"
      ],
      "metadata": {
        "id": "Y2JRIII4cQGb"
      }
    },
    {
      "cell_type": "code",
      "source": [
        "from sklearn import svm\n",
        "clf = svm.SVC(kernel='linear', C = 1.0)\n",
        "clf= clf.fit(train_x,train_y)\n",
        "preds1=clf.predict(test_x)\n",
        "acc1=accuracy_score(test_y, preds1)\n",
        "print(\"Accuracy is {}\".format(acc1*100))\n",
        "print(classification_report(test_y, preds1))\n",
        "print(confusion_matrix(test_y, preds1))"
      ],
      "metadata": {
        "id": "teehfD2r4Wpq"
      },
      "execution_count": null,
      "outputs": []
    }
  ],
  "metadata": {
    "accelerator": "GPU",
    "colab": {
      "collapsed_sections": [],
      "name": "FInancialRatio_to_StockPriceMovement_Aarthiee_Proj.ipynb",
      "provenance": []
    },
    "kernelspec": {
      "display_name": "Python 3",
      "name": "python3"
    },
    "language_info": {
      "name": "python"
    }
  },
  "nbformat": 4,
  "nbformat_minor": 0
}