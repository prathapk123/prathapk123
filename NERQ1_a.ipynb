{
  "nbformat": 4,
  "nbformat_minor": 0,
  "metadata": {
    "colab": {
      "name": "NERQ1_a.ipynb",
      "provenance": [],
      "collapsed_sections": []
    },
    "kernelspec": {
      "name": "python3",
      "display_name": "Python 3"
    },
    "accelerator": "GPU"
  },
  "cells": [
    {
      "cell_type": "code",
      "metadata": {
        "id": "BINfboLPqcO_"
      },
      "source": [
        "example_document = '''Baidu's Apollo Project is one of the world's leading autonomous driving and AI programs, with one of the largest partner ecosystems and over 100 global partners as of 2018, including BYD, Dongfeng, Microsoft, Intel, Nvidia, Daimler AG, ZTE, Grab, Ford, Hyundai and Honda.'''"
      ],
      "execution_count": null,
      "outputs": []
    },
    {
      "cell_type": "markdown",
      "metadata": {
        "id": "Wjg7Sj3Tt8bz"
      },
      "source": [
        "# Spacy"
      ]
    },
    {
      "cell_type": "code",
      "metadata": {
        "id": "qkg1NC08xVYM",
        "colab": {
          "base_uri": "https://localhost:8080/",
          "height": 938
        },
        "outputId": "450d2a1c-733b-4636-834d-f66453e95315"
      },
      "source": [
        "!python3 -m spacy download en_core_web_lg\n",
        "import spacy"
      ],
      "execution_count": null,
      "outputs": [
        {
          "output_type": "stream",
          "text": [
            "Collecting en_core_web_lg==2.2.5\n",
            "\u001b[?25l  Downloading https://github.com/explosion/spacy-models/releases/download/en_core_web_lg-2.2.5/en_core_web_lg-2.2.5.tar.gz (827.9MB)\n",
            "\u001b[K     |████████████████████████████████| 827.9MB 1.1MB/s \n",
            "\u001b[?25hRequirement already satisfied: spacy>=2.2.2 in /usr/local/lib/python3.7/dist-packages (from en_core_web_lg==2.2.5) (2.2.4)\n",
            "Requirement already satisfied: tqdm<5.0.0,>=4.38.0 in /usr/local/lib/python3.7/dist-packages (from spacy>=2.2.2->en_core_web_lg==2.2.5) (4.41.1)\n",
            "Requirement already satisfied: thinc==7.4.0 in /usr/local/lib/python3.7/dist-packages (from spacy>=2.2.2->en_core_web_lg==2.2.5) (7.4.0)\n",
            "Requirement already satisfied: preshed<3.1.0,>=3.0.2 in /usr/local/lib/python3.7/dist-packages (from spacy>=2.2.2->en_core_web_lg==2.2.5) (3.0.5)\n",
            "Requirement already satisfied: numpy>=1.15.0 in /usr/local/lib/python3.7/dist-packages (from spacy>=2.2.2->en_core_web_lg==2.2.5) (1.19.5)\n",
            "Requirement already satisfied: setuptools in /usr/local/lib/python3.7/dist-packages (from spacy>=2.2.2->en_core_web_lg==2.2.5) (56.0.0)\n",
            "Requirement already satisfied: murmurhash<1.1.0,>=0.28.0 in /usr/local/lib/python3.7/dist-packages (from spacy>=2.2.2->en_core_web_lg==2.2.5) (1.0.5)\n",
            "Requirement already satisfied: wasabi<1.1.0,>=0.4.0 in /usr/local/lib/python3.7/dist-packages (from spacy>=2.2.2->en_core_web_lg==2.2.5) (0.8.2)\n",
            "Requirement already satisfied: srsly<1.1.0,>=1.0.2 in /usr/local/lib/python3.7/dist-packages (from spacy>=2.2.2->en_core_web_lg==2.2.5) (1.0.5)\n",
            "Requirement already satisfied: requests<3.0.0,>=2.13.0 in /usr/local/lib/python3.7/dist-packages (from spacy>=2.2.2->en_core_web_lg==2.2.5) (2.23.0)\n",
            "Requirement already satisfied: cymem<2.1.0,>=2.0.2 in /usr/local/lib/python3.7/dist-packages (from spacy>=2.2.2->en_core_web_lg==2.2.5) (2.0.5)\n",
            "Requirement already satisfied: plac<1.2.0,>=0.9.6 in /usr/local/lib/python3.7/dist-packages (from spacy>=2.2.2->en_core_web_lg==2.2.5) (1.1.3)\n",
            "Requirement already satisfied: catalogue<1.1.0,>=0.0.7 in /usr/local/lib/python3.7/dist-packages (from spacy>=2.2.2->en_core_web_lg==2.2.5) (1.0.0)\n",
            "Requirement already satisfied: blis<0.5.0,>=0.4.0 in /usr/local/lib/python3.7/dist-packages (from spacy>=2.2.2->en_core_web_lg==2.2.5) (0.4.1)\n",
            "Requirement already satisfied: certifi>=2017.4.17 in /usr/local/lib/python3.7/dist-packages (from requests<3.0.0,>=2.13.0->spacy>=2.2.2->en_core_web_lg==2.2.5) (2020.12.5)\n",
            "Requirement already satisfied: idna<3,>=2.5 in /usr/local/lib/python3.7/dist-packages (from requests<3.0.0,>=2.13.0->spacy>=2.2.2->en_core_web_lg==2.2.5) (2.10)\n",
            "Requirement already satisfied: urllib3!=1.25.0,!=1.25.1,<1.26,>=1.21.1 in /usr/local/lib/python3.7/dist-packages (from requests<3.0.0,>=2.13.0->spacy>=2.2.2->en_core_web_lg==2.2.5) (1.24.3)\n",
            "Requirement already satisfied: chardet<4,>=3.0.2 in /usr/local/lib/python3.7/dist-packages (from requests<3.0.0,>=2.13.0->spacy>=2.2.2->en_core_web_lg==2.2.5) (3.0.4)\n",
            "Requirement already satisfied: importlib-metadata>=0.20; python_version < \"3.8\" in /usr/local/lib/python3.7/dist-packages (from catalogue<1.1.0,>=0.0.7->spacy>=2.2.2->en_core_web_lg==2.2.5) (3.10.1)\n",
            "Requirement already satisfied: zipp>=0.5 in /usr/local/lib/python3.7/dist-packages (from importlib-metadata>=0.20; python_version < \"3.8\"->catalogue<1.1.0,>=0.0.7->spacy>=2.2.2->en_core_web_lg==2.2.5) (3.4.1)\n",
            "Requirement already satisfied: typing-extensions>=3.6.4; python_version < \"3.8\" in /usr/local/lib/python3.7/dist-packages (from importlib-metadata>=0.20; python_version < \"3.8\"->catalogue<1.1.0,>=0.0.7->spacy>=2.2.2->en_core_web_lg==2.2.5) (3.7.4.3)\n",
            "Building wheels for collected packages: en-core-web-lg\n",
            "  Building wheel for en-core-web-lg (setup.py) ... \u001b[?25l\u001b[?25hdone\n",
            "  Created wheel for en-core-web-lg: filename=en_core_web_lg-2.2.5-cp37-none-any.whl size=829180944 sha256=a5b7994898df28f97691eb2b795e16751b124137b65cae5bbb4e624731d1e22c\n",
            "  Stored in directory: /tmp/pip-ephem-wheel-cache-7rifo5zq/wheels/2a/c1/a6/fc7a877b1efca9bc6a089d6f506f16d3868408f9ff89f8dbfc\n",
            "Successfully built en-core-web-lg\n",
            "Installing collected packages: en-core-web-lg\n",
            "Successfully installed en-core-web-lg-2.2.5\n",
            "\u001b[38;5;2m✔ Download and installation successful\u001b[0m\n",
            "You can now load the model via spacy.load('en_core_web_lg')\n"
          ],
          "name": "stdout"
        },
        {
          "output_type": "error",
          "ename": "OSError",
          "evalue": "ignored",
          "traceback": [
            "\u001b[0;31m---------------------------------------------------------------------------\u001b[0m",
            "\u001b[0;31mOSError\u001b[0m                                   Traceback (most recent call last)",
            "\u001b[0;32m<ipython-input-5-5cad529a37f6>\u001b[0m in \u001b[0;36m<module>\u001b[0;34m()\u001b[0m\n\u001b[1;32m      1\u001b[0m \u001b[0mget_ipython\u001b[0m\u001b[0;34m(\u001b[0m\u001b[0;34m)\u001b[0m\u001b[0;34m.\u001b[0m\u001b[0msystem\u001b[0m\u001b[0;34m(\u001b[0m\u001b[0;34m'python3 -m spacy download en_core_web_lg'\u001b[0m\u001b[0;34m)\u001b[0m\u001b[0;34m\u001b[0m\u001b[0;34m\u001b[0m\u001b[0m\n\u001b[1;32m      2\u001b[0m \u001b[0;32mimport\u001b[0m \u001b[0mspacy\u001b[0m\u001b[0;34m\u001b[0m\u001b[0;34m\u001b[0m\u001b[0m\n\u001b[0;32m----> 3\u001b[0;31m \u001b[0msp_lg\u001b[0m \u001b[0;34m=\u001b[0m \u001b[0mspacy\u001b[0m\u001b[0;34m.\u001b[0m\u001b[0mload\u001b[0m\u001b[0;34m(\u001b[0m\u001b[0;34m'en_core_web_lg'\u001b[0m\u001b[0;34m)\u001b[0m\u001b[0;34m\u001b[0m\u001b[0;34m\u001b[0m\u001b[0m\n\u001b[0m",
            "\u001b[0;32m/usr/local/lib/python3.7/dist-packages/spacy/__init__.py\u001b[0m in \u001b[0;36mload\u001b[0;34m(name, **overrides)\u001b[0m\n\u001b[1;32m     28\u001b[0m     \u001b[0;32mif\u001b[0m \u001b[0mdepr_path\u001b[0m \u001b[0;32mnot\u001b[0m \u001b[0;32min\u001b[0m \u001b[0;34m(\u001b[0m\u001b[0;32mTrue\u001b[0m\u001b[0;34m,\u001b[0m \u001b[0;32mFalse\u001b[0m\u001b[0;34m,\u001b[0m \u001b[0;32mNone\u001b[0m\u001b[0;34m)\u001b[0m\u001b[0;34m:\u001b[0m\u001b[0;34m\u001b[0m\u001b[0;34m\u001b[0m\u001b[0m\n\u001b[1;32m     29\u001b[0m         \u001b[0mdeprecation_warning\u001b[0m\u001b[0;34m(\u001b[0m\u001b[0mWarnings\u001b[0m\u001b[0;34m.\u001b[0m\u001b[0mW001\u001b[0m\u001b[0;34m.\u001b[0m\u001b[0mformat\u001b[0m\u001b[0;34m(\u001b[0m\u001b[0mpath\u001b[0m\u001b[0;34m=\u001b[0m\u001b[0mdepr_path\u001b[0m\u001b[0;34m)\u001b[0m\u001b[0;34m)\u001b[0m\u001b[0;34m\u001b[0m\u001b[0;34m\u001b[0m\u001b[0m\n\u001b[0;32m---> 30\u001b[0;31m     \u001b[0;32mreturn\u001b[0m \u001b[0mutil\u001b[0m\u001b[0;34m.\u001b[0m\u001b[0mload_model\u001b[0m\u001b[0;34m(\u001b[0m\u001b[0mname\u001b[0m\u001b[0;34m,\u001b[0m \u001b[0;34m**\u001b[0m\u001b[0moverrides\u001b[0m\u001b[0;34m)\u001b[0m\u001b[0;34m\u001b[0m\u001b[0;34m\u001b[0m\u001b[0m\n\u001b[0m\u001b[1;32m     31\u001b[0m \u001b[0;34m\u001b[0m\u001b[0m\n\u001b[1;32m     32\u001b[0m \u001b[0;34m\u001b[0m\u001b[0m\n",
            "\u001b[0;32m/usr/local/lib/python3.7/dist-packages/spacy/util.py\u001b[0m in \u001b[0;36mload_model\u001b[0;34m(name, **overrides)\u001b[0m\n\u001b[1;32m    167\u001b[0m     \u001b[0;32melif\u001b[0m \u001b[0mhasattr\u001b[0m\u001b[0;34m(\u001b[0m\u001b[0mname\u001b[0m\u001b[0;34m,\u001b[0m \u001b[0;34m\"exists\"\u001b[0m\u001b[0;34m)\u001b[0m\u001b[0;34m:\u001b[0m  \u001b[0;31m# Path or Path-like to model data\u001b[0m\u001b[0;34m\u001b[0m\u001b[0;34m\u001b[0m\u001b[0m\n\u001b[1;32m    168\u001b[0m         \u001b[0;32mreturn\u001b[0m \u001b[0mload_model_from_path\u001b[0m\u001b[0;34m(\u001b[0m\u001b[0mname\u001b[0m\u001b[0;34m,\u001b[0m \u001b[0;34m**\u001b[0m\u001b[0moverrides\u001b[0m\u001b[0;34m)\u001b[0m\u001b[0;34m\u001b[0m\u001b[0;34m\u001b[0m\u001b[0m\n\u001b[0;32m--> 169\u001b[0;31m     \u001b[0;32mraise\u001b[0m \u001b[0mIOError\u001b[0m\u001b[0;34m(\u001b[0m\u001b[0mErrors\u001b[0m\u001b[0;34m.\u001b[0m\u001b[0mE050\u001b[0m\u001b[0;34m.\u001b[0m\u001b[0mformat\u001b[0m\u001b[0;34m(\u001b[0m\u001b[0mname\u001b[0m\u001b[0;34m=\u001b[0m\u001b[0mname\u001b[0m\u001b[0;34m)\u001b[0m\u001b[0;34m)\u001b[0m\u001b[0;34m\u001b[0m\u001b[0;34m\u001b[0m\u001b[0m\n\u001b[0m\u001b[1;32m    170\u001b[0m \u001b[0;34m\u001b[0m\u001b[0m\n\u001b[1;32m    171\u001b[0m \u001b[0;34m\u001b[0m\u001b[0m\n",
            "\u001b[0;31mOSError\u001b[0m: [E050] Can't find model 'en_core_web_lg'. It doesn't seem to be a shortcut link, a Python package or a valid path to a data directory."
          ]
        }
      ]
    },
    {
      "cell_type": "code",
      "metadata": {
        "id": "av8qO473jNQV"
      },
      "source": [
        "sp_lg = spacy.load('en') "
      ],
      "execution_count": null,
      "outputs": []
    },
    {
      "cell_type": "code",
      "metadata": {
        "id": "ghnQyFifqqeX"
      },
      "source": [
        "def spacy_large_ner(document):\n",
        "  return {(ent.text.strip(), ent.label_) for ent in sp_lg(document).ents}"
      ],
      "execution_count": null,
      "outputs": []
    },
    {
      "cell_type": "code",
      "metadata": {
        "id": "HSSFSJvVyxOX",
        "colab": {
          "base_uri": "https://localhost:8080/"
        },
        "outputId": "5d32ca27-f769-44bf-90b8-2d9beb02497d"
      },
      "source": [
        "spacy_large_ner(example_document)"
      ],
      "execution_count": null,
      "outputs": [
        {
          "output_type": "execute_result",
          "data": {
            "text/plain": [
              "{('2018', 'DATE'),\n",
              " ('Apollo Project', 'ORG'),\n",
              " ('BYD', 'ORG'),\n",
              " ('Baidu', 'ORG'),\n",
              " ('Daimler AG', 'ORG'),\n",
              " ('Dongfeng', 'PERSON'),\n",
              " ('Ford', 'ORG'),\n",
              " ('Grab', 'ORG'),\n",
              " ('Honda', 'ORG'),\n",
              " ('Hyundai', 'ORG'),\n",
              " ('Intel', 'ORG'),\n",
              " ('Microsoft', 'ORG'),\n",
              " ('Nvidia', 'GPE'),\n",
              " ('ZTE', 'ORG'),\n",
              " ('one', 'CARDINAL'),\n",
              " ('over 100', 'CARDINAL')}"
            ]
          },
          "metadata": {
            "tags": []
          },
          "execution_count": 8
        }
      ]
    },
    {
      "cell_type": "markdown",
      "metadata": {
        "id": "HBqxcYavqoah"
      },
      "source": [
        "# Stanford Core NLP"
      ]
    },
    {
      "cell_type": "code",
      "metadata": {
        "id": "U6in8psMKLMs",
        "colab": {
          "base_uri": "https://localhost:8080/",
          "height": 347
        },
        "outputId": "9d0263e7-b252-4aad-abef-9f978d573fc5"
      },
      "source": [
        "!pip3 install nltk==3.2.4"
      ],
      "execution_count": null,
      "outputs": [
        {
          "output_type": "stream",
          "text": [
            "Collecting nltk==3.2.4\n",
            "\u001b[?25l  Downloading https://files.pythonhosted.org/packages/cd/c2/858e0708b497116ae45cf5c6b1f66984ac60729c61e49df6c1c0b808d1e4/nltk-3.2.4.tar.gz (1.2MB)\n",
            "\r\u001b[K     |▎                               | 10kB 24.3MB/s eta 0:00:01\r\u001b[K     |▋                               | 20kB 30.5MB/s eta 0:00:01\r\u001b[K     |▉                               | 30kB 21.9MB/s eta 0:00:01\r\u001b[K     |█▏                              | 40kB 25.1MB/s eta 0:00:01\r\u001b[K     |█▍                              | 51kB 22.7MB/s eta 0:00:01\r\u001b[K     |█▊                              | 61kB 25.0MB/s eta 0:00:01\r\u001b[K     |██                              | 71kB 18.2MB/s eta 0:00:01\r\u001b[K     |██▎                             | 81kB 19.5MB/s eta 0:00:01\r\u001b[K     |██▌                             | 92kB 17.8MB/s eta 0:00:01\r\u001b[K     |██▉                             | 102kB 18.3MB/s eta 0:00:01\r\u001b[K     |███                             | 112kB 18.3MB/s eta 0:00:01\r\u001b[K     |███▍                            | 122kB 18.3MB/s eta 0:00:01\r\u001b[K     |███▋                            | 133kB 18.3MB/s eta 0:00:01\r\u001b[K     |████                            | 143kB 18.3MB/s eta 0:00:01\r\u001b[K     |████▏                           | 153kB 18.3MB/s eta 0:00:01\r\u001b[K     |████▌                           | 163kB 18.3MB/s eta 0:00:01\r\u001b[K     |████▊                           | 174kB 18.3MB/s eta 0:00:01\r\u001b[K     |█████                           | 184kB 18.3MB/s eta 0:00:01\r\u001b[K     |█████▎                          | 194kB 18.3MB/s eta 0:00:01\r\u001b[K     |█████▋                          | 204kB 18.3MB/s eta 0:00:01\r\u001b[K     |██████                          | 215kB 18.3MB/s eta 0:00:01\r\u001b[K     |██████▏                         | 225kB 18.3MB/s eta 0:00:01\r\u001b[K     |██████▌                         | 235kB 18.3MB/s eta 0:00:01\r\u001b[K     |██████▊                         | 245kB 18.3MB/s eta 0:00:01\r\u001b[K     |███████                         | 256kB 18.3MB/s eta 0:00:01\r\u001b[K     |███████▎                        | 266kB 18.3MB/s eta 0:00:01\r\u001b[K     |███████▋                        | 276kB 18.3MB/s eta 0:00:01\r\u001b[K     |███████▉                        | 286kB 18.3MB/s eta 0:00:01\r\u001b[K     |████████▏                       | 296kB 18.3MB/s eta 0:00:01\r\u001b[K     |████████▍                       | 307kB 18.3MB/s eta 0:00:01\r\u001b[K     |████████▊                       | 317kB 18.3MB/s eta 0:00:01\r\u001b[K     |█████████                       | 327kB 18.3MB/s eta 0:00:01\r\u001b[K     |█████████▎                      | 337kB 18.3MB/s eta 0:00:01\r\u001b[K     |█████████▌                      | 348kB 18.3MB/s eta 0:00:01\r\u001b[K     |█████████▉                      | 358kB 18.3MB/s eta 0:00:01\r\u001b[K     |██████████                      | 368kB 18.3MB/s eta 0:00:01\r\u001b[K     |██████████▍                     | 378kB 18.3MB/s eta 0:00:01\r\u001b[K     |██████████▋                     | 389kB 18.3MB/s eta 0:00:01\r\u001b[K     |███████████                     | 399kB 18.3MB/s eta 0:00:01\r\u001b[K     |███████████▎                    | 409kB 18.3MB/s eta 0:00:01\r\u001b[K     |███████████▌                    | 419kB 18.3MB/s eta 0:00:01\r\u001b[K     |███████████▉                    | 430kB 18.3MB/s eta 0:00:01\r\u001b[K     |████████████                    | 440kB 18.3MB/s eta 0:00:01\r\u001b[K     |████████████▍                   | 450kB 18.3MB/s eta 0:00:01\r\u001b[K     |████████████▋                   | 460kB 18.3MB/s eta 0:00:01\r\u001b[K     |█████████████                   | 471kB 18.3MB/s eta 0:00:01\r\u001b[K     |█████████████▏                  | 481kB 18.3MB/s eta 0:00:01\r\u001b[K     |█████████████▌                  | 491kB 18.3MB/s eta 0:00:01\r\u001b[K     |█████████████▊                  | 501kB 18.3MB/s eta 0:00:01\r\u001b[K     |██████████████                  | 512kB 18.3MB/s eta 0:00:01\r\u001b[K     |██████████████▎                 | 522kB 18.3MB/s eta 0:00:01\r\u001b[K     |██████████████▋                 | 532kB 18.3MB/s eta 0:00:01\r\u001b[K     |██████████████▉                 | 542kB 18.3MB/s eta 0:00:01\r\u001b[K     |███████████████▏                | 552kB 18.3MB/s eta 0:00:01\r\u001b[K     |███████████████▍                | 563kB 18.3MB/s eta 0:00:01\r\u001b[K     |███████████████▊                | 573kB 18.3MB/s eta 0:00:01\r\u001b[K     |████████████████                | 583kB 18.3MB/s eta 0:00:01\r\u001b[K     |████████████████▎               | 593kB 18.3MB/s eta 0:00:01\r\u001b[K     |████████████████▋               | 604kB 18.3MB/s eta 0:00:01\r\u001b[K     |████████████████▉               | 614kB 18.3MB/s eta 0:00:01\r\u001b[K     |█████████████████▏              | 624kB 18.3MB/s eta 0:00:01\r\u001b[K     |█████████████████▍              | 634kB 18.3MB/s eta 0:00:01\r\u001b[K     |█████████████████▊              | 645kB 18.3MB/s eta 0:00:01\r\u001b[K     |██████████████████              | 655kB 18.3MB/s eta 0:00:01\r\u001b[K     |██████████████████▎             | 665kB 18.3MB/s eta 0:00:01\r\u001b[K     |██████████████████▌             | 675kB 18.3MB/s eta 0:00:01\r\u001b[K     |██████████████████▉             | 686kB 18.3MB/s eta 0:00:01\r\u001b[K     |███████████████████             | 696kB 18.3MB/s eta 0:00:01\r\u001b[K     |███████████████████▍            | 706kB 18.3MB/s eta 0:00:01\r\u001b[K     |███████████████████▋            | 716kB 18.3MB/s eta 0:00:01\r\u001b[K     |████████████████████            | 727kB 18.3MB/s eta 0:00:01\r\u001b[K     |████████████████████▏           | 737kB 18.3MB/s eta 0:00:01\r\u001b[K     |████████████████████▌           | 747kB 18.3MB/s eta 0:00:01\r\u001b[K     |████████████████████▊           | 757kB 18.3MB/s eta 0:00:01\r\u001b[K     |█████████████████████           | 768kB 18.3MB/s eta 0:00:01\r\u001b[K     |█████████████████████▎          | 778kB 18.3MB/s eta 0:00:01\r\u001b[K     |█████████████████████▋          | 788kB 18.3MB/s eta 0:00:01\r\u001b[K     |██████████████████████          | 798kB 18.3MB/s eta 0:00:01\r\u001b[K     |██████████████████████▏         | 808kB 18.3MB/s eta 0:00:01\r\u001b[K     |██████████████████████▌         | 819kB 18.3MB/s eta 0:00:01\r\u001b[K     |██████████████████████▊         | 829kB 18.3MB/s eta 0:00:01\r\u001b[K     |███████████████████████         | 839kB 18.3MB/s eta 0:00:01\r\u001b[K     |███████████████████████▎        | 849kB 18.3MB/s eta 0:00:01\r\u001b[K     |███████████████████████▋        | 860kB 18.3MB/s eta 0:00:01\r\u001b[K     |███████████████████████▉        | 870kB 18.3MB/s eta 0:00:01\r\u001b[K     |████████████████████████▏       | 880kB 18.3MB/s eta 0:00:01\r\u001b[K     |████████████████████████▍       | 890kB 18.3MB/s eta 0:00:01\r\u001b[K     |████████████████████████▊       | 901kB 18.3MB/s eta 0:00:01\r\u001b[K     |█████████████████████████       | 911kB 18.3MB/s eta 0:00:01\r\u001b[K     |█████████████████████████▎      | 921kB 18.3MB/s eta 0:00:01\r\u001b[K     |█████████████████████████▌      | 931kB 18.3MB/s eta 0:00:01\r\u001b[K     |█████████████████████████▉      | 942kB 18.3MB/s eta 0:00:01\r\u001b[K     |██████████████████████████      | 952kB 18.3MB/s eta 0:00:01\r\u001b[K     |██████████████████████████▍     | 962kB 18.3MB/s eta 0:00:01\r\u001b[K     |██████████████████████████▋     | 972kB 18.3MB/s eta 0:00:01\r\u001b[K     |███████████████████████████     | 983kB 18.3MB/s eta 0:00:01\r\u001b[K     |███████████████████████████▎    | 993kB 18.3MB/s eta 0:00:01\r\u001b[K     |███████████████████████████▌    | 1.0MB 18.3MB/s eta 0:00:01\r\u001b[K     |███████████████████████████▉    | 1.0MB 18.3MB/s eta 0:00:01\r\u001b[K     |████████████████████████████    | 1.0MB 18.3MB/s eta 0:00:01\r\u001b[K     |████████████████████████████▍   | 1.0MB 18.3MB/s eta 0:00:01\r\u001b[K     |████████████████████████████▋   | 1.0MB 18.3MB/s eta 0:00:01\r\u001b[K     |█████████████████████████████   | 1.1MB 18.3MB/s eta 0:00:01\r\u001b[K     |█████████████████████████████▏  | 1.1MB 18.3MB/s eta 0:00:01\r\u001b[K     |█████████████████████████████▌  | 1.1MB 18.3MB/s eta 0:00:01\r\u001b[K     |█████████████████████████████▊  | 1.1MB 18.3MB/s eta 0:00:01\r\u001b[K     |██████████████████████████████  | 1.1MB 18.3MB/s eta 0:00:01\r\u001b[K     |██████████████████████████████▎ | 1.1MB 18.3MB/s eta 0:00:01\r\u001b[K     |██████████████████████████████▋ | 1.1MB 18.3MB/s eta 0:00:01\r\u001b[K     |██████████████████████████████▉ | 1.1MB 18.3MB/s eta 0:00:01\r\u001b[K     |███████████████████████████████▏| 1.1MB 18.3MB/s eta 0:00:01\r\u001b[K     |███████████████████████████████▍| 1.1MB 18.3MB/s eta 0:00:01\r\u001b[K     |███████████████████████████████▊| 1.2MB 18.3MB/s eta 0:00:01\r\u001b[K     |████████████████████████████████| 1.2MB 18.3MB/s eta 0:00:01\r\u001b[K     |████████████████████████████████| 1.2MB 18.3MB/s \n",
            "\u001b[?25hRequirement already satisfied: six in /usr/local/lib/python3.7/dist-packages (from nltk==3.2.4) (1.15.0)\n",
            "Building wheels for collected packages: nltk\n",
            "  Building wheel for nltk (setup.py) ... \u001b[?25l\u001b[?25hdone\n",
            "  Created wheel for nltk: filename=nltk-3.2.4-cp37-none-any.whl size=1367706 sha256=d01a940ffe43ae152d736e19ecf6ae5894443ea290c000bfbb3c9624cd144483\n",
            "  Stored in directory: /root/.cache/pip/wheels/36/f1/5c/f667347d86a3a534ba4c0127eed4389f929916e3ec88bb461a\n",
            "Successfully built nltk\n",
            "Installing collected packages: nltk\n",
            "  Found existing installation: nltk 3.2.5\n",
            "    Uninstalling nltk-3.2.5:\n",
            "      Successfully uninstalled nltk-3.2.5\n",
            "Successfully installed nltk-3.2.4\n"
          ],
          "name": "stdout"
        },
        {
          "output_type": "display_data",
          "data": {
            "application/vnd.colab-display-data+json": {
              "pip_warning": {
                "packages": [
                  "nltk"
                ]
              }
            }
          },
          "metadata": {
            "tags": []
          }
        }
      ]
    },
    {
      "cell_type": "code",
      "metadata": {
        "id": "W8w7LLsyKAYU",
        "colab": {
          "base_uri": "https://localhost:8080/"
        },
        "outputId": "67553ee5-ec14-4710-f830-438cca984147"
      },
      "source": [
        "!wget http://nlp.stanford.edu/software/stanford-ner-2015-04-20.zip\n",
        "!unzip stanford-ner-2015-04-20.zip "
      ],
      "execution_count": null,
      "outputs": [
        {
          "output_type": "stream",
          "text": [
            "--2021-05-07 15:58:43--  http://nlp.stanford.edu/software/stanford-ner-2015-04-20.zip\n",
            "Resolving nlp.stanford.edu (nlp.stanford.edu)... 171.64.67.140\n",
            "Connecting to nlp.stanford.edu (nlp.stanford.edu)|171.64.67.140|:80... connected.\n",
            "HTTP request sent, awaiting response... 302 Found\n",
            "Location: https://nlp.stanford.edu/software/stanford-ner-2015-04-20.zip [following]\n",
            "--2021-05-07 15:58:43--  https://nlp.stanford.edu/software/stanford-ner-2015-04-20.zip\n",
            "Connecting to nlp.stanford.edu (nlp.stanford.edu)|171.64.67.140|:443... connected.\n",
            "HTTP request sent, awaiting response... 302 FOUND\n",
            "Location: https://downloads.cs.stanford.edu/nlp/software/stanford-ner-2015-04-20.zip [following]\n",
            "--2021-05-07 15:58:43--  https://downloads.cs.stanford.edu/nlp/software/stanford-ner-2015-04-20.zip\n",
            "Resolving downloads.cs.stanford.edu (downloads.cs.stanford.edu)... 171.64.64.22\n",
            "Connecting to downloads.cs.stanford.edu (downloads.cs.stanford.edu)|171.64.64.22|:443... connected.\n",
            "HTTP request sent, awaiting response... 200 OK\n",
            "Length: 176961718 (169M) [application/zip]\n",
            "Saving to: ‘stanford-ner-2015-04-20.zip’\n",
            "\n",
            "stanford-ner-2015-0 100%[===================>] 168.76M  5.07MB/s    in 30s     \n",
            "\n",
            "2021-05-07 15:59:13 (5.60 MB/s) - ‘stanford-ner-2015-04-20.zip’ saved [176961718/176961718]\n",
            "\n",
            "Archive:  stanford-ner-2015-04-20.zip\n",
            "   creating: stanford-ner-2015-04-20/\n",
            "  inflating: stanford-ner-2015-04-20/README.txt  \n",
            "  inflating: stanford-ner-2015-04-20/ner-gui.bat  \n",
            "  inflating: stanford-ner-2015-04-20/build.xml  \n",
            "  inflating: stanford-ner-2015-04-20/stanford-ner-3.5.2.jar  \n",
            "  inflating: stanford-ner-2015-04-20/stanford-ner.jar  \n",
            "  inflating: stanford-ner-2015-04-20/sample-conll-file.txt  \n",
            "  inflating: stanford-ner-2015-04-20/sample.ner.txt  \n",
            "   creating: stanford-ner-2015-04-20/lib/\n",
            "  inflating: stanford-ner-2015-04-20/lib/jollyday-0.4.7.jar  \n",
            "  inflating: stanford-ner-2015-04-20/lib/joda-time.jar  \n",
            "  inflating: stanford-ner-2015-04-20/lib/stanford-ner-resources.jar  \n",
            "  inflating: stanford-ner-2015-04-20/ner-gui.command  \n",
            "  inflating: stanford-ner-2015-04-20/ner.sh  \n",
            "  inflating: stanford-ner-2015-04-20/NERDemo.java  \n",
            "  inflating: stanford-ner-2015-04-20/ner.bat  \n",
            "  inflating: stanford-ner-2015-04-20/stanford-ner-3.5.2-javadoc.jar  \n",
            "   creating: stanford-ner-2015-04-20/classifiers/\n",
            "  inflating: stanford-ner-2015-04-20/classifiers/english.conll.4class.distsim.prop  \n",
            "  inflating: stanford-ner-2015-04-20/classifiers/example.serialized.ncc.ncc.ser.gz  \n",
            "  inflating: stanford-ner-2015-04-20/classifiers/english.muc.7class.distsim.crf.ser.gz  \n",
            "  inflating: stanford-ner-2015-04-20/classifiers/english.conll.4class.distsim.crf.ser.gz  \n",
            "  inflating: stanford-ner-2015-04-20/classifiers/english.muc.7class.distsim.prop  \n",
            "  inflating: stanford-ner-2015-04-20/classifiers/english.all.3class.distsim.prop  \n",
            "  inflating: stanford-ner-2015-04-20/classifiers/example.serialized.ncc.prop  \n",
            "  inflating: stanford-ner-2015-04-20/classifiers/english.all.3class.distsim.crf.ser.gz  \n",
            "  inflating: stanford-ner-2015-04-20/stanford-ner-3.5.2-sources.jar  \n",
            "  inflating: stanford-ner-2015-04-20/sample.txt  \n",
            "  inflating: stanford-ner-2015-04-20/sample-w-time.txt  \n",
            "  inflating: stanford-ner-2015-04-20/ner-gui.sh  \n",
            "  inflating: stanford-ner-2015-04-20/LICENSE.txt  \n"
          ],
          "name": "stdout"
        }
      ]
    },
    {
      "cell_type": "code",
      "metadata": {
        "id": "NSfCCO9PKQ27",
        "colab": {
          "base_uri": "https://localhost:8080/"
        },
        "outputId": "46f9ed02-2a3c-475a-f93f-7093a8a6bad3"
      },
      "source": [
        "from nltk.tag.stanford import StanfordNERTagger\n",
        "jar = \"stanford-ner-2015-04-20/stanford-ner-3.5.2.jar\"\n",
        "model = \"stanford-ner-2015-04-20/classifiers/\" \n",
        "st_3class = StanfordNERTagger(model + \"english.all.3class.distsim.crf.ser.gz\", jar, encoding='utf8') \n",
        "st_4class = StanfordNERTagger(model + \"english.conll.4class.distsim.crf.ser.gz\", jar, encoding='utf8') \n",
        "st_7class = StanfordNERTagger(model + \"english.muc.7class.distsim.crf.ser.gz\", jar, encoding='utf8') "
      ],
      "execution_count": null,
      "outputs": [
        {
          "output_type": "stream",
          "text": [
            "/usr/local/lib/python3.7/dist-packages/nltk/tag/stanford.py:183: DeprecationWarning: \n",
            "The StanfordTokenizer will be deprecated in version 3.2.5.\n",
            "Please use \u001b[91mnltk.tag.corenlp.CoreNLPPOSTagger\u001b[0m or \u001b[91mnltk.tag.corenlp.CoreNLPNERTagger\u001b[0m instead.\n",
            "  '-tokenizerFactory',\n",
            "/usr/local/lib/python3.7/dist-packages/nltk/tag/stanford.py:183: DeprecationWarning: \n",
            "The StanfordTokenizer will be deprecated in version 3.2.5.\n",
            "Please use \u001b[91mnltk.tag.corenlp.CoreNLPPOSTagger\u001b[0m or \u001b[91mnltk.tag.corenlp.CoreNLPNERTagger\u001b[0m instead.\n",
            "  '-tokenizerFactory',\n",
            "/usr/local/lib/python3.7/dist-packages/nltk/tag/stanford.py:183: DeprecationWarning: \n",
            "The StanfordTokenizer will be deprecated in version 3.2.5.\n",
            "Please use \u001b[91mnltk.tag.corenlp.CoreNLPPOSTagger\u001b[0m or \u001b[91mnltk.tag.corenlp.CoreNLPNERTagger\u001b[0m instead.\n",
            "  '-tokenizerFactory',\n"
          ],
          "name": "stderr"
        }
      ]
    },
    {
      "cell_type": "code",
      "metadata": {
        "id": "RYow2ZnRKURv"
      },
      "source": [
        "def stanford_ner(document,model):\n",
        "  if model == 1:\n",
        "    return [(entity,tag) for entity,tag in st_3class.tag(document.split()) if tag != \"O\"]\n",
        "  elif model == 2:\n",
        "    return [(entity,tag) for entity,tag in st_4class.tag(document.split()) if tag != \"O\"]\n",
        "  elif model == 3:\n",
        "    return [(entity,tag) for entity,tag in st_7class.tag(document.split()) if tag != \"O\"]"
      ],
      "execution_count": null,
      "outputs": []
    },
    {
      "cell_type": "code",
      "metadata": {
        "id": "F3tqJYjGKaaP",
        "colab": {
          "base_uri": "https://localhost:8080/"
        },
        "outputId": "abc01538-d73b-4b7b-e3ae-ad49ad0f23ad"
      },
      "source": [
        "stanford_ner(example_document,model=1)"
      ],
      "execution_count": null,
      "outputs": [
        {
          "output_type": "execute_result",
          "data": {
            "text/plain": [
              "[('Hyundai', 'ORGANIZATION')]"
            ]
          },
          "metadata": {
            "tags": []
          },
          "execution_count": 13
        }
      ]
    },
    {
      "cell_type": "code",
      "metadata": {
        "id": "VkPAFGdEOMrl",
        "colab": {
          "base_uri": "https://localhost:8080/"
        },
        "outputId": "414fceee-f95e-4714-c67f-f98004da4a64"
      },
      "source": [
        "stanford_ner(example_document,model=2)"
      ],
      "execution_count": null,
      "outputs": [
        {
          "output_type": "execute_result",
          "data": {
            "text/plain": [
              "[('Apollo', 'ORGANIZATION'),\n",
              " ('Project', 'ORGANIZATION'),\n",
              " ('Daimler', 'ORGANIZATION'),\n",
              " ('Hyundai', 'ORGANIZATION')]"
            ]
          },
          "metadata": {
            "tags": []
          },
          "execution_count": 14
        }
      ]
    },
    {
      "cell_type": "code",
      "metadata": {
        "id": "12cZITULOQ6u",
        "colab": {
          "base_uri": "https://localhost:8080/"
        },
        "outputId": "87a91951-0311-4a0e-83ee-2cb55aa1f338"
      },
      "source": [
        "stanford_ner(example_document,model=3)"
      ],
      "execution_count": null,
      "outputs": [
        {
          "output_type": "execute_result",
          "data": {
            "text/plain": [
              "[('Apollo', 'ORGANIZATION'),\n",
              " ('Project', 'ORGANIZATION'),\n",
              " ('Daimler', 'ORGANIZATION'),\n",
              " ('Hyundai', 'ORGANIZATION'),\n",
              " ('Honda.', 'LOCATION')]"
            ]
          },
          "metadata": {
            "tags": []
          },
          "execution_count": 15
        }
      ]
    }
  ]
}