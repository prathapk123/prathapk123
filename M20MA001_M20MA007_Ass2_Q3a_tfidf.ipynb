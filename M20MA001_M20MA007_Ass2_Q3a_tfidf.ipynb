{
  "nbformat": 4,
  "nbformat_minor": 0,
  "metadata": {
    "kernelspec": {
      "display_name": "Python 3",
      "language": "python",
      "name": "python3"
    },
    "language_info": {
      "codemirror_mode": {
        "name": "ipython",
        "version": 3
      },
      "file_extension": ".py",
      "mimetype": "text/x-python",
      "name": "python",
      "nbconvert_exporter": "python",
      "pygments_lexer": "ipython3",
      "version": "3.6.7"
    },
    "colab": {
      "name": "M20MA001_M20MA007_Ass2_Q3a_tfidf.ipynb",
      "provenance": [],
      "collapsed_sections": [],
      "toc_visible": true
    }
  },
  "cells": [
    {
      "cell_type": "markdown",
      "metadata": {
        "id": "r6ASrmH-iwFI"
      },
      "source": [
        "## **Sentiment analysis using TF-IDF embeddings and LSTM.**\n",
        "\n",
        "\n"
      ]
    },
    {
      "cell_type": "code",
      "metadata": {
        "id": "xZC7zkrEiwFX"
      },
      "source": [
        "import pandas as pd\n",
        "import numpy as np\n",
        "import matplotlib.pyplot as plt\n",
        "%matplotlib inline\n",
        "import seaborn as sns\n",
        "import os\n",
        "import zipfile\n",
        "\n",
        "import tensorflow as tf\n",
        "from tensorflow.keras.preprocessing.text import Tokenizer\n",
        "from tensorflow.keras.preprocessing.sequence import pad_sequences\n",
        "from tensorflow.keras.layers import Embedding \n",
        "from tensorflow.keras.layers import LSTM\n",
        "from tensorflow.keras.layers import Dense\n",
        "from tensorflow.keras.layers import Bidirectional\n",
        "from tensorflow.keras.layers import Dropout\n",
        "from tensorflow.keras.models import Sequential\n",
        "from tensorflow.keras.callbacks import EarlyStopping\n",
        "\n",
        "import keras\n",
        "\n",
        "from keras.models import Model\n",
        "from keras.layers import Dense, Activation, concatenate, Embedding, Input\n",
        "\n",
        "from keras.preprocessing.text import Tokenizer\n",
        "from keras.preprocessing.sequence import pad_sequences\n",
        "from sklearn.model_selection import train_test_split\n",
        "from sklearn.metrics import accuracy_score\n",
        "from sklearn.feature_extraction.text import TfidfVectorizer"
      ],
      "execution_count": 71,
      "outputs": []
    },
    {
      "cell_type": "markdown",
      "metadata": {
        "id": "ltfs6MtgyLlp"
      },
      "source": [
        "Loading the Dataset."
      ]
    },
    {
      "cell_type": "code",
      "metadata": {
        "colab": {
          "base_uri": "https://localhost:8080/",
          "height": 542
        },
        "id": "f82_kFeqiwFc",
        "outputId": "c2f30ccd-3aef-461d-e342-0861879e8b24"
      },
      "source": [
        "df = pd.read_json('/content/Amazon_Instant_Video_5.json', lines = True)\n",
        "df.head()"
      ],
      "execution_count": 72,
      "outputs": [
        {
          "output_type": "execute_result",
          "data": {
            "text/html": [
              "<div>\n",
              "<style scoped>\n",
              "    .dataframe tbody tr th:only-of-type {\n",
              "        vertical-align: middle;\n",
              "    }\n",
              "\n",
              "    .dataframe tbody tr th {\n",
              "        vertical-align: top;\n",
              "    }\n",
              "\n",
              "    .dataframe thead th {\n",
              "        text-align: right;\n",
              "    }\n",
              "</style>\n",
              "<table border=\"1\" class=\"dataframe\">\n",
              "  <thead>\n",
              "    <tr style=\"text-align: right;\">\n",
              "      <th></th>\n",
              "      <th>reviewerID</th>\n",
              "      <th>asin</th>\n",
              "      <th>reviewerName</th>\n",
              "      <th>helpful</th>\n",
              "      <th>reviewText</th>\n",
              "      <th>overall</th>\n",
              "      <th>summary</th>\n",
              "      <th>unixReviewTime</th>\n",
              "      <th>reviewTime</th>\n",
              "    </tr>\n",
              "  </thead>\n",
              "  <tbody>\n",
              "    <tr>\n",
              "      <th>0</th>\n",
              "      <td>A11N155CW1UV02</td>\n",
              "      <td>B000H00VBQ</td>\n",
              "      <td>AdrianaM</td>\n",
              "      <td>[0, 0]</td>\n",
              "      <td>I had big expectations because I love English ...</td>\n",
              "      <td>2</td>\n",
              "      <td>A little bit boring for me</td>\n",
              "      <td>1399075200</td>\n",
              "      <td>05 3, 2014</td>\n",
              "    </tr>\n",
              "    <tr>\n",
              "      <th>1</th>\n",
              "      <td>A3BC8O2KCL29V2</td>\n",
              "      <td>B000H00VBQ</td>\n",
              "      <td>Carol T</td>\n",
              "      <td>[0, 0]</td>\n",
              "      <td>I highly recommend this series. It is a must f...</td>\n",
              "      <td>5</td>\n",
              "      <td>Excellent Grown Up TV</td>\n",
              "      <td>1346630400</td>\n",
              "      <td>09 3, 2012</td>\n",
              "    </tr>\n",
              "    <tr>\n",
              "      <th>2</th>\n",
              "      <td>A60D5HQFOTSOM</td>\n",
              "      <td>B000H00VBQ</td>\n",
              "      <td>Daniel Cooper \"dancoopermedia\"</td>\n",
              "      <td>[0, 1]</td>\n",
              "      <td>This one is a real snoozer. Don't believe anyt...</td>\n",
              "      <td>1</td>\n",
              "      <td>Way too boring for me</td>\n",
              "      <td>1381881600</td>\n",
              "      <td>10 16, 2013</td>\n",
              "    </tr>\n",
              "    <tr>\n",
              "      <th>3</th>\n",
              "      <td>A1RJPIGRSNX4PW</td>\n",
              "      <td>B000H00VBQ</td>\n",
              "      <td>J. Kaplan \"JJ\"</td>\n",
              "      <td>[0, 0]</td>\n",
              "      <td>Mysteries are interesting.  The tension betwee...</td>\n",
              "      <td>4</td>\n",
              "      <td>Robson Green is mesmerizing</td>\n",
              "      <td>1383091200</td>\n",
              "      <td>10 30, 2013</td>\n",
              "    </tr>\n",
              "    <tr>\n",
              "      <th>4</th>\n",
              "      <td>A16XRPF40679KG</td>\n",
              "      <td>B000H00VBQ</td>\n",
              "      <td>Michael Dobey</td>\n",
              "      <td>[1, 1]</td>\n",
              "      <td>This show always is excellent, as far as briti...</td>\n",
              "      <td>5</td>\n",
              "      <td>Robson green and great writing</td>\n",
              "      <td>1234310400</td>\n",
              "      <td>02 11, 2009</td>\n",
              "    </tr>\n",
              "  </tbody>\n",
              "</table>\n",
              "</div>"
            ],
            "text/plain": [
              "       reviewerID        asin  ... unixReviewTime   reviewTime\n",
              "0  A11N155CW1UV02  B000H00VBQ  ...     1399075200   05 3, 2014\n",
              "1  A3BC8O2KCL29V2  B000H00VBQ  ...     1346630400   09 3, 2012\n",
              "2   A60D5HQFOTSOM  B000H00VBQ  ...     1381881600  10 16, 2013\n",
              "3  A1RJPIGRSNX4PW  B000H00VBQ  ...     1383091200  10 30, 2013\n",
              "4  A16XRPF40679KG  B000H00VBQ  ...     1234310400  02 11, 2009\n",
              "\n",
              "[5 rows x 9 columns]"
            ]
          },
          "metadata": {
            "tags": []
          },
          "execution_count": 72
        }
      ]
    },
    {
      "cell_type": "code",
      "metadata": {
        "colab": {
          "base_uri": "https://localhost:8080/"
        },
        "id": "_IRaq8g7EtR8",
        "outputId": "8e3bd251-c047-4569-cf0d-ac8f4431fa3c"
      },
      "source": [
        "len(df)"
      ],
      "execution_count": 73,
      "outputs": [
        {
          "output_type": "execute_result",
          "data": {
            "text/plain": [
              "37126"
            ]
          },
          "metadata": {
            "tags": []
          },
          "execution_count": 73
        }
      ]
    },
    {
      "cell_type": "code",
      "metadata": {
        "id": "ai0ag0JQE2My"
      },
      "source": [
        "df = df.sample(n=10000)"
      ],
      "execution_count": 74,
      "outputs": []
    },
    {
      "cell_type": "code",
      "metadata": {
        "colab": {
          "base_uri": "https://localhost:8080/"
        },
        "id": "TP8B5TbaE7KA",
        "outputId": "a659cd56-c4df-4073-a968-74d6dfa1f98e"
      },
      "source": [
        "len(df)"
      ],
      "execution_count": 75,
      "outputs": [
        {
          "output_type": "execute_result",
          "data": {
            "text/plain": [
              "10000"
            ]
          },
          "metadata": {
            "tags": []
          },
          "execution_count": 75
        }
      ]
    },
    {
      "cell_type": "code",
      "metadata": {
        "id": "8VKhjFyZFECo"
      },
      "source": [
        "df[\"textlength\"] = df[\"reviewText\"].apply(len)"
      ],
      "execution_count": 76,
      "outputs": []
    },
    {
      "cell_type": "code",
      "metadata": {
        "colab": {
          "base_uri": "https://localhost:8080/",
          "height": 290
        },
        "id": "hkU2_ZBtFG9x",
        "outputId": "e140de99-74b5-413a-ac97-8ccc5671cc9e"
      },
      "source": [
        "df.describe()"
      ],
      "execution_count": 77,
      "outputs": [
        {
          "output_type": "execute_result",
          "data": {
            "text/html": [
              "<div>\n",
              "<style scoped>\n",
              "    .dataframe tbody tr th:only-of-type {\n",
              "        vertical-align: middle;\n",
              "    }\n",
              "\n",
              "    .dataframe tbody tr th {\n",
              "        vertical-align: top;\n",
              "    }\n",
              "\n",
              "    .dataframe thead th {\n",
              "        text-align: right;\n",
              "    }\n",
              "</style>\n",
              "<table border=\"1\" class=\"dataframe\">\n",
              "  <thead>\n",
              "    <tr style=\"text-align: right;\">\n",
              "      <th></th>\n",
              "      <th>overall</th>\n",
              "      <th>unixReviewTime</th>\n",
              "      <th>textlength</th>\n",
              "    </tr>\n",
              "  </thead>\n",
              "  <tbody>\n",
              "    <tr>\n",
              "      <th>count</th>\n",
              "      <td>10000.00000</td>\n",
              "      <td>1.000000e+04</td>\n",
              "      <td>10000.000000</td>\n",
              "    </tr>\n",
              "    <tr>\n",
              "      <th>mean</th>\n",
              "      <td>4.20570</td>\n",
              "      <td>1.376630e+09</td>\n",
              "      <td>513.664200</td>\n",
              "    </tr>\n",
              "    <tr>\n",
              "      <th>std</th>\n",
              "      <td>1.12415</td>\n",
              "      <td>3.042675e+07</td>\n",
              "      <td>822.167195</td>\n",
              "    </tr>\n",
              "    <tr>\n",
              "      <th>min</th>\n",
              "      <td>1.00000</td>\n",
              "      <td>1.159661e+09</td>\n",
              "      <td>9.000000</td>\n",
              "    </tr>\n",
              "    <tr>\n",
              "      <th>25%</th>\n",
              "      <td>4.00000</td>\n",
              "      <td>1.367712e+09</td>\n",
              "      <td>145.000000</td>\n",
              "    </tr>\n",
              "    <tr>\n",
              "      <th>50%</th>\n",
              "      <td>5.00000</td>\n",
              "      <td>1.384646e+09</td>\n",
              "      <td>234.500000</td>\n",
              "    </tr>\n",
              "    <tr>\n",
              "      <th>75%</th>\n",
              "      <td>5.00000</td>\n",
              "      <td>1.394064e+09</td>\n",
              "      <td>488.000000</td>\n",
              "    </tr>\n",
              "    <tr>\n",
              "      <th>max</th>\n",
              "      <td>5.00000</td>\n",
              "      <td>1.406074e+09</td>\n",
              "      <td>14804.000000</td>\n",
              "    </tr>\n",
              "  </tbody>\n",
              "</table>\n",
              "</div>"
            ],
            "text/plain": [
              "           overall  unixReviewTime    textlength\n",
              "count  10000.00000    1.000000e+04  10000.000000\n",
              "mean       4.20570    1.376630e+09    513.664200\n",
              "std        1.12415    3.042675e+07    822.167195\n",
              "min        1.00000    1.159661e+09      9.000000\n",
              "25%        4.00000    1.367712e+09    145.000000\n",
              "50%        5.00000    1.384646e+09    234.500000\n",
              "75%        5.00000    1.394064e+09    488.000000\n",
              "max        5.00000    1.406074e+09  14804.000000"
            ]
          },
          "metadata": {
            "tags": []
          },
          "execution_count": 77
        }
      ]
    },
    {
      "cell_type": "code",
      "metadata": {
        "colab": {
          "base_uri": "https://localhost:8080/",
          "height": 559
        },
        "id": "i1E18ikIFN2y",
        "outputId": "5cb58a41-5373-47ce-ce07-50c4169ab793"
      },
      "source": [
        "df.head()"
      ],
      "execution_count": 78,
      "outputs": [
        {
          "output_type": "execute_result",
          "data": {
            "text/html": [
              "<div>\n",
              "<style scoped>\n",
              "    .dataframe tbody tr th:only-of-type {\n",
              "        vertical-align: middle;\n",
              "    }\n",
              "\n",
              "    .dataframe tbody tr th {\n",
              "        vertical-align: top;\n",
              "    }\n",
              "\n",
              "    .dataframe thead th {\n",
              "        text-align: right;\n",
              "    }\n",
              "</style>\n",
              "<table border=\"1\" class=\"dataframe\">\n",
              "  <thead>\n",
              "    <tr style=\"text-align: right;\">\n",
              "      <th></th>\n",
              "      <th>reviewerID</th>\n",
              "      <th>asin</th>\n",
              "      <th>reviewerName</th>\n",
              "      <th>helpful</th>\n",
              "      <th>reviewText</th>\n",
              "      <th>overall</th>\n",
              "      <th>summary</th>\n",
              "      <th>unixReviewTime</th>\n",
              "      <th>reviewTime</th>\n",
              "      <th>textlength</th>\n",
              "    </tr>\n",
              "  </thead>\n",
              "  <tbody>\n",
              "    <tr>\n",
              "      <th>26899</th>\n",
              "      <td>ANGNKTK2J7JFF</td>\n",
              "      <td>B00DENPU6E</td>\n",
              "      <td>Madeline</td>\n",
              "      <td>[1, 1]</td>\n",
              "      <td>Much of the comedy in this movie made me borde...</td>\n",
              "      <td>4</td>\n",
              "      <td>Low Budget and Sometimes Awkward, But Still Qu...</td>\n",
              "      <td>1375488000</td>\n",
              "      <td>08 3, 2013</td>\n",
              "      <td>1292</td>\n",
              "    </tr>\n",
              "    <tr>\n",
              "      <th>10549</th>\n",
              "      <td>ASXB5L2T8LX62</td>\n",
              "      <td>B005K1MJ4E</td>\n",
              "      <td>Edris Cooper</td>\n",
              "      <td>[0, 0]</td>\n",
              "      <td>Just the thing to get me laughing after a hard...</td>\n",
              "      <td>5</td>\n",
              "      <td>Just flat fun</td>\n",
              "      <td>1401667200</td>\n",
              "      <td>06 2, 2014</td>\n",
              "      <td>148</td>\n",
              "    </tr>\n",
              "    <tr>\n",
              "      <th>21832</th>\n",
              "      <td>A3I5WEFXRDWDO3</td>\n",
              "      <td>B00BFQ1OFI</td>\n",
              "      <td>Juan \"Prince Moloch\"</td>\n",
              "      <td>[0, 0]</td>\n",
              "      <td>Although it seemed to be losing some steam thi...</td>\n",
              "      <td>4</td>\n",
              "      <td>Great Police Drama</td>\n",
              "      <td>1394409600</td>\n",
              "      <td>03 10, 2014</td>\n",
              "      <td>160</td>\n",
              "    </tr>\n",
              "    <tr>\n",
              "      <th>27808</th>\n",
              "      <td>A2B4K9929TBP30</td>\n",
              "      <td>B00DVFR8QA</td>\n",
              "      <td>Warren Johnson \"Warren the Camera Guy\"</td>\n",
              "      <td>[0, 4]</td>\n",
              "      <td>I know, I know..... I only managed to watch 5 ...</td>\n",
              "      <td>2</td>\n",
              "      <td>Please, someone write a good show</td>\n",
              "      <td>1378857600</td>\n",
              "      <td>09 11, 2013</td>\n",
              "      <td>1832</td>\n",
              "    </tr>\n",
              "    <tr>\n",
              "      <th>24223</th>\n",
              "      <td>A2MH054G8CRIDZ</td>\n",
              "      <td>B00CDBR1P6</td>\n",
              "      <td>Alliee</td>\n",
              "      <td>[0, 0]</td>\n",
              "      <td>The show is okay. The plot has a serious theme...</td>\n",
              "      <td>3</td>\n",
              "      <td>Some good,  some???????</td>\n",
              "      <td>1367625600</td>\n",
              "      <td>05 4, 2013</td>\n",
              "      <td>438</td>\n",
              "    </tr>\n",
              "  </tbody>\n",
              "</table>\n",
              "</div>"
            ],
            "text/plain": [
              "           reviewerID        asin  ...   reviewTime textlength\n",
              "26899   ANGNKTK2J7JFF  B00DENPU6E  ...   08 3, 2013       1292\n",
              "10549   ASXB5L2T8LX62  B005K1MJ4E  ...   06 2, 2014        148\n",
              "21832  A3I5WEFXRDWDO3  B00BFQ1OFI  ...  03 10, 2014        160\n",
              "27808  A2B4K9929TBP30  B00DVFR8QA  ...  09 11, 2013       1832\n",
              "24223  A2MH054G8CRIDZ  B00CDBR1P6  ...   05 4, 2013        438\n",
              "\n",
              "[5 rows x 10 columns]"
            ]
          },
          "metadata": {
            "tags": []
          },
          "execution_count": 78
        }
      ]
    },
    {
      "cell_type": "code",
      "metadata": {
        "colab": {
          "base_uri": "https://localhost:8080/",
          "height": 542
        },
        "id": "lC_t2G5FFU1Y",
        "outputId": "a92ba9d5-5acc-4786-8507-77b8343812ef"
      },
      "source": [
        "df.tail()"
      ],
      "execution_count": 79,
      "outputs": [
        {
          "output_type": "execute_result",
          "data": {
            "text/html": [
              "<div>\n",
              "<style scoped>\n",
              "    .dataframe tbody tr th:only-of-type {\n",
              "        vertical-align: middle;\n",
              "    }\n",
              "\n",
              "    .dataframe tbody tr th {\n",
              "        vertical-align: top;\n",
              "    }\n",
              "\n",
              "    .dataframe thead th {\n",
              "        text-align: right;\n",
              "    }\n",
              "</style>\n",
              "<table border=\"1\" class=\"dataframe\">\n",
              "  <thead>\n",
              "    <tr style=\"text-align: right;\">\n",
              "      <th></th>\n",
              "      <th>reviewerID</th>\n",
              "      <th>asin</th>\n",
              "      <th>reviewerName</th>\n",
              "      <th>helpful</th>\n",
              "      <th>reviewText</th>\n",
              "      <th>overall</th>\n",
              "      <th>summary</th>\n",
              "      <th>unixReviewTime</th>\n",
              "      <th>reviewTime</th>\n",
              "      <th>textlength</th>\n",
              "    </tr>\n",
              "  </thead>\n",
              "  <tbody>\n",
              "    <tr>\n",
              "      <th>28424</th>\n",
              "      <td>A3PAUB3M715CJC</td>\n",
              "      <td>B00EJLRV6M</td>\n",
              "      <td>the Commish!!!</td>\n",
              "      <td>[0, 0]</td>\n",
              "      <td>my wife loved it !!! wishes more of the shows ...</td>\n",
              "      <td>5</td>\n",
              "      <td>wife</td>\n",
              "      <td>1377216000</td>\n",
              "      <td>08 23, 2013</td>\n",
              "      <td>97</td>\n",
              "    </tr>\n",
              "    <tr>\n",
              "      <th>37002</th>\n",
              "      <td>A19E0OCY1W02LV</td>\n",
              "      <td>B00L86ZKAK</td>\n",
              "      <td>NormaJean James</td>\n",
              "      <td>[1, 2]</td>\n",
              "      <td>This 2nd season is even better than the 1st.</td>\n",
              "      <td>5</td>\n",
              "      <td>Five Stars</td>\n",
              "      <td>1405382400</td>\n",
              "      <td>07 15, 2014</td>\n",
              "      <td>44</td>\n",
              "    </tr>\n",
              "    <tr>\n",
              "      <th>8119</th>\n",
              "      <td>A3D2HAESTLGGDW</td>\n",
              "      <td>B004KPX56C</td>\n",
              "      <td>Jennifer DeBoin</td>\n",
              "      <td>[0, 0]</td>\n",
              "      <td>Has some educational aspects which are a must ...</td>\n",
              "      <td>5</td>\n",
              "      <td>Kids Love this show!</td>\n",
              "      <td>1401321600</td>\n",
              "      <td>05 29, 2014</td>\n",
              "      <td>115</td>\n",
              "    </tr>\n",
              "    <tr>\n",
              "      <th>27060</th>\n",
              "      <td>A1C9N96N2M5D13</td>\n",
              "      <td>B00DKSAIJM</td>\n",
              "      <td>marriedutopianstriver \"Seeker Of Heaven On Earth\"</td>\n",
              "      <td>[1, 1]</td>\n",
              "      <td>\"Devious Maids\" Season 1 pilot episode feature...</td>\n",
              "      <td>5</td>\n",
              "      <td>Complicated Situations</td>\n",
              "      <td>1373068800</td>\n",
              "      <td>07 6, 2013</td>\n",
              "      <td>2230</td>\n",
              "    </tr>\n",
              "    <tr>\n",
              "      <th>24857</th>\n",
              "      <td>A13XLA2DAZHETS</td>\n",
              "      <td>B00CDBTQCW</td>\n",
              "      <td>Ziggy \"Love2read\"</td>\n",
              "      <td>[0, 0]</td>\n",
              "      <td>Interesting seeing the 'inside' of politics, a...</td>\n",
              "      <td>2</td>\n",
              "      <td>Could have been great</td>\n",
              "      <td>1389139200</td>\n",
              "      <td>01 8, 2014</td>\n",
              "      <td>248</td>\n",
              "    </tr>\n",
              "  </tbody>\n",
              "</table>\n",
              "</div>"
            ],
            "text/plain": [
              "           reviewerID        asin  ...   reviewTime textlength\n",
              "28424  A3PAUB3M715CJC  B00EJLRV6M  ...  08 23, 2013         97\n",
              "37002  A19E0OCY1W02LV  B00L86ZKAK  ...  07 15, 2014         44\n",
              "8119   A3D2HAESTLGGDW  B004KPX56C  ...  05 29, 2014        115\n",
              "27060  A1C9N96N2M5D13  B00DKSAIJM  ...   07 6, 2013       2230\n",
              "24857  A13XLA2DAZHETS  B00CDBTQCW  ...   01 8, 2014        248\n",
              "\n",
              "[5 rows x 10 columns]"
            ]
          },
          "metadata": {
            "tags": []
          },
          "execution_count": 79
        }
      ]
    },
    {
      "cell_type": "code",
      "metadata": {
        "colab": {
          "base_uri": "https://localhost:8080/"
        },
        "id": "T8lDnl5GGAhO",
        "outputId": "12e235b7-7021-4055-91d2-ab5bd3eda57c"
      },
      "source": [
        "df['reviewText']"
      ],
      "execution_count": 80,
      "outputs": [
        {
          "output_type": "execute_result",
          "data": {
            "text/plain": [
              "26899    Much of the comedy in this movie made me borde...\n",
              "10549    Just the thing to get me laughing after a hard...\n",
              "21832    Although it seemed to be losing some steam thi...\n",
              "27808    I know, I know..... I only managed to watch 5 ...\n",
              "24223    The show is okay. The plot has a serious theme...\n",
              "                               ...                        \n",
              "28424    my wife loved it !!! wishes more of the shows ...\n",
              "37002         This 2nd season is even better than the 1st.\n",
              "8119     Has some educational aspects which are a must ...\n",
              "27060    \"Devious Maids\" Season 1 pilot episode feature...\n",
              "24857    Interesting seeing the 'inside' of politics, a...\n",
              "Name: reviewText, Length: 10000, dtype: object"
            ]
          },
          "metadata": {
            "tags": []
          },
          "execution_count": 80
        }
      ]
    },
    {
      "cell_type": "code",
      "metadata": {
        "colab": {
          "base_uri": "https://localhost:8080/",
          "height": 199
        },
        "id": "R6PbjGmQiwFg",
        "outputId": "ee465ec4-384b-48d4-b51d-2192aacaa392"
      },
      "source": [
        "df = df[['reviewText', 'overall']]\n",
        "df.head()"
      ],
      "execution_count": 81,
      "outputs": [
        {
          "output_type": "execute_result",
          "data": {
            "text/html": [
              "<div>\n",
              "<style scoped>\n",
              "    .dataframe tbody tr th:only-of-type {\n",
              "        vertical-align: middle;\n",
              "    }\n",
              "\n",
              "    .dataframe tbody tr th {\n",
              "        vertical-align: top;\n",
              "    }\n",
              "\n",
              "    .dataframe thead th {\n",
              "        text-align: right;\n",
              "    }\n",
              "</style>\n",
              "<table border=\"1\" class=\"dataframe\">\n",
              "  <thead>\n",
              "    <tr style=\"text-align: right;\">\n",
              "      <th></th>\n",
              "      <th>reviewText</th>\n",
              "      <th>overall</th>\n",
              "    </tr>\n",
              "  </thead>\n",
              "  <tbody>\n",
              "    <tr>\n",
              "      <th>26899</th>\n",
              "      <td>Much of the comedy in this movie made me borde...</td>\n",
              "      <td>4</td>\n",
              "    </tr>\n",
              "    <tr>\n",
              "      <th>10549</th>\n",
              "      <td>Just the thing to get me laughing after a hard...</td>\n",
              "      <td>5</td>\n",
              "    </tr>\n",
              "    <tr>\n",
              "      <th>21832</th>\n",
              "      <td>Although it seemed to be losing some steam thi...</td>\n",
              "      <td>4</td>\n",
              "    </tr>\n",
              "    <tr>\n",
              "      <th>27808</th>\n",
              "      <td>I know, I know..... I only managed to watch 5 ...</td>\n",
              "      <td>2</td>\n",
              "    </tr>\n",
              "    <tr>\n",
              "      <th>24223</th>\n",
              "      <td>The show is okay. The plot has a serious theme...</td>\n",
              "      <td>3</td>\n",
              "    </tr>\n",
              "  </tbody>\n",
              "</table>\n",
              "</div>"
            ],
            "text/plain": [
              "                                              reviewText  overall\n",
              "26899  Much of the comedy in this movie made me borde...        4\n",
              "10549  Just the thing to get me laughing after a hard...        5\n",
              "21832  Although it seemed to be losing some steam thi...        4\n",
              "27808  I know, I know..... I only managed to watch 5 ...        2\n",
              "24223  The show is okay. The plot has a serious theme...        3"
            ]
          },
          "metadata": {
            "tags": []
          },
          "execution_count": 81
        }
      ]
    },
    {
      "cell_type": "code",
      "metadata": {
        "colab": {
          "base_uri": "https://localhost:8080/",
          "height": 199
        },
        "id": "o1NbZkV4Gi8M",
        "outputId": "b57e3831-846b-479a-f762-f90b0cd50d98"
      },
      "source": [
        "df['overall'] = [1 if overall > 2 else 0 \n",
        "                            for overall in df['overall'].values]\n",
        "df.head()"
      ],
      "execution_count": 82,
      "outputs": [
        {
          "output_type": "execute_result",
          "data": {
            "text/html": [
              "<div>\n",
              "<style scoped>\n",
              "    .dataframe tbody tr th:only-of-type {\n",
              "        vertical-align: middle;\n",
              "    }\n",
              "\n",
              "    .dataframe tbody tr th {\n",
              "        vertical-align: top;\n",
              "    }\n",
              "\n",
              "    .dataframe thead th {\n",
              "        text-align: right;\n",
              "    }\n",
              "</style>\n",
              "<table border=\"1\" class=\"dataframe\">\n",
              "  <thead>\n",
              "    <tr style=\"text-align: right;\">\n",
              "      <th></th>\n",
              "      <th>reviewText</th>\n",
              "      <th>overall</th>\n",
              "    </tr>\n",
              "  </thead>\n",
              "  <tbody>\n",
              "    <tr>\n",
              "      <th>26899</th>\n",
              "      <td>Much of the comedy in this movie made me borde...</td>\n",
              "      <td>1</td>\n",
              "    </tr>\n",
              "    <tr>\n",
              "      <th>10549</th>\n",
              "      <td>Just the thing to get me laughing after a hard...</td>\n",
              "      <td>1</td>\n",
              "    </tr>\n",
              "    <tr>\n",
              "      <th>21832</th>\n",
              "      <td>Although it seemed to be losing some steam thi...</td>\n",
              "      <td>1</td>\n",
              "    </tr>\n",
              "    <tr>\n",
              "      <th>27808</th>\n",
              "      <td>I know, I know..... I only managed to watch 5 ...</td>\n",
              "      <td>0</td>\n",
              "    </tr>\n",
              "    <tr>\n",
              "      <th>24223</th>\n",
              "      <td>The show is okay. The plot has a serious theme...</td>\n",
              "      <td>1</td>\n",
              "    </tr>\n",
              "  </tbody>\n",
              "</table>\n",
              "</div>"
            ],
            "text/plain": [
              "                                              reviewText  overall\n",
              "26899  Much of the comedy in this movie made me borde...        1\n",
              "10549  Just the thing to get me laughing after a hard...        1\n",
              "21832  Although it seemed to be losing some steam thi...        1\n",
              "27808  I know, I know..... I only managed to watch 5 ...        0\n",
              "24223  The show is okay. The plot has a serious theme...        1"
            ]
          },
          "metadata": {
            "tags": []
          },
          "execution_count": 82
        }
      ]
    },
    {
      "cell_type": "code",
      "metadata": {
        "colab": {
          "base_uri": "https://localhost:8080/"
        },
        "id": "_1BLTZ3WiwFj",
        "outputId": "0c13e281-771a-4152-9422-1dbaf7d323b0"
      },
      "source": [
        "df.shape"
      ],
      "execution_count": 83,
      "outputs": [
        {
          "output_type": "execute_result",
          "data": {
            "text/plain": [
              "(10000, 2)"
            ]
          },
          "metadata": {
            "tags": []
          },
          "execution_count": 83
        }
      ]
    },
    {
      "cell_type": "code",
      "metadata": {
        "colab": {
          "base_uri": "https://localhost:8080/"
        },
        "id": "12UIk6IRiwFk",
        "outputId": "14265ffb-c646-4f58-b499-64a6ac908c59"
      },
      "source": [
        "df.info()"
      ],
      "execution_count": 84,
      "outputs": [
        {
          "output_type": "stream",
          "text": [
            "<class 'pandas.core.frame.DataFrame'>\n",
            "Int64Index: 10000 entries, 26899 to 24857\n",
            "Data columns (total 2 columns):\n",
            " #   Column      Non-Null Count  Dtype \n",
            "---  ------      --------------  ----- \n",
            " 0   reviewText  10000 non-null  object\n",
            " 1   overall     10000 non-null  int64 \n",
            "dtypes: int64(1), object(1)\n",
            "memory usage: 234.4+ KB\n"
          ],
          "name": "stdout"
        }
      ]
    },
    {
      "cell_type": "code",
      "metadata": {
        "colab": {
          "base_uri": "https://localhost:8080/"
        },
        "id": "qS1U-rxHiwFo",
        "outputId": "e1a89834-b5f7-4aec-999e-ba571aa7718b"
      },
      "source": [
        "df['overall'].value_counts()"
      ],
      "execution_count": 85,
      "outputs": [
        {
          "output_type": "execute_result",
          "data": {
            "text/plain": [
              "1    9029\n",
              "0     971\n",
              "Name: overall, dtype: int64"
            ]
          },
          "metadata": {
            "tags": []
          },
          "execution_count": 85
        }
      ]
    },
    {
      "cell_type": "markdown",
      "metadata": {
        "id": "JlYeEKw82G3a"
      },
      "source": [
        "Spliting the data into train and test sets:"
      ]
    },
    {
      "cell_type": "code",
      "metadata": {
        "id": "kIsK2H1HiwF5"
      },
      "source": [
        "X = df['reviewText']\n",
        "y = df['overall']\n",
        "\n",
        "X_train_sentences, X_test_sentences, y_train, y_test = train_test_split(X, y, test_size=0.2, random_state = 0)"
      ],
      "execution_count": 86,
      "outputs": []
    },
    {
      "cell_type": "markdown",
      "metadata": {
        "id": "IyZV47F84VMT"
      },
      "source": [
        "**Tokenizing the words.**"
      ]
    },
    {
      "cell_type": "code",
      "metadata": {
        "id": "hMhxzpvm2IJr"
      },
      "source": [
        "vocab_size = 5000\n",
        "embedding_dim = 16\n",
        "max_len = 100\n",
        "trunction_type='post'\n",
        "padding_type='post'\n",
        "oov_token = \"<OOV>\""
      ],
      "execution_count": 124,
      "outputs": []
    },
    {
      "cell_type": "code",
      "metadata": {
        "id": "na6I7ahUbb3r"
      },
      "source": [
        "tfidf = TfidfVectorizer(max_features = 100) \n",
        "tfidf.fit(X_train_sentences)\n",
        "X_tfidf_features = tfidf.transform(X_train_sentences).toarray()\n",
        "Y_tfidf_features = tfidf.transform(X_test_sentences).toarray()\n",
        "tfidf_vector_X_train = X_tfidf_features[:, :, None] #//shape - (3,6,1) \n",
        "tfidf_vector_X_test = Y_tfidf_features[:, :, None] #//shape - (3,6,1)"
      ],
      "execution_count": 137,
      "outputs": []
    },
    {
      "cell_type": "markdown",
      "metadata": {
        "id": "V4C6Eizy0Kv_"
      },
      "source": [
        "`texts_to_sequences` convert the words into sequences so that a complete sequence of numbers can represent every sentence. "
      ]
    },
    {
      "cell_type": "code",
      "metadata": {
        "id": "5Nt-Y4_T-WNv"
      },
      "source": [
        "X_train = tokenize.texts_to_sequences(X_train_sentences)\n",
        "X_test = pad_sequences(X_train, maxlen=max_len)"
      ],
      "execution_count": 126,
      "outputs": []
    },
    {
      "cell_type": "markdown",
      "metadata": {
        "id": "3VLOIF6Q65su"
      },
      "source": [
        "Using `pad_sequences`function to make it uniform."
      ]
    },
    {
      "cell_type": "code",
      "metadata": {
        "id": "lcQnbGpG_De0"
      },
      "source": [
        "X_train_pad = pad_sequences(X_train,maxlen=max_len, padding=padding_type, \n",
        "                            truncating=trunction_type)\n",
        "\n",
        "X_test_pad = pad_sequences(X_test,maxlen=max_len, padding=padding_type, \n",
        "                           truncating=trunction_type)"
      ],
      "execution_count": 127,
      "outputs": []
    },
    {
      "cell_type": "markdown",
      "metadata": {
        "id": "yRsgtzu6iwGG"
      },
      "source": [
        "### **TF-IDF Embedding**\n"
      ]
    },
    {
      "cell_type": "markdown",
      "metadata": {
        "id": "BYAoj9mfDOdL"
      },
      "source": [
        "Finally we create the embedding layer:\n"
      ]
    },
    {
      "cell_type": "code",
      "metadata": {
        "id": "kBQRsvrrdtMf"
      },
      "source": [
        "tfidf_embed=np.asarray(tfidf_features[0])"
      ],
      "execution_count": 128,
      "outputs": []
    },
    {
      "cell_type": "code",
      "metadata": {
        "id": "Qz1tivTtWpN8"
      },
      "source": [
        "embedding_layer = Embedding(vocab_size,\n",
        "                            max_len,\n",
        "                            weights=[tfidf_embed],\n",
        "                            input_length=max_len,\n",
        "                            trainable=False)"
      ],
      "execution_count": 129,
      "outputs": []
    },
    {
      "cell_type": "code",
      "metadata": {
        "colab": {
          "base_uri": "https://localhost:8080/"
        },
        "id": "mii6MXWkXGLA",
        "outputId": "4cc73bf5-fef7-4dab-c6d6-c738b0d05646"
      },
      "source": [
        "embedding_layer"
      ],
      "execution_count": 130,
      "outputs": [
        {
          "output_type": "execute_result",
          "data": {
            "text/plain": [
              "<tensorflow.python.keras.layers.embeddings.Embedding at 0x7fb65b3faa10>"
            ]
          },
          "metadata": {
            "tags": []
          },
          "execution_count": 130
        }
      ]
    },
    {
      "cell_type": "code",
      "metadata": {
        "id": "WfPCNED2gIzm"
      },
      "source": [
        "maxlen=100"
      ],
      "execution_count": 131,
      "outputs": []
    },
    {
      "cell_type": "code",
      "metadata": {
        "id": "eaO-zTfkf65u"
      },
      "source": [
        "vocab_size = len(tokenize.word_index) + 1\n",
        "embedding_size = 16\n",
        "\n",
        "input_tfidf = Input(shape=(300,))\n",
        "input_text = Input(shape=(maxlen,))\n",
        "\n",
        "mean_embedding = keras.layers.Lambda(lambda x: keras.backend.mean(x, axis=1))(embedding)\n",
        "concatenated = concatenate([input_tfidf, mean_embedding])\n",
        "embedding = Embedding(vocab_size, embedding_size, input_length=maxlen)(concatenated)"
      ],
      "execution_count": 132,
      "outputs": []
    },
    {
      "cell_type": "code",
      "metadata": {
        "id": "uymtTnLHggk7"
      },
      "source": [
        "embedding_layer = Embedding(num_words,\n",
        "                            max_len,\n",
        "                            weights=[concatenated],\n",
        "                            input_length=max_len,\n",
        "                            trainable=False)"
      ],
      "execution_count": 133,
      "outputs": []
    },
    {
      "cell_type": "markdown",
      "metadata": {
        "id": "bdcAhZqiDf8X"
      },
      "source": [
        "### **Build the model**"
      ]
    },
    {
      "cell_type": "code",
      "metadata": {
        "id": "60Le6QWPVtsc"
      },
      "source": [
        "embedding_dim = 16"
      ],
      "execution_count": 134,
      "outputs": []
    },
    {
      "cell_type": "code",
      "metadata": {
        "id": "QeoY8ho8Vib-"
      },
      "source": [
        "model = Sequential([\n",
        "    Bidirectional(LSTM(embedding_dim, input_shape=tfidf_vector_X_train.shape[1:],return_sequences=True)), \n",
        "    Bidirectional(LSTM(embedding_dim)),\n",
        "    Dense(6, activation='relu'),\n",
        "    Dense(1, activation='sigmoid')\n",
        "])\n",
        "\n",
        "model.compile(loss='binary_crossentropy',optimizer='adam',metrics=['accuracy'])"
      ],
      "execution_count": 141,
      "outputs": []
    },
    {
      "cell_type": "code",
      "metadata": {
        "colab": {
          "base_uri": "https://localhost:8080/"
        },
        "id": "E9IBbpnPnPuo",
        "outputId": "b2abee1c-ed8d-4430-e663-feca5ebb0182"
      },
      "source": [
        "model.summary()"
      ],
      "execution_count": 147,
      "outputs": [
        {
          "output_type": "stream",
          "text": [
            "Model: \"sequential_18\"\n",
            "_________________________________________________________________\n",
            "Layer (type)                 Output Shape              Param #   \n",
            "=================================================================\n",
            "bidirectional_36 (Bidirectio (None, 100, 32)           2304      \n",
            "_________________________________________________________________\n",
            "bidirectional_37 (Bidirectio (None, 32)                6272      \n",
            "_________________________________________________________________\n",
            "dense_38 (Dense)             (None, 6)                 198       \n",
            "_________________________________________________________________\n",
            "dense_39 (Dense)             (None, 1)                 7         \n",
            "=================================================================\n",
            "Total params: 8,781\n",
            "Trainable params: 8,781\n",
            "Non-trainable params: 0\n",
            "_________________________________________________________________\n"
          ],
          "name": "stdout"
        }
      ]
    },
    {
      "cell_type": "code",
      "metadata": {
        "id": "CKEemntvfaOn"
      },
      "source": [
        "callbacks = EarlyStopping(monitor = 'val_accuracy', \n",
        "                          mode = 'max', \n",
        "                          patience = 10,\n",
        "                          verbose = 1)"
      ],
      "execution_count": 142,
      "outputs": []
    },
    {
      "cell_type": "markdown",
      "metadata": {
        "id": "jyG1Kq8G78iz"
      },
      "source": [
        "Train the model for 5 epochs."
      ]
    },
    {
      "cell_type": "code",
      "metadata": {
        "id": "HD5QDScXDpoT",
        "colab": {
          "base_uri": "https://localhost:8080/"
        },
        "outputId": "760bc6cc-59f1-4553-b4c3-887406b58f12"
      },
      "source": [
        "history = model.fit(tfidf_vector_X_train, y_train,\n",
        "                    batch_size=32,\n",
        "                    epochs=5,\n",
        "                    validation_data=(tfidf_vector_X_test, y_test),\n",
        "                    verbose=1,\n",
        "                    callbacks=callbacks\n",
        "                    )"
      ],
      "execution_count": 143,
      "outputs": [
        {
          "output_type": "stream",
          "text": [
            "Epoch 1/5\n",
            "250/250 [==============================] - 28s 86ms/step - loss: 0.4108 - accuracy: 0.9004 - val_loss: 0.3110 - val_accuracy: 0.9065\n",
            "Epoch 2/5\n",
            "250/250 [==============================] - 19s 75ms/step - loss: 0.3208 - accuracy: 0.9025 - val_loss: 0.3120 - val_accuracy: 0.9065\n",
            "Epoch 3/5\n",
            "250/250 [==============================] - 19s 75ms/step - loss: 0.3138 - accuracy: 0.9056 - val_loss: 0.3143 - val_accuracy: 0.9065\n",
            "Epoch 4/5\n",
            "250/250 [==============================] - 19s 75ms/step - loss: 0.3241 - accuracy: 0.9005 - val_loss: 0.3107 - val_accuracy: 0.9065\n",
            "Epoch 5/5\n",
            "250/250 [==============================] - 19s 75ms/step - loss: 0.3246 - accuracy: 0.9008 - val_loss: 0.3107 - val_accuracy: 0.9065\n"
          ],
          "name": "stdout"
        }
      ]
    },
    {
      "cell_type": "markdown",
      "metadata": {
        "id": "0G4YjehB6Dur"
      },
      "source": [
        "Predictions on a test set:"
      ]
    },
    {
      "cell_type": "code",
      "metadata": {
        "id": "mZCgDZQtDpuZ",
        "colab": {
          "base_uri": "https://localhost:8080/"
        },
        "outputId": "19c5fc0e-cb4b-408b-c753-e1b6dbde52c0"
      },
      "source": [
        "loss, accuracy = model.evaluate(tfidf_vector_X_test,y_test)\n",
        "print('Test accuracy :', accuracy)"
      ],
      "execution_count": 144,
      "outputs": [
        {
          "output_type": "stream",
          "text": [
            "63/63 [==============================] - 1s 22ms/step - loss: 0.3107 - accuracy: 0.9065\n",
            "Test accuracy : 0.906499981880188\n"
          ],
          "name": "stdout"
        }
      ]
    },
    {
      "cell_type": "code",
      "metadata": {
        "id": "szrloPlxDpyf",
        "colab": {
          "base_uri": "https://localhost:8080/",
          "height": 541
        },
        "outputId": "29409eec-609b-4485-a9fd-c9d51950e136"
      },
      "source": [
        "def plot_graphs(history, string):\n",
        "  plt.plot(history.history[string])\n",
        "  plt.plot(history.history['val_'+string])\n",
        "  plt.xlabel(\"Epochs\")\n",
        "  plt.ylabel(string)\n",
        "  plt.legend([string, 'val_'+string])\n",
        "  plt.show()\n",
        "  \n",
        "plot_graphs(history, \"accuracy\")\n",
        "plot_graphs(history, \"loss\")"
      ],
      "execution_count": 145,
      "outputs": [
        {
          "output_type": "display_data",
          "data": {
            "image/png": "[encoded data removed]",
            "text/plain": [
              "<Figure size 432x288 with 1 Axes>"
            ]
          },
          "metadata": {
            "tags": [],
            "needs_background": "light"
          }
        },
        {
          "output_type": "display_data",
          "data": {
            "image/png": "[encoded data removed]",
            "text/plain": [
              "<Figure size 432x288 with 1 Axes>"
            ]
          },
          "metadata": {
            "tags": [],
            "needs_background": "light"
          }
        }
      ]
    },
    {
      "cell_type": "code",
      "metadata": {
        "id": "ULN3VM7NexNu",
        "colab": {
          "base_uri": "https://localhost:8080/"
        },
        "outputId": "e1bb8f82-18fd-47d9-c6f1-4839c8d67eca"
      },
      "source": [
        "model.save(\"Tf-Idf_model\")"
      ],
      "execution_count": 146,
      "outputs": [
        {
          "output_type": "stream",
          "text": [
            "WARNING:absl:Found untraced functions such as lstm_cell_114_layer_call_fn, lstm_cell_114_layer_call_and_return_conditional_losses, lstm_cell_115_layer_call_fn, lstm_cell_115_layer_call_and_return_conditional_losses, lstm_cell_117_layer_call_fn while saving (showing 5 of 20). These functions will not be directly callable after loading.\n",
            "WARNING:absl:Found untraced functions such as lstm_cell_114_layer_call_fn, lstm_cell_114_layer_call_and_return_conditional_losses, lstm_cell_115_layer_call_fn, lstm_cell_115_layer_call_and_return_conditional_losses, lstm_cell_117_layer_call_fn while saving (showing 5 of 20). These functions will not be directly callable after loading.\n"
          ],
          "name": "stderr"
        },
        {
          "output_type": "stream",
          "text": [
            "INFO:tensorflow:Assets written to: Tf-Idf_model/assets\n"
          ],
          "name": "stdout"
        },
        {
          "output_type": "stream",
          "text": [
            "INFO:tensorflow:Assets written to: Tf-Idf_model/assets\n"
          ],
          "name": "stderr"
        }
      ]
    }
  ]
}