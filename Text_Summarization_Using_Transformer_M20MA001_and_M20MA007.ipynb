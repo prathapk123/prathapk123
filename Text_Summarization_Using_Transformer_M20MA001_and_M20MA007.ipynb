{
  "nbformat": 4,
  "nbformat_minor": 0,
  "metadata": {
    "accelerator": "GPU",
    "colab": {
      "name": "Text Summarization Using Transformer M20MA001 and M20MA007.ipynb",
      "provenance": [],
      "collapsed_sections": []
    },
    "kernelspec": {
      "display_name": "Python 3",
      "name": "python3"
    },
    "language_info": {
      "name": "python"
    },
    "widgets": {
      "application/vnd.jupyter.widget-state+json": {
        "473827d8af6943dbbeca39b210a17295": {
          "model_module": "@jupyter-widgets/controls",
          "model_name": "HBoxModel",
          "state": {
            "_view_name": "HBoxView",
            "_dom_classes": [],
            "_model_name": "HBoxModel",
            "_view_module": "@jupyter-widgets/controls",
            "_model_module_version": "1.5.0",
            "_view_count": null,
            "_view_module_version": "1.5.0",
            "box_style": "",
            "layout": "IPY_MODEL_a00433f9625f42f39743c860edc0bd54",
            "_model_module": "@jupyter-widgets/controls",
            "children": [
              "IPY_MODEL_e23a99973e774543bf459b78529c8f74",
              "IPY_MODEL_de555809f03248a1bb6fbf62eacd2d0d"
            ]
          }
        },
        "a00433f9625f42f39743c860edc0bd54": {
          "model_module": "@jupyter-widgets/base",
          "model_name": "LayoutModel",
          "state": {
            "_view_name": "LayoutView",
            "grid_template_rows": null,
            "right": null,
            "justify_content": null,
            "_view_module": "@jupyter-widgets/base",
            "overflow": null,
            "_model_module_version": "1.2.0",
            "_view_count": null,
            "flex_flow": "row wrap",
            "width": "100%",
            "min_width": null,
            "border": null,
            "align_items": null,
            "bottom": null,
            "_model_module": "@jupyter-widgets/base",
            "top": null,
            "grid_column": null,
            "overflow_y": null,
            "overflow_x": null,
            "grid_auto_flow": null,
            "grid_area": null,
            "grid_template_columns": null,
            "flex": null,
            "_model_name": "LayoutModel",
            "justify_items": null,
            "grid_row": null,
            "max_height": null,
            "align_content": null,
            "visibility": null,
            "align_self": null,
            "height": null,
            "min_height": null,
            "padding": null,
            "grid_auto_rows": null,
            "grid_gap": null,
            "max_width": null,
            "order": null,
            "_view_module_version": "1.2.0",
            "grid_template_areas": null,
            "object_position": null,
            "object_fit": null,
            "grid_auto_columns": null,
            "margin": null,
            "display": "inline-flex",
            "left": null
          }
        },
        "e23a99973e774543bf459b78529c8f74": {
          "model_module": "@jupyter-widgets/controls",
          "model_name": "FloatProgressModel",
          "state": {
            "_view_name": "ProgressView",
            "style": "IPY_MODEL_5ec461c7550b4c56a86471a4d2ee100d",
            "_dom_classes": [],
            "description": "Validation sanity check:   0%",
            "_model_name": "FloatProgressModel",
            "bar_style": "danger",
            "max": 2,
            "_view_module": "@jupyter-widgets/controls",
            "_model_module_version": "1.5.0",
            "value": 0,
            "_view_count": null,
            "_view_module_version": "1.5.0",
            "orientation": "horizontal",
            "min": 0,
            "description_tooltip": null,
            "_model_module": "@jupyter-widgets/controls",
            "layout": "IPY_MODEL_47eb0325902044429ce04ac8bd5512c9"
          }
        },
        "de555809f03248a1bb6fbf62eacd2d0d": {
          "model_module": "@jupyter-widgets/controls",
          "model_name": "HTMLModel",
          "state": {
            "_view_name": "HTMLView",
            "style": "IPY_MODEL_674b7565101a47e488ce66d8de1b3ecf",
            "_dom_classes": [],
            "description": "",
            "_model_name": "HTMLModel",
            "placeholder": "​",
            "_view_module": "@jupyter-widgets/controls",
            "_model_module_version": "1.5.0",
            "value": " 0/2 [14:12&lt;?, ?it/s]",
            "_view_count": null,
            "_view_module_version": "1.5.0",
            "description_tooltip": null,
            "_model_module": "@jupyter-widgets/controls",
            "layout": "IPY_MODEL_ffcba2473b6243518aeb8e71725d1cf9"
          }
        },
        "5ec461c7550b4c56a86471a4d2ee100d": {
          "model_module": "@jupyter-widgets/controls",
          "model_name": "ProgressStyleModel",
          "state": {
            "_view_name": "StyleView",
            "_model_name": "ProgressStyleModel",
            "description_width": "initial",
            "_view_module": "@jupyter-widgets/base",
            "_model_module_version": "1.5.0",
            "_view_count": null,
            "_view_module_version": "1.2.0",
            "bar_color": null,
            "_model_module": "@jupyter-widgets/controls"
          }
        },
        "47eb0325902044429ce04ac8bd5512c9": {
          "model_module": "@jupyter-widgets/base",
          "model_name": "LayoutModel",
          "state": {
            "_view_name": "LayoutView",
            "grid_template_rows": null,
            "right": null,
            "justify_content": null,
            "_view_module": "@jupyter-widgets/base",
            "overflow": null,
            "_model_module_version": "1.2.0",
            "_view_count": null,
            "flex_flow": null,
            "width": null,
            "min_width": null,
            "border": null,
            "align_items": null,
            "bottom": null,
            "_model_module": "@jupyter-widgets/base",
            "top": null,
            "grid_column": null,
            "overflow_y": null,
            "overflow_x": null,
            "grid_auto_flow": null,
            "grid_area": null,
            "grid_template_columns": null,
            "flex": "2",
            "_model_name": "LayoutModel",
            "justify_items": null,
            "grid_row": null,
            "max_height": null,
            "align_content": null,
            "visibility": null,
            "align_self": null,
            "height": null,
            "min_height": null,
            "padding": null,
            "grid_auto_rows": null,
            "grid_gap": null,
            "max_width": null,
            "order": null,
            "_view_module_version": "1.2.0",
            "grid_template_areas": null,
            "object_position": null,
            "object_fit": null,
            "grid_auto_columns": null,
            "margin": null,
            "display": null,
            "left": null
          }
        },
        "674b7565101a47e488ce66d8de1b3ecf": {
          "model_module": "@jupyter-widgets/controls",
          "model_name": "DescriptionStyleModel",
          "state": {
            "_view_name": "StyleView",
            "_model_name": "DescriptionStyleModel",
            "description_width": "",
            "_view_module": "@jupyter-widgets/base",
            "_model_module_version": "1.5.0",
            "_view_count": null,
            "_view_module_version": "1.2.0",
            "_model_module": "@jupyter-widgets/controls"
          }
        },
        "ffcba2473b6243518aeb8e71725d1cf9": {
          "model_module": "@jupyter-widgets/base",
          "model_name": "LayoutModel",
          "state": {
            "_view_name": "LayoutView",
            "grid_template_rows": null,
            "right": null,
            "justify_content": null,
            "_view_module": "@jupyter-widgets/base",
            "overflow": null,
            "_model_module_version": "1.2.0",
            "_view_count": null,
            "flex_flow": null,
            "width": null,
            "min_width": null,
            "border": null,
            "align_items": null,
            "bottom": null,
            "_model_module": "@jupyter-widgets/base",
            "top": null,
            "grid_column": null,
            "overflow_y": null,
            "overflow_x": null,
            "grid_auto_flow": null,
            "grid_area": null,
            "grid_template_columns": null,
            "flex": null,
            "_model_name": "LayoutModel",
            "justify_items": null,
            "grid_row": null,
            "max_height": null,
            "align_content": null,
            "visibility": null,
            "align_self": null,
            "height": null,
            "min_height": null,
            "padding": null,
            "grid_auto_rows": null,
            "grid_gap": null,
            "max_width": null,
            "order": null,
            "_view_module_version": "1.2.0",
            "grid_template_areas": null,
            "object_position": null,
            "object_fit": null,
            "grid_auto_columns": null,
            "margin": null,
            "display": null,
            "left": null
          }
        },
        "765b08d0c2a9480ea85bcba0e362f1d5": {
          "model_module": "@jupyter-widgets/controls",
          "model_name": "HBoxModel",
          "state": {
            "_view_name": "HBoxView",
            "_dom_classes": [],
            "_model_name": "HBoxModel",
            "_view_module": "@jupyter-widgets/controls",
            "_model_module_version": "1.5.0",
            "_view_count": null,
            "_view_module_version": "1.5.0",
            "box_style": "",
            "layout": "IPY_MODEL_4222fd39be79401b8e4be7bce2e1a31e",
            "_model_module": "@jupyter-widgets/controls",
            "children": [
              "IPY_MODEL_1357e217b2fe469986cef917657c7b9e",
              "IPY_MODEL_e1269e52fd214fc8bd2a4a6934ab6ef8"
            ]
          }
        },
        "4222fd39be79401b8e4be7bce2e1a31e": {
          "model_module": "@jupyter-widgets/base",
          "model_name": "LayoutModel",
          "state": {
            "_view_name": "LayoutView",
            "grid_template_rows": null,
            "right": null,
            "justify_content": null,
            "_view_module": "@jupyter-widgets/base",
            "overflow": null,
            "_model_module_version": "1.2.0",
            "_view_count": null,
            "flex_flow": "row wrap",
            "width": "100%",
            "min_width": null,
            "border": null,
            "align_items": null,
            "bottom": null,
            "_model_module": "@jupyter-widgets/base",
            "top": null,
            "grid_column": null,
            "overflow_y": null,
            "overflow_x": null,
            "grid_auto_flow": null,
            "grid_area": null,
            "grid_template_columns": null,
            "flex": null,
            "_model_name": "LayoutModel",
            "justify_items": null,
            "grid_row": null,
            "max_height": null,
            "align_content": null,
            "visibility": null,
            "align_self": null,
            "height": null,
            "min_height": null,
            "padding": null,
            "grid_auto_rows": null,
            "grid_gap": null,
            "max_width": null,
            "order": null,
            "_view_module_version": "1.2.0",
            "grid_template_areas": null,
            "object_position": null,
            "object_fit": null,
            "grid_auto_columns": null,
            "margin": null,
            "display": "inline-flex",
            "left": null
          }
        },
        "1357e217b2fe469986cef917657c7b9e": {
          "model_module": "@jupyter-widgets/controls",
          "model_name": "FloatProgressModel",
          "state": {
            "_view_name": "ProgressView",
            "style": "IPY_MODEL_25d76a8f849f420aaa8ef6923c635601",
            "_dom_classes": [],
            "description": "Epoch 1: 100%",
            "_model_name": "FloatProgressModel",
            "bar_style": "success",
            "max": 550,
            "_view_module": "@jupyter-widgets/controls",
            "_model_module_version": "1.5.0",
            "value": 550,
            "_view_count": null,
            "_view_module_version": "1.5.0",
            "orientation": "horizontal",
            "min": 0,
            "description_tooltip": null,
            "_model_module": "@jupyter-widgets/controls",
            "layout": "IPY_MODEL_aebf91d17a014e9c82830ad84130ab8e"
          }
        },
        "e1269e52fd214fc8bd2a4a6934ab6ef8": {
          "model_module": "@jupyter-widgets/controls",
          "model_name": "HTMLModel",
          "state": {
            "_view_name": "HTMLView",
            "style": "IPY_MODEL_005fae134c944900b7b42a93a531ea38",
            "_dom_classes": [],
            "description": "",
            "_model_name": "HTMLModel",
            "placeholder": "​",
            "_view_module": "@jupyter-widgets/controls",
            "_model_module_version": "1.5.0",
            "value": " 550/550 [06:47&lt;00:00,  1.35it/s, loss=1.38, v_num=1, val_loss=1.370, train_loss=1.170]",
            "_view_count": null,
            "_view_module_version": "1.5.0",
            "description_tooltip": null,
            "_model_module": "@jupyter-widgets/controls",
            "layout": "IPY_MODEL_e2e48a31de904200ba48828f924c15f4"
          }
        },
        "25d76a8f849f420aaa8ef6923c635601": {
          "model_module": "@jupyter-widgets/controls",
          "model_name": "ProgressStyleModel",
          "state": {
            "_view_name": "StyleView",
            "_model_name": "ProgressStyleModel",
            "description_width": "initial",
            "_view_module": "@jupyter-widgets/base",
            "_model_module_version": "1.5.0",
            "_view_count": null,
            "_view_module_version": "1.2.0",
            "bar_color": null,
            "_model_module": "@jupyter-widgets/controls"
          }
        },
        "aebf91d17a014e9c82830ad84130ab8e": {
          "model_module": "@jupyter-widgets/base",
          "model_name": "LayoutModel",
          "state": {
            "_view_name": "LayoutView",
            "grid_template_rows": null,
            "right": null,
            "justify_content": null,
            "_view_module": "@jupyter-widgets/base",
            "overflow": null,
            "_model_module_version": "1.2.0",
            "_view_count": null,
            "flex_flow": null,
            "width": null,
            "min_width": null,
            "border": null,
            "align_items": null,
            "bottom": null,
            "_model_module": "@jupyter-widgets/base",
            "top": null,
            "grid_column": null,
            "overflow_y": null,
            "overflow_x": null,
            "grid_auto_flow": null,
            "grid_area": null,
            "grid_template_columns": null,
            "flex": "2",
            "_model_name": "LayoutModel",
            "justify_items": null,
            "grid_row": null,
            "max_height": null,
            "align_content": null,
            "visibility": null,
            "align_self": null,
            "height": null,
            "min_height": null,
            "padding": null,
            "grid_auto_rows": null,
            "grid_gap": null,
            "max_width": null,
            "order": null,
            "_view_module_version": "1.2.0",
            "grid_template_areas": null,
            "object_position": null,
            "object_fit": null,
            "grid_auto_columns": null,
            "margin": null,
            "display": null,
            "left": null
          }
        },
        "005fae134c944900b7b42a93a531ea38": {
          "model_module": "@jupyter-widgets/controls",
          "model_name": "DescriptionStyleModel",
          "state": {
            "_view_name": "StyleView",
            "_model_name": "DescriptionStyleModel",
            "description_width": "",
            "_view_module": "@jupyter-widgets/base",
            "_model_module_version": "1.5.0",
            "_view_count": null,
            "_view_module_version": "1.2.0",
            "_model_module": "@jupyter-widgets/controls"
          }
        },
        "e2e48a31de904200ba48828f924c15f4": {
          "model_module": "@jupyter-widgets/base",
          "model_name": "LayoutModel",
          "state": {
            "_view_name": "LayoutView",
            "grid_template_rows": null,
            "right": null,
            "justify_content": null,
            "_view_module": "@jupyter-widgets/base",
            "overflow": null,
            "_model_module_version": "1.2.0",
            "_view_count": null,
            "flex_flow": null,
            "width": null,
            "min_width": null,
            "border": null,
            "align_items": null,
            "bottom": null,
            "_model_module": "@jupyter-widgets/base",
            "top": null,
            "grid_column": null,
            "overflow_y": null,
            "overflow_x": null,
            "grid_auto_flow": null,
            "grid_area": null,
            "grid_template_columns": null,
            "flex": null,
            "_model_name": "LayoutModel",
            "justify_items": null,
            "grid_row": null,
            "max_height": null,
            "align_content": null,
            "visibility": null,
            "align_self": null,
            "height": null,
            "min_height": null,
            "padding": null,
            "grid_auto_rows": null,
            "grid_gap": null,
            "max_width": null,
            "order": null,
            "_view_module_version": "1.2.0",
            "grid_template_areas": null,
            "object_position": null,
            "object_fit": null,
            "grid_auto_columns": null,
            "margin": null,
            "display": null,
            "left": null
          }
        },
        "cd647426f98445e6a2d448c07a0a27d5": {
          "model_module": "@jupyter-widgets/controls",
          "model_name": "HBoxModel",
          "state": {
            "_view_name": "HBoxView",
            "_dom_classes": [],
            "_model_name": "HBoxModel",
            "_view_module": "@jupyter-widgets/controls",
            "_model_module_version": "1.5.0",
            "_view_count": null,
            "_view_module_version": "1.5.0",
            "box_style": "",
            "layout": "IPY_MODEL_150e54d22f0f485fa0f1126774af7c4f",
            "_model_module": "@jupyter-widgets/controls",
            "children": [
              "IPY_MODEL_5569c24ed5654a8388b585f08f2fcdf8",
              "IPY_MODEL_212c734a404d43178cc7d80b891c723a"
            ]
          }
        },
        "150e54d22f0f485fa0f1126774af7c4f": {
          "model_module": "@jupyter-widgets/base",
          "model_name": "LayoutModel",
          "state": {
            "_view_name": "LayoutView",
            "grid_template_rows": null,
            "right": null,
            "justify_content": null,
            "_view_module": "@jupyter-widgets/base",
            "overflow": null,
            "_model_module_version": "1.2.0",
            "_view_count": null,
            "flex_flow": "row wrap",
            "width": "100%",
            "min_width": null,
            "border": null,
            "align_items": null,
            "bottom": null,
            "_model_module": "@jupyter-widgets/base",
            "top": null,
            "grid_column": null,
            "overflow_y": null,
            "overflow_x": null,
            "grid_auto_flow": null,
            "grid_area": null,
            "grid_template_columns": null,
            "flex": null,
            "_model_name": "LayoutModel",
            "justify_items": null,
            "grid_row": null,
            "max_height": null,
            "align_content": null,
            "visibility": null,
            "align_self": null,
            "height": null,
            "min_height": null,
            "padding": null,
            "grid_auto_rows": null,
            "grid_gap": null,
            "max_width": null,
            "order": null,
            "_view_module_version": "1.2.0",
            "grid_template_areas": null,
            "object_position": null,
            "object_fit": null,
            "grid_auto_columns": null,
            "margin": null,
            "display": "inline-flex",
            "left": null
          }
        },
        "5569c24ed5654a8388b585f08f2fcdf8": {
          "model_module": "@jupyter-widgets/controls",
          "model_name": "FloatProgressModel",
          "state": {
            "_view_name": "ProgressView",
            "style": "IPY_MODEL_daae3179367d484ebfbce3a909343d0c",
            "_dom_classes": [],
            "description": "Validating: 100%",
            "_model_name": "FloatProgressModel",
            "bar_style": "info",
            "max": 55,
            "_view_module": "@jupyter-widgets/controls",
            "_model_module_version": "1.5.0",
            "value": 55,
            "_view_count": null,
            "_view_module_version": "1.5.0",
            "orientation": "horizontal",
            "min": 0,
            "description_tooltip": null,
            "_model_module": "@jupyter-widgets/controls",
            "layout": "IPY_MODEL_b468b5dce9e84eab98cf501050bcd67a"
          }
        },
        "212c734a404d43178cc7d80b891c723a": {
          "model_module": "@jupyter-widgets/controls",
          "model_name": "HTMLModel",
          "state": {
            "_view_name": "HTMLView",
            "style": "IPY_MODEL_a785f9298aab4aae8ca1d8dd14a8e5aa",
            "_dom_classes": [],
            "description": "",
            "_model_name": "HTMLModel",
            "placeholder": "​",
            "_view_module": "@jupyter-widgets/controls",
            "_model_module_version": "1.5.0",
            "value": " 55/55 [00:12&lt;00:00,  4.42it/s]",
            "_view_count": null,
            "_view_module_version": "1.5.0",
            "description_tooltip": null,
            "_model_module": "@jupyter-widgets/controls",
            "layout": "IPY_MODEL_50d99f6e8d7b457885e8606593c8c70b"
          }
        },
        "daae3179367d484ebfbce3a909343d0c": {
          "model_module": "@jupyter-widgets/controls",
          "model_name": "ProgressStyleModel",
          "state": {
            "_view_name": "StyleView",
            "_model_name": "ProgressStyleModel",
            "description_width": "initial",
            "_view_module": "@jupyter-widgets/base",
            "_model_module_version": "1.5.0",
            "_view_count": null,
            "_view_module_version": "1.2.0",
            "bar_color": null,
            "_model_module": "@jupyter-widgets/controls"
          }
        },
        "b468b5dce9e84eab98cf501050bcd67a": {
          "model_module": "@jupyter-widgets/base",
          "model_name": "LayoutModel",
          "state": {
            "_view_name": "LayoutView",
            "grid_template_rows": null,
            "right": null,
            "justify_content": null,
            "_view_module": "@jupyter-widgets/base",
            "overflow": null,
            "_model_module_version": "1.2.0",
            "_view_count": null,
            "flex_flow": null,
            "width": null,
            "min_width": null,
            "border": null,
            "align_items": null,
            "bottom": null,
            "_model_module": "@jupyter-widgets/base",
            "top": null,
            "grid_column": null,
            "overflow_y": null,
            "overflow_x": null,
            "grid_auto_flow": null,
            "grid_area": null,
            "grid_template_columns": null,
            "flex": "2",
            "_model_name": "LayoutModel",
            "justify_items": null,
            "grid_row": null,
            "max_height": null,
            "align_content": null,
            "visibility": null,
            "align_self": null,
            "height": null,
            "min_height": null,
            "padding": null,
            "grid_auto_rows": null,
            "grid_gap": null,
            "max_width": null,
            "order": null,
            "_view_module_version": "1.2.0",
            "grid_template_areas": null,
            "object_position": null,
            "object_fit": null,
            "grid_auto_columns": null,
            "margin": null,
            "display": null,
            "left": null
          }
        },
        "a785f9298aab4aae8ca1d8dd14a8e5aa": {
          "model_module": "@jupyter-widgets/controls",
          "model_name": "DescriptionStyleModel",
          "state": {
            "_view_name": "StyleView",
            "_model_name": "DescriptionStyleModel",
            "description_width": "",
            "_view_module": "@jupyter-widgets/base",
            "_model_module_version": "1.5.0",
            "_view_count": null,
            "_view_module_version": "1.2.0",
            "_model_module": "@jupyter-widgets/controls"
          }
        },
        "50d99f6e8d7b457885e8606593c8c70b": {
          "model_module": "@jupyter-widgets/base",
          "model_name": "LayoutModel",
          "state": {
            "_view_name": "LayoutView",
            "grid_template_rows": null,
            "right": null,
            "justify_content": null,
            "_view_module": "@jupyter-widgets/base",
            "overflow": null,
            "_model_module_version": "1.2.0",
            "_view_count": null,
            "flex_flow": null,
            "width": null,
            "min_width": null,
            "border": null,
            "align_items": null,
            "bottom": null,
            "_model_module": "@jupyter-widgets/base",
            "top": null,
            "grid_column": null,
            "overflow_y": null,
            "overflow_x": null,
            "grid_auto_flow": null,
            "grid_area": null,
            "grid_template_columns": null,
            "flex": null,
            "_model_name": "LayoutModel",
            "justify_items": null,
            "grid_row": null,
            "max_height": null,
            "align_content": null,
            "visibility": null,
            "align_self": null,
            "height": null,
            "min_height": null,
            "padding": null,
            "grid_auto_rows": null,
            "grid_gap": null,
            "max_width": null,
            "order": null,
            "_view_module_version": "1.2.0",
            "grid_template_areas": null,
            "object_position": null,
            "object_fit": null,
            "grid_auto_columns": null,
            "margin": null,
            "display": null,
            "left": null
          }
        },
        "ed09a1eeacfa45e99142c1685ec10fe7": {
          "model_module": "@jupyter-widgets/controls",
          "model_name": "HBoxModel",
          "state": {
            "_view_name": "HBoxView",
            "_dom_classes": [],
            "_model_name": "HBoxModel",
            "_view_module": "@jupyter-widgets/controls",
            "_model_module_version": "1.5.0",
            "_view_count": null,
            "_view_module_version": "1.5.0",
            "box_style": "",
            "layout": "IPY_MODEL_9d082d8a4c6f45c3a623ca98f71cd345",
            "_model_module": "@jupyter-widgets/controls",
            "children": [
              "IPY_MODEL_71fbccef7c28415c9de9ec8b4ae6ef10",
              "IPY_MODEL_bae85c84751148ab870ca991bb5990cc"
            ]
          }
        },
        "9d082d8a4c6f45c3a623ca98f71cd345": {
          "model_module": "@jupyter-widgets/base",
          "model_name": "LayoutModel",
          "state": {
            "_view_name": "LayoutView",
            "grid_template_rows": null,
            "right": null,
            "justify_content": null,
            "_view_module": "@jupyter-widgets/base",
            "overflow": null,
            "_model_module_version": "1.2.0",
            "_view_count": null,
            "flex_flow": "row wrap",
            "width": "100%",
            "min_width": null,
            "border": null,
            "align_items": null,
            "bottom": null,
            "_model_module": "@jupyter-widgets/base",
            "top": null,
            "grid_column": null,
            "overflow_y": null,
            "overflow_x": null,
            "grid_auto_flow": null,
            "grid_area": null,
            "grid_template_columns": null,
            "flex": null,
            "_model_name": "LayoutModel",
            "justify_items": null,
            "grid_row": null,
            "max_height": null,
            "align_content": null,
            "visibility": null,
            "align_self": null,
            "height": null,
            "min_height": null,
            "padding": null,
            "grid_auto_rows": null,
            "grid_gap": null,
            "max_width": null,
            "order": null,
            "_view_module_version": "1.2.0",
            "grid_template_areas": null,
            "object_position": null,
            "object_fit": null,
            "grid_auto_columns": null,
            "margin": null,
            "display": "inline-flex",
            "left": null
          }
        },
        "71fbccef7c28415c9de9ec8b4ae6ef10": {
          "model_module": "@jupyter-widgets/controls",
          "model_name": "FloatProgressModel",
          "state": {
            "_view_name": "ProgressView",
            "style": "IPY_MODEL_68562ef1e5014b039611fe6237ee55ca",
            "_dom_classes": [],
            "description": "Validating: 100%",
            "_model_name": "FloatProgressModel",
            "bar_style": "info",
            "max": 55,
            "_view_module": "@jupyter-widgets/controls",
            "_model_module_version": "1.5.0",
            "value": 55,
            "_view_count": null,
            "_view_module_version": "1.5.0",
            "orientation": "horizontal",
            "min": 0,
            "description_tooltip": null,
            "_model_module": "@jupyter-widgets/controls",
            "layout": "IPY_MODEL_b1eebb7738cd4e6bbb29ca5cd4a34c76"
          }
        },
        "bae85c84751148ab870ca991bb5990cc": {
          "model_module": "@jupyter-widgets/controls",
          "model_name": "HTMLModel",
          "state": {
            "_view_name": "HTMLView",
            "style": "IPY_MODEL_6da62321ace649249e029a86f726aa75",
            "_dom_classes": [],
            "description": "",
            "_model_name": "HTMLModel",
            "placeholder": "​",
            "_view_module": "@jupyter-widgets/controls",
            "_model_module_version": "1.5.0",
            "value": " 55/55 [00:12&lt;00:00,  4.39it/s]",
            "_view_count": null,
            "_view_module_version": "1.5.0",
            "description_tooltip": null,
            "_model_module": "@jupyter-widgets/controls",
            "layout": "IPY_MODEL_d0d7d1a772fb4182bd91fde7d84b9f7e"
          }
        },
        "68562ef1e5014b039611fe6237ee55ca": {
          "model_module": "@jupyter-widgets/controls",
          "model_name": "ProgressStyleModel",
          "state": {
            "_view_name": "StyleView",
            "_model_name": "ProgressStyleModel",
            "description_width": "initial",
            "_view_module": "@jupyter-widgets/base",
            "_model_module_version": "1.5.0",
            "_view_count": null,
            "_view_module_version": "1.2.0",
            "bar_color": null,
            "_model_module": "@jupyter-widgets/controls"
          }
        },
        "b1eebb7738cd4e6bbb29ca5cd4a34c76": {
          "model_module": "@jupyter-widgets/base",
          "model_name": "LayoutModel",
          "state": {
            "_view_name": "LayoutView",
            "grid_template_rows": null,
            "right": null,
            "justify_content": null,
            "_view_module": "@jupyter-widgets/base",
            "overflow": null,
            "_model_module_version": "1.2.0",
            "_view_count": null,
            "flex_flow": null,
            "width": null,
            "min_width": null,
            "border": null,
            "align_items": null,
            "bottom": null,
            "_model_module": "@jupyter-widgets/base",
            "top": null,
            "grid_column": null,
            "overflow_y": null,
            "overflow_x": null,
            "grid_auto_flow": null,
            "grid_area": null,
            "grid_template_columns": null,
            "flex": "2",
            "_model_name": "LayoutModel",
            "justify_items": null,
            "grid_row": null,
            "max_height": null,
            "align_content": null,
            "visibility": null,
            "align_self": null,
            "height": null,
            "min_height": null,
            "padding": null,
            "grid_auto_rows": null,
            "grid_gap": null,
            "max_width": null,
            "order": null,
            "_view_module_version": "1.2.0",
            "grid_template_areas": null,
            "object_position": null,
            "object_fit": null,
            "grid_auto_columns": null,
            "margin": null,
            "display": null,
            "left": null
          }
        },
        "6da62321ace649249e029a86f726aa75": {
          "model_module": "@jupyter-widgets/controls",
          "model_name": "DescriptionStyleModel",
          "state": {
            "_view_name": "StyleView",
            "_model_name": "DescriptionStyleModel",
            "description_width": "",
            "_view_module": "@jupyter-widgets/base",
            "_model_module_version": "1.5.0",
            "_view_count": null,
            "_view_module_version": "1.2.0",
            "_model_module": "@jupyter-widgets/controls"
          }
        },
        "d0d7d1a772fb4182bd91fde7d84b9f7e": {
          "model_module": "@jupyter-widgets/base",
          "model_name": "LayoutModel",
          "state": {
            "_view_name": "LayoutView",
            "grid_template_rows": null,
            "right": null,
            "justify_content": null,
            "_view_module": "@jupyter-widgets/base",
            "overflow": null,
            "_model_module_version": "1.2.0",
            "_view_count": null,
            "flex_flow": null,
            "width": null,
            "min_width": null,
            "border": null,
            "align_items": null,
            "bottom": null,
            "_model_module": "@jupyter-widgets/base",
            "top": null,
            "grid_column": null,
            "overflow_y": null,
            "overflow_x": null,
            "grid_auto_flow": null,
            "grid_area": null,
            "grid_template_columns": null,
            "flex": null,
            "_model_name": "LayoutModel",
            "justify_items": null,
            "grid_row": null,
            "max_height": null,
            "align_content": null,
            "visibility": null,
            "align_self": null,
            "height": null,
            "min_height": null,
            "padding": null,
            "grid_auto_rows": null,
            "grid_gap": null,
            "max_width": null,
            "order": null,
            "_view_module_version": "1.2.0",
            "grid_template_areas": null,
            "object_position": null,
            "object_fit": null,
            "grid_auto_columns": null,
            "margin": null,
            "display": null,
            "left": null
          }
        }
      }
    }
  },
  "cells": [
    {
      "cell_type": "code",
      "metadata": {
        "id": "2JdqM-L6eWsL"
      },
      "source": [
        "!pip install --quiet transformers\n",
        "!pip install --quiet pytorch-lightning==1.2.7"
      ],
      "execution_count": 1,
      "outputs": []
    },
    {
      "cell_type": "code",
      "metadata": {
        "id": "Yr_hd5W5edto"
      },
      "source": [
        "import pandas as pd\n",
        "import numpy as np\n",
        "import torch\n",
        "torch.cuda.empty_cache()\n",
        "from pathlib import Path\n",
        "from torch.utils.data import Dataset, DataLoader\n",
        "import pytorch_lightning as pl\n",
        "from pytorch_lightning.callbacks import ModelCheckpoint\n",
        "from pytorch_lightning.loggers import TensorBoardLogger\n",
        "from sklearn.model_selection import train_test_split\n",
        "from termcolor import colored\n",
        "import textwrap\n",
        "\n",
        "from transformers import (\n",
        "    AdamW,\n",
        "    T5ForConditionalGeneration,\n",
        "    T5TokenizerFast as T5Tokenizer\n",
        ")\n",
        "from tqdm.auto import tqdm"
      ],
      "execution_count": 2,
      "outputs": []
    },
    {
      "cell_type": "code",
      "metadata": {
        "id": "x0MeBUe5egJw"
      },
      "source": [
        "import seaborn as sns\n",
        "from pylab import rcParams\n",
        "import matplotlib.pyplot as plt\n",
        "from matplotlib import rc\n",
        "%matplotlib inline"
      ],
      "execution_count": 3,
      "outputs": []
    },
    {
      "cell_type": "code",
      "metadata": {
        "id": "nBZQ4614ekQR"
      },
      "source": [
        "news_summary=pd.read_csv(\"news_summary.csv\",encoding=\"ISO-8859-1\")\n",
        "#news_summary_more=pd.read_csv(\"news_summary_more.csv\",encoding=\"ISO-8859-1\")"
      ],
      "execution_count": 4,
      "outputs": []
    },
    {
      "cell_type": "code",
      "metadata": {
        "colab": {
          "base_uri": "https://localhost:8080/",
          "height": 586
        },
        "id": "6LeKgi9demQu",
        "outputId": "aa186b12-e40e-4893-efb6-426d2433dc5e"
      },
      "source": [
        "news_summary.head()"
      ],
      "execution_count": 5,
      "outputs": [
        {
          "output_type": "execute_result",
          "data": {
            "text/html": [
              "<div>\n",
              "<style scoped>\n",
              "    .dataframe tbody tr th:only-of-type {\n",
              "        vertical-align: middle;\n",
              "    }\n",
              "\n",
              "    .dataframe tbody tr th {\n",
              "        vertical-align: top;\n",
              "    }\n",
              "\n",
              "    .dataframe thead th {\n",
              "        text-align: right;\n",
              "    }\n",
              "</style>\n",
              "<table border=\"1\" class=\"dataframe\">\n",
              "  <thead>\n",
              "    <tr style=\"text-align: right;\">\n",
              "      <th></th>\n",
              "      <th>author</th>\n",
              "      <th>date</th>\n",
              "      <th>headlines</th>\n",
              "      <th>read_more</th>\n",
              "      <th>text</th>\n",
              "      <th>ctext</th>\n",
              "    </tr>\n",
              "  </thead>\n",
              "  <tbody>\n",
              "    <tr>\n",
              "      <th>0</th>\n",
              "      <td>Chhavi Tyagi</td>\n",
              "      <td>03 Aug 2017,Thursday</td>\n",
              "      <td>Daman &amp; Diu revokes mandatory Rakshabandhan in...</td>\n",
              "      <td>http://www.hindustantimes.com/india-news/raksh...</td>\n",
              "      <td>The Administration of Union Territory Daman an...</td>\n",
              "      <td>The Daman and Diu administration on Wednesday ...</td>\n",
              "    </tr>\n",
              "    <tr>\n",
              "      <th>1</th>\n",
              "      <td>Daisy Mowke</td>\n",
              "      <td>03 Aug 2017,Thursday</td>\n",
              "      <td>Malaika slams user who trolled her for 'divorc...</td>\n",
              "      <td>http://www.hindustantimes.com/bollywood/malaik...</td>\n",
              "      <td>Malaika Arora slammed an Instagram user who tr...</td>\n",
              "      <td>From her special numbers to TV?appearances, Bo...</td>\n",
              "    </tr>\n",
              "    <tr>\n",
              "      <th>2</th>\n",
              "      <td>Arshiya Chopra</td>\n",
              "      <td>03 Aug 2017,Thursday</td>\n",
              "      <td>'Virgin' now corrected to 'Unmarried' in IGIMS...</td>\n",
              "      <td>http://www.hindustantimes.com/patna/bihar-igim...</td>\n",
              "      <td>The Indira Gandhi Institute of Medical Science...</td>\n",
              "      <td>The Indira Gandhi Institute of Medical Science...</td>\n",
              "    </tr>\n",
              "    <tr>\n",
              "      <th>3</th>\n",
              "      <td>Sumedha Sehra</td>\n",
              "      <td>03 Aug 2017,Thursday</td>\n",
              "      <td>Aaj aapne pakad liya: LeT man Dujana before be...</td>\n",
              "      <td>http://indiatoday.intoday.in/story/abu-dujana-...</td>\n",
              "      <td>Lashkar-e-Taiba's Kashmir commander Abu Dujana...</td>\n",
              "      <td>Lashkar-e-Taiba's Kashmir commander Abu Dujana...</td>\n",
              "    </tr>\n",
              "    <tr>\n",
              "      <th>4</th>\n",
              "      <td>Aarushi Maheshwari</td>\n",
              "      <td>03 Aug 2017,Thursday</td>\n",
              "      <td>Hotel staff to get training to spot signs of s...</td>\n",
              "      <td>http://indiatoday.intoday.in/story/sex-traffic...</td>\n",
              "      <td>Hotels in Maharashtra will train their staff t...</td>\n",
              "      <td>Hotels in Mumbai and other Indian cities are t...</td>\n",
              "    </tr>\n",
              "  </tbody>\n",
              "</table>\n",
              "</div>"
            ],
            "text/plain": [
              "               author  ...                                              ctext\n",
              "0        Chhavi Tyagi  ...  The Daman and Diu administration on Wednesday ...\n",
              "1         Daisy Mowke  ...  From her special numbers to TV?appearances, Bo...\n",
              "2      Arshiya Chopra  ...  The Indira Gandhi Institute of Medical Science...\n",
              "3       Sumedha Sehra  ...  Lashkar-e-Taiba's Kashmir commander Abu Dujana...\n",
              "4  Aarushi Maheshwari  ...  Hotels in Mumbai and other Indian cities are t...\n",
              "\n",
              "[5 rows x 6 columns]"
            ]
          },
          "metadata": {
            "tags": []
          },
          "execution_count": 5
        }
      ]
    },
    {
      "cell_type": "code",
      "metadata": {
        "colab": {
          "base_uri": "https://localhost:8080/",
          "height": 202
        },
        "id": "ILpR13Woeolu",
        "outputId": "21540971-a6f7-4d85-808a-fc645a8b88fc"
      },
      "source": [
        "news_summary = news_summary[['text', 'ctext']]\n",
        "news_summary.head()"
      ],
      "execution_count": 6,
      "outputs": [
        {
          "output_type": "execute_result",
          "data": {
            "text/html": [
              "<div>\n",
              "<style scoped>\n",
              "    .dataframe tbody tr th:only-of-type {\n",
              "        vertical-align: middle;\n",
              "    }\n",
              "\n",
              "    .dataframe tbody tr th {\n",
              "        vertical-align: top;\n",
              "    }\n",
              "\n",
              "    .dataframe thead th {\n",
              "        text-align: right;\n",
              "    }\n",
              "</style>\n",
              "<table border=\"1\" class=\"dataframe\">\n",
              "  <thead>\n",
              "    <tr style=\"text-align: right;\">\n",
              "      <th></th>\n",
              "      <th>text</th>\n",
              "      <th>ctext</th>\n",
              "    </tr>\n",
              "  </thead>\n",
              "  <tbody>\n",
              "    <tr>\n",
              "      <th>0</th>\n",
              "      <td>The Administration of Union Territory Daman an...</td>\n",
              "      <td>The Daman and Diu administration on Wednesday ...</td>\n",
              "    </tr>\n",
              "    <tr>\n",
              "      <th>1</th>\n",
              "      <td>Malaika Arora slammed an Instagram user who tr...</td>\n",
              "      <td>From her special numbers to TV?appearances, Bo...</td>\n",
              "    </tr>\n",
              "    <tr>\n",
              "      <th>2</th>\n",
              "      <td>The Indira Gandhi Institute of Medical Science...</td>\n",
              "      <td>The Indira Gandhi Institute of Medical Science...</td>\n",
              "    </tr>\n",
              "    <tr>\n",
              "      <th>3</th>\n",
              "      <td>Lashkar-e-Taiba's Kashmir commander Abu Dujana...</td>\n",
              "      <td>Lashkar-e-Taiba's Kashmir commander Abu Dujana...</td>\n",
              "    </tr>\n",
              "    <tr>\n",
              "      <th>4</th>\n",
              "      <td>Hotels in Maharashtra will train their staff t...</td>\n",
              "      <td>Hotels in Mumbai and other Indian cities are t...</td>\n",
              "    </tr>\n",
              "  </tbody>\n",
              "</table>\n",
              "</div>"
            ],
            "text/plain": [
              "                                                text                                              ctext\n",
              "0  The Administration of Union Territory Daman an...  The Daman and Diu administration on Wednesday ...\n",
              "1  Malaika Arora slammed an Instagram user who tr...  From her special numbers to TV?appearances, Bo...\n",
              "2  The Indira Gandhi Institute of Medical Science...  The Indira Gandhi Institute of Medical Science...\n",
              "3  Lashkar-e-Taiba's Kashmir commander Abu Dujana...  Lashkar-e-Taiba's Kashmir commander Abu Dujana...\n",
              "4  Hotels in Maharashtra will train their staff t...  Hotels in Mumbai and other Indian cities are t..."
            ]
          },
          "metadata": {
            "tags": []
          },
          "execution_count": 6
        }
      ]
    },
    {
      "cell_type": "code",
      "metadata": {
        "colab": {
          "base_uri": "https://localhost:8080/",
          "height": 202
        },
        "id": "dJddxdz6eq1E",
        "outputId": "f7738f57-2b18-48c1-979a-859fe3304e69"
      },
      "source": [
        "news_summary.columns = ['summary', 'text']\n",
        "news_summary = news_summary.dropna()\n",
        "news_summary.head()"
      ],
      "execution_count": 7,
      "outputs": [
        {
          "output_type": "execute_result",
          "data": {
            "text/html": [
              "<div>\n",
              "<style scoped>\n",
              "    .dataframe tbody tr th:only-of-type {\n",
              "        vertical-align: middle;\n",
              "    }\n",
              "\n",
              "    .dataframe tbody tr th {\n",
              "        vertical-align: top;\n",
              "    }\n",
              "\n",
              "    .dataframe thead th {\n",
              "        text-align: right;\n",
              "    }\n",
              "</style>\n",
              "<table border=\"1\" class=\"dataframe\">\n",
              "  <thead>\n",
              "    <tr style=\"text-align: right;\">\n",
              "      <th></th>\n",
              "      <th>summary</th>\n",
              "      <th>text</th>\n",
              "    </tr>\n",
              "  </thead>\n",
              "  <tbody>\n",
              "    <tr>\n",
              "      <th>0</th>\n",
              "      <td>The Administration of Union Territory Daman an...</td>\n",
              "      <td>The Daman and Diu administration on Wednesday ...</td>\n",
              "    </tr>\n",
              "    <tr>\n",
              "      <th>1</th>\n",
              "      <td>Malaika Arora slammed an Instagram user who tr...</td>\n",
              "      <td>From her special numbers to TV?appearances, Bo...</td>\n",
              "    </tr>\n",
              "    <tr>\n",
              "      <th>2</th>\n",
              "      <td>The Indira Gandhi Institute of Medical Science...</td>\n",
              "      <td>The Indira Gandhi Institute of Medical Science...</td>\n",
              "    </tr>\n",
              "    <tr>\n",
              "      <th>3</th>\n",
              "      <td>Lashkar-e-Taiba's Kashmir commander Abu Dujana...</td>\n",
              "      <td>Lashkar-e-Taiba's Kashmir commander Abu Dujana...</td>\n",
              "    </tr>\n",
              "    <tr>\n",
              "      <th>4</th>\n",
              "      <td>Hotels in Maharashtra will train their staff t...</td>\n",
              "      <td>Hotels in Mumbai and other Indian cities are t...</td>\n",
              "    </tr>\n",
              "  </tbody>\n",
              "</table>\n",
              "</div>"
            ],
            "text/plain": [
              "                                             summary                                               text\n",
              "0  The Administration of Union Territory Daman an...  The Daman and Diu administration on Wednesday ...\n",
              "1  Malaika Arora slammed an Instagram user who tr...  From her special numbers to TV?appearances, Bo...\n",
              "2  The Indira Gandhi Institute of Medical Science...  The Indira Gandhi Institute of Medical Science...\n",
              "3  Lashkar-e-Taiba's Kashmir commander Abu Dujana...  Lashkar-e-Taiba's Kashmir commander Abu Dujana...\n",
              "4  Hotels in Maharashtra will train their staff t...  Hotels in Mumbai and other Indian cities are t..."
            ]
          },
          "metadata": {
            "tags": []
          },
          "execution_count": 7
        }
      ]
    },
    {
      "cell_type": "code",
      "metadata": {
        "colab": {
          "base_uri": "https://localhost:8080/"
        },
        "id": "bR1ee3ywetut",
        "outputId": "623a6df2-2f67-4637-b15f-4fc8deef17f7"
      },
      "source": [
        "train_df, test_df = train_test_split(news_summary, test_size=0.1)\n",
        "train_df.shape, test_df.shape"
      ],
      "execution_count": 8,
      "outputs": [
        {
          "output_type": "execute_result",
          "data": {
            "text/plain": [
              "((3956, 2), (440, 2))"
            ]
          },
          "metadata": {
            "tags": []
          },
          "execution_count": 8
        }
      ]
    },
    {
      "cell_type": "code",
      "metadata": {
        "id": "XOEtRGvoev9g"
      },
      "source": [
        "class PreProcessingDataset(Dataset):\n",
        "    def __init__(\n",
        "        self,\n",
        "        data: pd.DataFrame,\n",
        "        tokenizer: T5Tokenizer,\n",
        "        src_max_token_len:int = 512,\n",
        "        tgt_max_token_len:int = 128\n",
        "    ):\n",
        "        self.tokenizer = tokenizer\n",
        "        self.data = data\n",
        "        self.src_max_token_len = src_max_token_len\n",
        "        self.tgt_max_token_len = tgt_max_token_len\n",
        "    \n",
        "    def __len__(self):\n",
        "        return len(self.data)\n",
        "\n",
        "    def __getitem__(self, index: int):\n",
        "        data_row = self.data.iloc[index]\n",
        "\n",
        "        text = data_row['text']\n",
        "        source_encoding = tokenizer(\n",
        "            text,\n",
        "            max_length=self.src_max_token_len,\n",
        "            padding='max_length',\n",
        "            truncation=True,\n",
        "            return_attention_mask=True,\n",
        "            add_special_tokens=True,\n",
        "            return_tensors='pt'\n",
        "        )\n",
        "\n",
        "        target_encoding = tokenizer(\n",
        "            data_row['summary'],\n",
        "            max_length=self.tgt_max_token_len,\n",
        "            padding='max_length',\n",
        "            truncation=True,\n",
        "            return_attention_mask=True,\n",
        "            add_special_tokens=True,\n",
        "            return_tensors='pt'\n",
        "        )\n",
        "\n",
        "        labels = target_encoding['input_ids']\n",
        "        labels[labels == 0] = -100 \n",
        "\n",
        "        return dict(\n",
        "            text=text,\n",
        "            summary=data_row['summary'],\n",
        "            text_input_ids=source_encoding['input_ids'].flatten(),\n",
        "            text_attention_mask=source_encoding['attention_mask'].flatten(),\n",
        "            labels=labels.flatten(),\n",
        "            labels_attention_mask=target_encoding['attention_mask'].flatten()\n",
        "        )"
      ],
      "execution_count": 9,
      "outputs": []
    },
    {
      "cell_type": "code",
      "metadata": {
        "id": "eixUAC4kex12"
      },
      "source": [
        "from torch import nn\n",
        "class PrepareDataset(pl.LightningDataModule):\n",
        "    def __init__(\n",
        "        self,\n",
        "        train_df: pd.DataFrame,\n",
        "        test_df: pd.DataFrame,\n",
        "        tokenizer: T5Tokenizer,\n",
        "        batch_size: int = 8,\n",
        "        src_max_token_len: int = 512,\n",
        "        tgt_max_token_len: int = 128\n",
        "    ):\n",
        "        super().__init__()\n",
        "\n",
        "        self.train_df = train_df\n",
        "        self.test_df = test_df\n",
        "        self.batch_size = batch_size\n",
        "        self.tokenizer = tokenizer\n",
        "        self.src_max_token_len = src_max_token_len\n",
        "        self.tgt_max_token_len = tgt_max_token_len\n",
        "\n",
        "    def setup(self, stage=None):\n",
        "        self.train_ds = PreProcessingDataset(\n",
        "            self.train_df,\n",
        "            self.tokenizer,\n",
        "            self.src_max_token_len,\n",
        "            self.tgt_max_token_len\n",
        "        )\n",
        "        self.test_ds = PreProcessingDataset(\n",
        "            self.test_df,\n",
        "            self.tokenizer,\n",
        "            self.src_max_token_len,\n",
        "            self.tgt_max_token_len\n",
        "        )\n",
        "\n",
        "    def train_dataloader(self):\n",
        "        return DataLoader(\n",
        "            self.train_ds,\n",
        "            batch_size=self.batch_size,\n",
        "            shuffle=True,\n",
        "            num_workers=2\n",
        "        )\n",
        "\n",
        "    def test_dataloader(self):\n",
        "        return DataLoader(\n",
        "            self.test_ds,\n",
        "            batch_size=self.batch_size,\n",
        "            shuffle=False,\n",
        "            num_workers=2\n",
        "        )\n",
        "    def val_dataloader(self):\n",
        "        return DataLoader(\n",
        "            self.test_ds,\n",
        "            batch_size=self.batch_size,\n",
        "            shuffle=False,\n",
        "            num_workers=2\n",
        "        )"
      ],
      "execution_count": 10,
      "outputs": []
    },
    {
      "cell_type": "code",
      "metadata": {
        "id": "Cgo9XiKGezvp"
      },
      "source": [
        "MODEL_NAME = 't5-base'\n",
        "tokenizer = T5Tokenizer.from_pretrained(MODEL_NAME)"
      ],
      "execution_count": 11,
      "outputs": []
    },
    {
      "cell_type": "code",
      "metadata": {
        "colab": {
          "base_uri": "https://localhost:8080/"
        },
        "id": "K3lONA3Ce1lZ",
        "outputId": "22e933f1-65b9-4b9e-ea06-2588c8167600"
      },
      "source": [
        "src_token_counts=[]\n",
        "tgt_token_counts=[]\n",
        "\n",
        "for _, row in train_df.iterrows():\n",
        "    src_token_count = len(tokenizer.encode(row['text']))\n",
        "    src_token_counts.append(src_token_count)\n",
        "    tgt_token_count = len(tokenizer.encode(row['summary']))\n",
        "    tgt_token_counts.append(tgt_token_count)   "
      ],
      "execution_count": 12,
      "outputs": [
        {
          "output_type": "stream",
          "text": [
            "Token indices sequence length is longer than the specified maximum sequence length for this model (583 > 512). Running this sequence through the model will result in indexing errors\n"
          ],
          "name": "stderr"
        }
      ]
    },
    {
      "cell_type": "code",
      "metadata": {
        "colab": {
          "base_uri": "https://localhost:8080/",
          "height": 299
        },
        "id": "Ouc2ZZD7e3Vn",
        "outputId": "1cdbdd70-e645-4bba-a8b0-80cdaeb088b7"
      },
      "source": [
        "fig, (ax1, ax2) = plt.subplots(1, 2)\n",
        "sns.histplot(src_token_counts, ax=ax1)\n",
        "ax1.set_title('full text token counts')\n",
        "sns.histplot(tgt_token_counts, ax=ax2)"
      ],
      "execution_count": 13,
      "outputs": [
        {
          "output_type": "execute_result",
          "data": {
            "text/plain": [
              "<matplotlib.axes._subplots.AxesSubplot at 0x7f570e48e410>"
            ]
          },
          "metadata": {
            "tags": []
          },
          "execution_count": 13
        },
        {
          "output_type": "display_data",
          "data": {
            "image/png": "[encoded data removed]",
            "text/plain": [
              "<Figure size 432x288 with 2 Axes>"
            ]
          },
          "metadata": {
            "tags": [],
            "needs_background": "light"
          }
        }
      ]
    },
    {
      "cell_type": "code",
      "metadata": {
        "id": "BZkt8jx3e5a-"
      },
      "source": [
        "N_EPOCHS = 2\n",
        "BATCH_SIZE = 2\n",
        "data_module = PrepareDataset(train_df=train_df, test_df=test_df, tokenizer=tokenizer)\n",
        "data_module.setup()\n"
      ],
      "execution_count": 14,
      "outputs": []
    },
    {
      "cell_type": "code",
      "metadata": {
        "id": "DWTuK5DMe66T"
      },
      "source": [
        "class AbstractiveSummaryModel(pl.LightningModule):\n",
        "    def __init__(self):\n",
        "        super().__init__()\n",
        "        self.model = T5ForConditionalGeneration.from_pretrained(MODEL_NAME, return_dict=True)\n",
        "    \n",
        "    def forward(self, input_ids, attention_mask, decoder_attention_mask, labels=None):\n",
        "        output = self.model(\n",
        "            input_ids,\n",
        "            attention_mask=attention_mask,\n",
        "            labels=labels,\n",
        "            decoder_attention_mask=decoder_attention_mask\n",
        "        )\n",
        "\n",
        "        return output.loss, output.logits\n",
        "\n",
        "    def training_step(self, batch, batch_size):\n",
        "        input_ids = batch['text_input_ids']\n",
        "        attention_mask = batch['text_attention_mask']\n",
        "        labels = batch['labels']\n",
        "        labels_attention_mask = batch['labels_attention_mask']\n",
        "\n",
        "        loss, outputs = self(\n",
        "            input_ids=input_ids,\n",
        "            attention_mask=attention_mask,\n",
        "            decoder_attention_mask=labels_attention_mask,\n",
        "            labels=labels\n",
        "        )\n",
        "\n",
        "        self.log(\"train_loss\", loss, prog_bar=True, logger=True)\n",
        "        return loss\n",
        "\n",
        "    def test_step(self, batch, batch_size):\n",
        "        input_ids = batch['text_input_ids']\n",
        "        attention_mask = batch['text_attention_mask']\n",
        "        labels = batch['labels']\n",
        "        labels_attention_mask = batch['labels_attention_mask']\n",
        "\n",
        "        loss, outputs = self(\n",
        "            input_ids=input_ids,\n",
        "            attention_mask=attention_mask,\n",
        "            decoder_attention_mask=labels_attention_mask,\n",
        "            labels=labels\n",
        "        )\n",
        "\n",
        "        self.log(\"test_loss\", loss, prog_bar=True, logger=True)\n",
        "        return loss\n",
        "    def validation_step(self, batch, batch_size):\n",
        "        input_ids = batch['text_input_ids']\n",
        "        attention_mask = batch['text_attention_mask']\n",
        "        labels = batch['labels']\n",
        "        labels_attention_mask = batch['labels_attention_mask']\n",
        "\n",
        "        loss, outputs = self(\n",
        "            input_ids=input_ids,\n",
        "            attention_mask=attention_mask,\n",
        "            decoder_attention_mask=labels_attention_mask,\n",
        "            labels=labels\n",
        "        )\n",
        "\n",
        "        self.log(\"val_loss\", loss, prog_bar=True, logger=True)\n",
        "        return loss\n",
        "    def configure_optimizers(self):\n",
        "        return AdamW(self.parameters(), lr=0.0001)"
      ],
      "execution_count": 15,
      "outputs": []
    },
    {
      "cell_type": "code",
      "metadata": {
        "id": "YtgDETdie8ts"
      },
      "source": [
        "model = AbstractiveSummaryModel()"
      ],
      "execution_count": 20,
      "outputs": []
    },
    {
      "cell_type": "code",
      "metadata": {
        "colab": {
          "base_uri": "https://localhost:8080/"
        },
        "id": "DwW_2Ws7e_WI",
        "outputId": "b5164c04-9ebd-424d-ad51-f1e530e744ca"
      },
      "source": [
        "checkpoint_callback = ModelCheckpoint(\n",
        "    dirpath='checkpoints',\n",
        "    filename='best-checkpoint',\n",
        "    save_top_k=1,\n",
        "    verbose=True,\n",
        "    monitor='val_loss',\n",
        "    mode='min'\n",
        ")\n",
        "\n",
        "logger = TensorBoardLogger(\"lightning_logs\", name='news-summary')\n",
        "\n",
        "trainer = pl.Trainer(\n",
        "    logger=logger,\n",
        "    checkpoint_callback=checkpoint_callback,\n",
        "    max_epochs=N_EPOCHS,\n",
        "    gpus=1,\n",
        "    progress_bar_refresh_rate=30\n",
        ")"
      ],
      "execution_count": 17,
      "outputs": [
        {
          "output_type": "stream",
          "text": [
            "GPU available: True, used: True\n",
            "TPU available: False, using: 0 TPU cores\n"
          ],
          "name": "stderr"
        }
      ]
    },
    {
      "cell_type": "code",
      "metadata": {
        "colab": {
          "base_uri": "https://localhost:8080/",
          "height": 344,
          "referenced_widgets": [
            "473827d8af6943dbbeca39b210a17295",
            "a00433f9625f42f39743c860edc0bd54",
            "e23a99973e774543bf459b78529c8f74",
            "de555809f03248a1bb6fbf62eacd2d0d",
            "5ec461c7550b4c56a86471a4d2ee100d",
            "47eb0325902044429ce04ac8bd5512c9",
            "674b7565101a47e488ce66d8de1b3ecf",
            "ffcba2473b6243518aeb8e71725d1cf9",
            "765b08d0c2a9480ea85bcba0e362f1d5",
            "4222fd39be79401b8e4be7bce2e1a31e",
            "1357e217b2fe469986cef917657c7b9e",
            "e1269e52fd214fc8bd2a4a6934ab6ef8",
            "25d76a8f849f420aaa8ef6923c635601",
            "aebf91d17a014e9c82830ad84130ab8e",
            "005fae134c944900b7b42a93a531ea38",
            "e2e48a31de904200ba48828f924c15f4",
            "cd647426f98445e6a2d448c07a0a27d5",
            "150e54d22f0f485fa0f1126774af7c4f",
            "5569c24ed5654a8388b585f08f2fcdf8",
            "212c734a404d43178cc7d80b891c723a",
            "daae3179367d484ebfbce3a909343d0c",
            "b468b5dce9e84eab98cf501050bcd67a",
            "a785f9298aab4aae8ca1d8dd14a8e5aa",
            "50d99f6e8d7b457885e8606593c8c70b",
            "ed09a1eeacfa45e99142c1685ec10fe7",
            "9d082d8a4c6f45c3a623ca98f71cd345",
            "71fbccef7c28415c9de9ec8b4ae6ef10",
            "bae85c84751148ab870ca991bb5990cc",
            "68562ef1e5014b039611fe6237ee55ca",
            "b1eebb7738cd4e6bbb29ca5cd4a34c76",
            "6da62321ace649249e029a86f726aa75",
            "d0d7d1a772fb4182bd91fde7d84b9f7e"
          ]
        },
        "id": "3Cm_EkJ0fAx_",
        "outputId": "54954749-5daf-46c9-9fb3-3eb87cc601a5"
      },
      "source": [
        "trainer.fit(model, data_module)"
      ],
      "execution_count": 18,
      "outputs": [
        {
          "output_type": "stream",
          "text": [
            "LOCAL_RANK: 0 - CUDA_VISIBLE_DEVICES: [0]\n",
            "\n",
            "  | Name  | Type                       | Params\n",
            "-----------------------------------------------------\n",
            "0 | model | T5ForConditionalGeneration | 222 M \n",
            "-----------------------------------------------------\n",
            "222 M     Trainable params\n",
            "0         Non-trainable params\n",
            "222 M     Total params\n",
            "891.614   Total estimated model params size (MB)\n"
          ],
          "name": "stderr"
        },
        {
          "output_type": "display_data",
          "data": {
            "application/vnd.jupyter.widget-view+json": {
              "model_id": "473827d8af6943dbbeca39b210a17295",
              "version_minor": 0,
              "version_major": 2
            },
            "text/plain": [
              "HBox(children=(FloatProgress(value=1.0, bar_style='info', description='Validation sanity check', layout=Layout…"
            ]
          },
          "metadata": {
            "tags": []
          }
        },
        {
          "output_type": "stream",
          "text": [
            "\r"
          ],
          "name": "stdout"
        },
        {
          "output_type": "display_data",
          "data": {
            "application/vnd.jupyter.widget-view+json": {
              "model_id": "765b08d0c2a9480ea85bcba0e362f1d5",
              "version_minor": 0,
              "version_major": 2
            },
            "text/plain": [
              "HBox(children=(FloatProgress(value=1.0, bar_style='info', description='Training', layout=Layout(flex='2'), max…"
            ]
          },
          "metadata": {
            "tags": []
          }
        },
        {
          "output_type": "display_data",
          "data": {
            "application/vnd.jupyter.widget-view+json": {
              "model_id": "cd647426f98445e6a2d448c07a0a27d5",
              "version_minor": 0,
              "version_major": 2
            },
            "text/plain": [
              "HBox(children=(FloatProgress(value=1.0, bar_style='info', description='Validating', layout=Layout(flex='2'), m…"
            ]
          },
          "metadata": {
            "tags": []
          }
        },
        {
          "output_type": "stream",
          "text": [
            "Epoch 0, global step 494: val_loss reached 1.37950 (best 1.37950), saving model to \"/content/checkpoints/best-checkpoint.ckpt\" as top 1\n"
          ],
          "name": "stderr"
        },
        {
          "output_type": "display_data",
          "data": {
            "application/vnd.jupyter.widget-view+json": {
              "model_id": "ed09a1eeacfa45e99142c1685ec10fe7",
              "version_minor": 0,
              "version_major": 2
            },
            "text/plain": [
              "HBox(children=(FloatProgress(value=1.0, bar_style='info', description='Validating', layout=Layout(flex='2'), m…"
            ]
          },
          "metadata": {
            "tags": []
          }
        },
        {
          "output_type": "stream",
          "text": [
            "Epoch 1, global step 989: val_loss reached 1.36831 (best 1.36831), saving model to \"/content/checkpoints/best-checkpoint.ckpt\" as top 1\n"
          ],
          "name": "stderr"
        },
        {
          "output_type": "stream",
          "text": [
            "\n"
          ],
          "name": "stdout"
        },
        {
          "output_type": "execute_result",
          "data": {
            "text/plain": [
              "1"
            ]
          },
          "metadata": {
            "tags": []
          },
          "execution_count": 18
        }
      ]
    },
    {
      "cell_type": "code",
      "metadata": {
        "id": "egdw3vIvfCJH"
      },
      "source": [
        "trained_model = AbstractiveSummaryModel.load_from_checkpoint(\n",
        "    trainer.checkpoint_callback.best_model_path\n",
        ")\n",
        "trained_model.freeze()"
      ],
      "execution_count": 21,
      "outputs": []
    },
    {
      "cell_type": "code",
      "metadata": {
        "id": "SuH_iPso0Lhg"
      },
      "source": [
        "def summarizeText(text):\n",
        "    source_encoding = tokenizer(\n",
        "        text,\n",
        "        max_length=512,\n",
        "        padding='max_length',\n",
        "        truncation=True,\n",
        "        return_attention_mask=True,\n",
        "        add_special_tokens=True,\n",
        "        return_tensors='pt'\n",
        "    )\n",
        "    generated_ids = trained_model.model.generate(\n",
        "        input_ids=source_encoding['input_ids'],\n",
        "        attention_mask=source_encoding['attention_mask'],\n",
        "        max_length=150,\n",
        "        num_beams=1,\n",
        "        repetition_penalty=2.5,\n",
        "        length_penalty=1.0,\n",
        "        early_stopping=True\n",
        "    )\n",
        "\n",
        "    preds = [\n",
        "            tokenizer.decode(gen_id, skip_special_tokens=True, clean_up_tokenization_spaces=True)\n",
        "            for gen_id in generated_ids\n",
        "    ]\n",
        "    return \"\".join(preds)"
      ],
      "execution_count": 22,
      "outputs": []
    },
    {
      "cell_type": "code",
      "metadata": {
        "id": "z9kxzBtG3kd7"
      },
      "source": [
        "import pickle"
      ],
      "execution_count": 23,
      "outputs": []
    },
    {
      "cell_type": "code",
      "metadata": {
        "id": "wnhkQh1M3t4I"
      },
      "source": [
        "filename = open('text_summarization_model.pkl', 'wb')\n",
        "pickle.dump(trained_model.model, filename)"
      ],
      "execution_count": 24,
      "outputs": []
    },
    {
      "cell_type": "code",
      "metadata": {
        "id": "hBDq7bqf4ARV"
      },
      "source": [
        "model = pickle.load(open('text_summarization_model.pkl', 'rb'))"
      ],
      "execution_count": 25,
      "outputs": []
    },
    {
      "cell_type": "code",
      "metadata": {
        "id": "0dbKJtkO5cvK"
      },
      "source": [
        "def summarizeText(text):\n",
        "    source_encoding = tokenizer(\n",
        "        text,\n",
        "        max_length=512,\n",
        "        padding='max_length',\n",
        "        truncation=True,\n",
        "        return_attention_mask=True,\n",
        "        add_special_tokens=True,\n",
        "        return_tensors='pt'\n",
        "    )\n",
        "    generated_ids = model.generate(\n",
        "        input_ids=source_encoding['input_ids'],\n",
        "        attention_mask=source_encoding['attention_mask'],\n",
        "        max_length=150,\n",
        "        num_beams=2,\n",
        "        repetition_penalty=2.5,\n",
        "        length_penalty=1.0,\n",
        "        early_stopping=True\n",
        "    )\n",
        "\n",
        "    preds = [\n",
        "            tokenizer.decode(gen_id, skip_special_tokens=True, clean_up_tokenization_spaces=True)\n",
        "            for gen_id in generated_ids\n",
        "    ]\n",
        "    return \"\".join(preds)"
      ],
      "execution_count": 26,
      "outputs": []
    },
    {
      "cell_type": "code",
      "metadata": {
        "id": "Big3mJ108I2u"
      },
      "source": [
        "src_test=test_df['text'].tolist()\n",
        "eval_test=test_df['summary'].tolist()"
      ],
      "execution_count": 33,
      "outputs": []
    },
    {
      "cell_type": "code",
      "metadata": {
        "colab": {
          "base_uri": "https://localhost:8080/"
        },
        "id": "PYpy9I949Ggw",
        "outputId": "1b363f77-11e0-456a-aaca-6c2d2f1b63d8"
      },
      "source": [
        "!zip -r model.zip text_summarization_model.pkl\n"
      ],
      "execution_count": 34,
      "outputs": [
        {
          "output_type": "stream",
          "text": [
            "  adding: text_summarization_model.pkl (deflated 9%)\n"
          ],
          "name": "stdout"
        }
      ]
    },
    {
      "cell_type": "code",
      "metadata": {
        "colab": {
          "base_uri": "https://localhost:8080/",
          "height": 35
        },
        "id": "fniBcBrZ9Pv8",
        "outputId": "c28a7fcd-739a-4eb2-cf97-e9d4123b41c0"
      },
      "source": [
        "from google.colab import files\n",
        "files.download(\"model.zip\")"
      ],
      "execution_count": 35,
      "outputs": [
        {
          "output_type": "display_data",
          "data": {
            "application/javascript": [
              "\n",
              "    async function download(id, filename, size) {\n",
              "      if (!google.colab.kernel.accessAllowed) {\n",
              "        return;\n",
              "      }\n",
              "      const div = document.createElement('div');\n",
              "      const label = document.createElement('label');\n",
              "      label.textContent = `Downloading \"${filename}\": `;\n",
              "      div.appendChild(label);\n",
              "      const progress = document.createElement('progress');\n",
              "      progress.max = size;\n",
              "      div.appendChild(progress);\n",
              "      document.body.appendChild(div);\n",
              "\n",
              "      const buffers = [];\n",
              "      let downloaded = 0;\n",
              "\n",
              "      const channel = await google.colab.kernel.comms.open(id);\n",
              "      // Send a message to notify the kernel that we're ready.\n",
              "      channel.send({})\n",
              "\n",
              "      for await (const message of channel.messages) {\n",
              "        // Send a message to notify the kernel that we're ready.\n",
              "        channel.send({})\n",
              "        if (message.buffers) {\n",
              "          for (const buffer of message.buffers) {\n",
              "            buffers.push(buffer);\n",
              "            downloaded += buffer.byteLength;\n",
              "            progress.value = downloaded;\n",
              "          }\n",
              "        }\n",
              "      }\n",
              "      const blob = new Blob(buffers, {type: 'application/binary'});\n",
              "      const a = document.createElement('a');\n",
              "      a.href = window.URL.createObjectURL(blob);\n",
              "      a.download = filename;\n",
              "      div.appendChild(a);\n",
              "      a.click();\n",
              "      div.remove();\n",
              "    }\n",
              "  "
            ],
            "text/plain": [
              "<IPython.core.display.Javascript object>"
            ]
          },
          "metadata": {
            "tags": []
          }
        },
        {
          "output_type": "display_data",
          "data": {
            "application/javascript": [
              "download(\"download_bf369ac9-44a9-466c-aba6-dc106df8eef1\", \"model.zip\", 811509865)"
            ],
            "text/plain": [
              "<IPython.core.display.Javascript object>"
            ]
          },
          "metadata": {
            "tags": []
          }
        }
      ]
    },
    {
      "cell_type": "code",
      "metadata": {
        "id": "HvQtHSrw5tUv"
      },
      "source": [
        "pred_test=[]\n",
        "for record in src_test:\n",
        "  summary=summarizeText(record)\n",
        "  pred_test.append(summary)"
      ],
      "execution_count": 36,
      "outputs": []
    },
    {
      "cell_type": "code",
      "metadata": {
        "id": "eetls6zi6As5",
        "colab": {
          "base_uri": "https://localhost:8080/"
        },
        "outputId": "164fa2e9-f053-498b-8319-dc53f833ac73"
      },
      "source": [
        "!pip install rouge"
      ],
      "execution_count": 27,
      "outputs": [
        {
          "output_type": "stream",
          "text": [
            "Collecting rouge\n",
            "  Downloading https://files.pythonhosted.org/packages/43/cc/e18e33be20971ff73a056ebdb023476b5a545e744e3fc22acd8c758f1e0d/rouge-1.0.0-py3-none-any.whl\n",
            "Requirement already satisfied: six in /usr/local/lib/python3.7/dist-packages (from rouge) (1.15.0)\n",
            "Installing collected packages: rouge\n",
            "Successfully installed rouge-1.0.0\n"
          ],
          "name": "stdout"
        }
      ]
    },
    {
      "cell_type": "code",
      "metadata": {
        "id": "Xq7XFXMjUDgb"
      },
      "source": [
        "from rouge import Rouge \n",
        "rouge = Rouge()\n",
        "scores = rouge.get_scores(eval_test, pred_test, avg=True)"
      ],
      "execution_count": 37,
      "outputs": []
    },
    {
      "cell_type": "code",
      "metadata": {
        "colab": {
          "base_uri": "https://localhost:8080/"
        },
        "id": "zS4jdJTpUxpQ",
        "outputId": "12fb4b77-9517-46d3-f0c3-672d6e2cb03e"
      },
      "source": [
        "scores"
      ],
      "execution_count": 39,
      "outputs": [
        {
          "output_type": "execute_result",
          "data": {
            "text/plain": [
              "{'rouge-1': {'f': 0.4589199781881032,\n",
              "  'p': 0.46123244416790665,\n",
              "  'r': 0.4610470276443038},\n",
              " 'rouge-2': {'f': 0.24472143209685807,\n",
              "  'p': 0.24606398668808452,\n",
              "  'r': 0.24585694352866164},\n",
              " 'rouge-l': {'f': 0.42893343735141914,\n",
              "  'p': 0.4312545727046945,\n",
              "  'r': 0.4314404809878015}}"
            ]
          },
          "metadata": {
            "tags": []
          },
          "execution_count": 39
        }
      ]
    },
    {
      "cell_type": "code",
      "metadata": {
        "id": "q1QenxhgVAHO"
      },
      "source": [
        "scores_ind = rouge.get_scores(eval_test, pred_test)"
      ],
      "execution_count": 40,
      "outputs": []
    },
    {
      "cell_type": "code",
      "metadata": {
        "id": "0U4Px-3i-_gO"
      },
      "source": [
        "data_score=pd.DataFrame.from_dict(scores_ind)\n",
        "data_score['text']=src_test\n",
        "data_score['summary']=eval_test\n",
        "data_score['pred']=pred_test\n",
        "data_score.to_csv(\"data_score.csv\")"
      ],
      "execution_count": 63,
      "outputs": []
    },
    {
      "cell_type": "code",
      "metadata": {
        "id": "fvM7qS4OcaWd"
      },
      "source": [
        "data_score=pd.concat([data_score, pd.DataFrame(data_score['rouge-1'].tolist())], axis=1)"
      ],
      "execution_count": 64,
      "outputs": []
    },
    {
      "cell_type": "markdown",
      "metadata": {
        "id": "sf40zV6heBng"
      },
      "source": [
        "**SAMPLE SUMMARIZED DATA**"
      ]
    },
    {
      "cell_type": "code",
      "metadata": {
        "colab": {
          "base_uri": "https://localhost:8080/",
          "height": 1000
        },
        "id": "W-yEQ40kcr7g",
        "outputId": "c5083153-6f88-4dd5-eeda-16e7a2cd9e72"
      },
      "source": [
        "data_score.head()"
      ],
      "execution_count": 65,
      "outputs": [
        {
          "output_type": "execute_result",
          "data": {
            "text/html": [
              "<div>\n",
              "<style scoped>\n",
              "    .dataframe tbody tr th:only-of-type {\n",
              "        vertical-align: middle;\n",
              "    }\n",
              "\n",
              "    .dataframe tbody tr th {\n",
              "        vertical-align: top;\n",
              "    }\n",
              "\n",
              "    .dataframe thead th {\n",
              "        text-align: right;\n",
              "    }\n",
              "</style>\n",
              "<table border=\"1\" class=\"dataframe\">\n",
              "  <thead>\n",
              "    <tr style=\"text-align: right;\">\n",
              "      <th></th>\n",
              "      <th>rouge-1</th>\n",
              "      <th>rouge-2</th>\n",
              "      <th>rouge-l</th>\n",
              "      <th>text</th>\n",
              "      <th>summary</th>\n",
              "      <th>pred</th>\n",
              "      <th>f</th>\n",
              "      <th>p</th>\n",
              "      <th>r</th>\n",
              "    </tr>\n",
              "  </thead>\n",
              "  <tbody>\n",
              "    <tr>\n",
              "      <th>0</th>\n",
              "      <td>{'f': 0.5468749950305177, 'p': 0.5932203389830508, 'r': 0.5072463768115942}</td>\n",
              "      <td>{'f': 0.3650793601108592, 'p': 0.39655172413793105, 'r': 0.3382352941176471}</td>\n",
              "      <td>{'f': 0.5321100867637405, 'p': 0.5686274509803921, 'r': 0.5}</td>\n",
              "      <td>A suspected mortar shell was found at Vasant Kunj in South Delhi early on Saturday, triggering panic in the locality.A ragpicker alerted local residents after discovering the explosive at a garbage dumping site in Kishangarh area. The police control room was informed around 8.30 am.Additional deputy commissioner of police (south) Chinmoy Biswal said personnel from the nearest police station ? led by station house officer Gagan Bhaskar ? were immediately deployed to the area. They cordoned off the spot, and covered the object with a bomb blanket as an interim measure.An unmanned robotic vehicle moves the mortar shell from the location in Delhi?s Vasant Kunj on Saturday.\\r\\n\\t\\t\\t\\t\\t\\t\\t(Ravi Choudhary/ HT?Photo)\\r\\n\\t\\t\\t\\t\\t\\tLater, a bomb disposal squad of the National Security Guard arrived at the scene and picked up the explosive using a remotely operated vehicle (a robot used to handle sensitive equipment). The mortar was then placed in a blast-proof vessel for transportation to Manesar, where it would be disposed of in keeping with standard protocol.National Security Guard personnel and bomb experts oversee the transporting operations of the mortar shell.\\r\\n\\t\\t\\t\\t\\t\\t\\t(Ravi Choudhary/HT?Photo)\\r\\n\\t\\t\\t\\t\\t\\tUpon conducting a visual inspection, experts identified the shell as an old, foreign-made piece of ordinance with an intact fuse. When asked if the explosive was capable of exploding, Biswal said: ?That can be said only after a full-fledged technical investigation. It may not explode even during disposal due to loss of potency.?A senior police officer said they were enquiring if local residents had seen anybody leaving the object at the dumping site. Footage acquired from CCTV cameras installed in the locality was also being examined for clues, he added.</td>\n",
              "      <td>A suspected mortar shell was found in Vasant Kunj in Delhi on Saturday and the National Security Guard (NSG) was called in, according to reports. The NSG picked up the explosive, placed it in a blast-proof vessel for transportation to Manesar, where it would be disposed off. \"It is alive enough to explode or be launched,\" said an official.</td>\n",
              "      <td>A suspected mortar shell was found at a garbage dumping site in Delhi's Vasant Kunj early on Saturday, triggering panic in the locality. The bomb disposal squad of the National Security Guard arrived at the scene and picked up the explosive using a remotely operated vehicle. It was then placed in a blast-proof vessel for transportation to Manesar, where it would be disposed of in keeping with standard protocol.</td>\n",
              "      <td>0.546875</td>\n",
              "      <td>0.593220</td>\n",
              "      <td>0.507246</td>\n",
              "    </tr>\n",
              "    <tr>\n",
              "      <th>1</th>\n",
              "      <td>{'f': 0.38181817683305785, 'p': 0.40384615384615385, 'r': 0.3620689655172414}</td>\n",
              "      <td>{'f': 0.1481481431635804, 'p': 0.1568627450980392, 'r': 0.14035087719298245}</td>\n",
              "      <td>{'f': 0.29787233543458586, 'p': 0.3111111111111111, 'r': 0.2857142857142857}</td>\n",
              "      <td>Martin Landau, the chameleon-like actor who gained fame as the crafty master of disguise in the 1960s TV show Mission: Impossible, then capped a long and versatile career with an Oscar for his poignant portrayal of aging horror movie star Bela Lugosi in 1994?s Ed Wood, has died. He was 89.Landau died Saturday of unexpected complications during a short stay at UCLA Medical Centre, his publicist Dick Guttman said.Mission: Impossible, which also starred Landau?s wife, Barbara Bain, became an immediate hit upon its debut in 1966. It remained on the air until 1973, but Landau and Bain left at the end of the show?s third season amid a financial dispute with the producers. They starred in the British-made sci-fi series Space: 1999 from 1975 to 1977.Academy award winning actor Martin Landau sits on his new star on the Hollywood Walk of Fame, as he poses for photographers during ceremonies to honour him, in Hollywood, December 17, 2001.\\r\\n\\t\\t\\t\\t\\t\\t\\t(REUTERS)\\r\\n\\t\\t\\t\\t\\t\\tLandau might have been a superstar but for a role he didn?t play - the pointy-eared starship Enterprise science officer, Mr. Spock. Star Trek creator Gene Rodenberry had offered him the half-Vulcan, half-human who attempts to rid his life of all emotion. Landau turned it down.?A character without emotions would have driven me crazy; I would have had to be lobotomized,? he explained in 2001. Instead, he chose Mission: Impossible, and Leonard Nimoy went on to everlasting fame as Spock.Ironically, Nimoy replaced Landau on Mission: Impossible.After a brief but impressive Broadway career, Landau had made an auspicious film debut in the late 1950s, playing a soldier in Pork Chop Hill and a villain in the Alfred Hitchcock classic North By Northwest.He enjoyed far less success after Mission: Impossible, however, finding he had been typecast as Rollin Hand, the top-secret mission team?s disguise wizard. His film career languished for more than a decade, reaching its nadir with his appearance in the 1981 TV movie The Harlem Globetrotters on Gilligan?s Island.Actor Martin Landau holds the Screen Actors Guild Award he won for outstanding performance by a male actor in a supporting role for his role in the film Ed Wood at the first-ever televised awards show for the organization in Los Angeles.\\r\\n\\t\\t\\t\\t\\t\\t\\t(REUTERS)\\r\\n\\t\\t\\t\\t\\t\\tHe began to find redemption with a sympathetic role in Tucker: The Man and his Dream, the 1988 Francis Ford Coppola film that garnered Landau his first Oscar nomination.He was nominated again the next year for his turn as the adulterous husband in Woody Allen?s Crimes and Misdemeanors.His third nomination was for Ed Wood, director Tim Burton?s affectionate tribute to a man widely viewed as the worst Hollywood filmmaker of all time.?There was a 10-year period when everything I did was bad. I?d like to go back and turn all those films into guitar picks,? Landau said after accepting his Oscar.In Ed Wood, he portrayed Lugosi during his final years, when the Hungarian-born actor who had become famous as Count Dracula was ill, addicted to drugs and forced to make films with Ed Wood just to pay his bills. A gifted mimic trained in method acting, Landau had thoroughly researched the role.Actor Martin Landau arrives for the European premiere of the film Frankenweenie at the Odeon Leicester Square in central London October 10, 2012.\\r\\n\\t\\t\\t\\t\\t\\t\\t(REUTERS)\\r\\n\\t\\t\\t\\t\\t\\t?I watched about 35 Lugosi movies, including ones that were worse than anything Ed Wood ever made,? he recalled in 2001. ?Despite the trash, he had a certain dignity about him, whatever the role.?So did the New York-born Landau, who had studied drawing at the Pratt Institute in Brooklyn and worked for a time as a New York Daily News cartoonist before switching careers at age 22.He had dabbled in acting before the switch, making his stage debut in 1951 at a Maine summer theatre in Detective Story and off-Broadway in First Love.In 1955, he was among hundreds who applied to study at the prestigious Actors Studio and one of only two selected. The other was Steve McQueen.On Broadway, Landau won praise for his work in Middle of the Night, which starred Edward G Robinson. He toured with the play until it reached Los Angeles, where he began his film career.Landau and Bain had two daughters, Susan and Juliet. They divorced in 1993.Follow @htshowbiz for more</td>\n",
              "      <td>Oscar-winning Hollywood actor Martin Landau passed away aged 89 on Monday in California. Landau won an Oscar for Best Supporting Actor in 1995 for the film 'Ed Wood'. He is known for his role in the television series 'Mission: Impossible' for which he received numerous Emmy nominations and a Golden Globe award.</td>\n",
              "      <td>Actor Martin Landau, known for his role in the 1960s TV show Mission: Impossible, died on Saturday at the age of 89. Landau was awarded an Oscar for his portrayal of aging horror movie star Bela Lugosi in 1994's Ed Wood. Landau had previously been cast as the disguise wizard Rollin Hand in the 1981 film 'Mission: Impossible'.</td>\n",
              "      <td>0.381818</td>\n",
              "      <td>0.403846</td>\n",
              "      <td>0.362069</td>\n",
              "    </tr>\n",
              "    <tr>\n",
              "      <th>2</th>\n",
              "      <td>{'f': 0.44444443948979595, 'p': 0.49122807017543857, 'r': 0.4057971014492754}</td>\n",
              "      <td>{'f': 0.3387096724661811, 'p': 0.375, 'r': 0.3088235294117647}</td>\n",
              "      <td>{'f': 0.5094339572801709, 'p': 0.54, 'r': 0.48214285714285715}</td>\n",
              "      <td>Australia?s consumer watchdog carried out a sting operation against Apple which it says caught staff repeatedly misleading iPhone customers about their legal rights to a free repair or replacement after a so-called ?error 53? malfunction, court documents reveal.Australian authorities lodged a high-profile case against Apple this year, after iPhone and iPad customers experienced a malfunction that rendered phones useless if it detects that a repair has been carried out by a non-Apple technician. The fault occurred between late 2014 until early last year.The case, set to go to trial in mid-December, accuses Apple of wrongly telling customers they were not entitled to free replacements or repair if they had taken their devices to an unauthorised third-party repairer.That advice was allegedly given even where the repair ? a screen replacement, for example ? was not related to the fault.Apple has so far chosen to remain silent about the case brought by the Australian Competition and Consumer Commission (ACCC). But court documents obtained by Guardian Australia show the company has denied the ACCC?s allegations, saying it did not mislead or cause any harm to its Australian customers.The documents also show how the ACCC used undercover methods to investigate Apple. Investigators, posing as iPhone customers, called all 13 Apple retailers across Australia in June last year.They told Apple staff their iPhone speakers had stopped working after screens were replaced by a third party.Apple?s response was the same in each of the 13 calls, the ACCC alleges.?In each call, Apple Australia represented to the ACCC caller that no Apple entity ... was required to, or would, remedy the defective speaker at no cost under the [Australian consumer law] if the screen of the iPhone had been replaced by someone other than Apple Australia or an Apple-authorised service provider,? the ACCC?s court claim alleged. Error 53 generally occurred after a user tried to update their phone to iOS 8 or iOS 9, and affected about one in every 1,000 phones supplied by Apple or its resellers between September 2014 and February 2016. Australian consumer law clearly protects the right of a customer to a replacement or free repair if the product is faulty or of unacceptable quality. The ACCC has also alleged information on Apple US?s website misled customers about their rights. The website told users experiencing error 53 that: ?If the screen or any other part on your iPhone or iPad was replaced somewhere else, contact Apple Support about pricing information for out-of-warranty repairs.?Apple, in response, said the undercover calls made by the ACCC cannot be considered as breaches because consumer law does not exist in ?hypothetical circumstances?. The company said that real customers who had called the store would have received other information from Apple that informed them of their rights under consumer law. Apple denied the message on its US website was an ?express representation? that consumers were not entitled to a free replacement or repair. Apple said the website was referring only to the conditions of the company?s own limited warranty, which existed in addition to a customer?s statutory rights. It was only one part of the communications between the company and its customers over error 53, the company said, and must be interpreted in the broader context. Apple said it had also established an error 53 outreach program and offered replacements or repairs for many of the phones referred to in the ACCC?s case. It also released an update in February last year to resolve the problem and restore the functionality of affected devices. Apple has previously faced court action in the United States relating to error 53, but the case was thrown out last year.</td>\n",
              "      <td>A sting operation against Apple by Australian consumer watchdog has revealed the staff repeatedly misled iPhone customers over 'error 53' malfunction. The watchdog said the staff wrongly denied consumers free replacements or repair if they had taken their devices to an unauthorised third-party repairer. Between 2014 and 2016, 'error 53' malfunction rendered many iPhones and iPads useless.</td>\n",
              "      <td>Australia's consumer watchdog carried out a sting operation against Apple which it says caught staff repeatedly misleading iPhone customers about their legal rights to a free repair or replacement after an error 53 malfunction. The case, set to go to trial in December, accuses Apple of wrongly telling customers they were not entitled to free replacements or repair if they had taken their devices to an unauthorised third-party repairer.</td>\n",
              "      <td>0.444444</td>\n",
              "      <td>0.491228</td>\n",
              "      <td>0.405797</td>\n",
              "    </tr>\n",
              "    <tr>\n",
              "      <th>3</th>\n",
              "      <td>{'f': 0.6949152492387246, 'p': 0.7068965517241379, 'r': 0.6833333333333333}</td>\n",
              "      <td>{'f': 0.5344827536221761, 'p': 0.543859649122807, 'r': 0.5254237288135594}</td>\n",
              "      <td>{'f': 0.7238095188136056, 'p': 0.7037037037037037, 'r': 0.7450980392156863}</td>\n",
              "      <td>Indian boxers Shiva Thapa (60kg), Sumit Sangwan (91kg) and Amit Phangal (49kg) entered the semi-finals of their weight categories at the Asian Boxing Championships on Wednesday.The trio not only ensured podium finish for themselves, but also qualified for the World Championships to be held in Hamburg, Germany, from August 25 to September 3.Sumit was the first Indian boxer to advance to the last-four stage when he thrashed third seed Fengkai Yu of China 4-1 in the Light Heavyweight (81kg) quarter-finals.Sumit will now face second seed Jakhon Qurbonov of Tajikistan in the semi-finals on Friday. Qurbonov had defeated Mehmood Sanaullah of Pakistan in the quarter-finals.Amit also faced a relatively easy day, defeating fourth seed Cornelis Kwangu Langu of Indonesia 5-0 in the last-eight stage of the Light Flyweight (49kg) category.He is expected to face a tough task in the semi-finals against reigning Olympic and Asian champion Hasanboy Dusmatov of Uzbekistan.Later in the day, Shiva defeated Chu-En Lai of Taiwan 5-0 in the Lightweight (60kg) quarter-finals.</td>\n",
              "      <td>Indian boxers Shiva Thapa (60 kg), Sumit Sangwan (91 kg) and Amit Phangal (49 kg) assured India of a medal each after entering the semi-finals of their respective weight categories at the Asian Boxing Championship on Wednesday. The trio also qualified for the World Championships which will be held in Hamburg, Germany, from August 25 to September 3.</td>\n",
              "      <td>Indian boxers Shiva Thapa (60kg), Sumit Sangwan (91kg) and Amit Phangal (49kg) entered the semi-finals of their weight categories at the Asian Boxing Championships on Wednesday. The trio qualified for the World Championships to be held in Hamburg, Germany, from August 25 to September 3. They will now face second seed Jakhon Qurbonov of Tajikistan in the semi-finals on Friday.</td>\n",
              "      <td>0.694915</td>\n",
              "      <td>0.706897</td>\n",
              "      <td>0.683333</td>\n",
              "    </tr>\n",
              "    <tr>\n",
              "      <th>4</th>\n",
              "      <td>{'f': 0.3833333283555556, 'p': 0.4107142857142857, 'r': 0.359375}</td>\n",
              "      <td>{'f': 0.11864406281959226, 'p': 0.12727272727272726, 'r': 0.1111111111111111}</td>\n",
              "      <td>{'f': 0.2912621309605053, 'p': 0.3191489361702128, 'r': 0.26785714285714285}</td>\n",
              "      <td>Prime Minister Narendra Modi inspected on Tuesday the devastation in parts of Gujarat hit by floods and heavy rains, and announced a payout of Rs 2 lakh to family members of those killed.Gujarat, Modi?s home state, has been lashed by rains and several of its rivers are in spate after neighbouring Rajasthan opened dams, inundating and cutting off villages particularly in the state?s northern parts. At least 82 people have died since the monsoon rains began a month ago.?Everything possible will be done to help the farmers, who suffer immensely due to floods? While reviewing the situation, I could see the Government of Gujarat responded to the flood situation quite swiftly,? the Prime Minister tweeted.He flew over the affected districts in North Gujarat, and announced a relief package of Rs 500 crore. The PM also said a compensation of Rs 2 lakh will be paid for those who died, and Rs 50,000 will be given to those seriously injured from the Prime Minister?s National Relief Fund.The announcements came as rescuers from disaster response teams and the Indian military raced to reach marooned villagers, some of whom were airlifted by military choppers.A flooded Gujarat village is seen from the aircraft from which Prime Minister Narendra Modi inspected the devastation.\\r\\n\\t\\t\\t\\t\\t\\t\\t(PMOIndia/Twitter)\\r\\n\\t\\t\\t\\t\\t\\tBefore the aerial survey, Modi took stock of the situation at a high-level meeting in Ahmedabad attended by chief minister Vijay Rupani and other officials.?The PM assured all possible help and assistance from the centre to normalise the situation in the flood-hit areas of the state,? Rupani said after the meeting.Several places in Banaskantha and Patan, which are otherwise prone to droughts, recorded 15 to 18 inches of rainfall between Monday and Tuesday morning. More than 1 lakh people have been affected, and electricity supply to these regions has been cut off.Heavy to very heavy rains are likely to lash the state in the next 48 hours, according to Met department.Three people have died in rain-related accidents in Banaskantha in the last 24 hours, according to the state flood control room. In the last 24 hours, some 50,000 people have been shifted to safety in the two districts. Over 1,000 people, including 40 stranded on roofs of their houses in Banaskantha, have been evacuated. Four helicopters of the Air Force (IAF), two Army columns and 18 teams of National Disaster Response Force (NDRF) were working for rescue and relief operations.?Rescue and relief operations are going on in full swing. We will restore electricity supply (in Banaskantha and Patan) as soon as possible,? said deputy chief Minister Nitin Patel. Seven lakh food packets have been distributed in affected villages using IAF choppers, since more than 370 roads, including six National Highways and 20 State Highways, remained inundated across the state.</td>\n",
              "      <td>Prime Minister Narendra Modi on Tuesday announced a ?500 crore relief package for flood-hit Gujarat after he conducted an aerial survey in the state. He also announced compensations of ?2 lakh to kins of the 83 deceased and ?50,000 for injured. Modi assured all possible help and assistance from the Centre to normalise the adverse situation.</td>\n",
              "      <td>Prime Minister Narendra Modi on Tuesday inspected the devastation in parts of Gujarat hit by floods and heavy rains, and announced a payout of?2 lakh to family members of those killed. \"Everything possible will be done to help the farmers, who suffer immensely due to floods,\" PM Modi tweeted. Notably, at least 82 people have died since the monsoon rains began a month ago.</td>\n",
              "      <td>0.383333</td>\n",
              "      <td>0.410714</td>\n",
              "      <td>0.359375</td>\n",
              "    </tr>\n",
              "  </tbody>\n",
              "</table>\n",
              "</div>"
            ],
            "text/plain": [
              "                                                                         rouge-1  ...         r\n",
              "0  {'f': 0.5468749950305177, 'p': 0.5932203389830508, 'r': 0.5072463768115942}    ...  0.507246\n",
              "1  {'f': 0.38181817683305785, 'p': 0.40384615384615385, 'r': 0.3620689655172414}  ...  0.362069\n",
              "2  {'f': 0.44444443948979595, 'p': 0.49122807017543857, 'r': 0.4057971014492754}  ...  0.405797\n",
              "3  {'f': 0.6949152492387246, 'p': 0.7068965517241379, 'r': 0.6833333333333333}    ...  0.683333\n",
              "4  {'f': 0.3833333283555556, 'p': 0.4107142857142857, 'r': 0.359375}              ...  0.359375\n",
              "\n",
              "[5 rows x 9 columns]"
            ]
          },
          "metadata": {
            "tags": []
          },
          "execution_count": 65
        }
      ]
    },
    {
      "cell_type": "markdown",
      "metadata": {
        "id": "GEny7m-BeKrH"
      },
      "source": [
        "**5 SUMMARIZATION WITH LEAST SCORE**"
      ]
    },
    {
      "cell_type": "code",
      "metadata": {
        "colab": {
          "base_uri": "https://localhost:8080/",
          "height": 1000
        },
        "id": "E5yUmh3ddTgc",
        "outputId": "04134f31-853d-4e05-9ab6-e50f8be05932"
      },
      "source": [
        "data_score.nsmallest(5, 'f')"
      ],
      "execution_count": 67,
      "outputs": [
        {
          "output_type": "execute_result",
          "data": {
            "text/html": [
              "<div>\n",
              "<style scoped>\n",
              "    .dataframe tbody tr th:only-of-type {\n",
              "        vertical-align: middle;\n",
              "    }\n",
              "\n",
              "    .dataframe tbody tr th {\n",
              "        vertical-align: top;\n",
              "    }\n",
              "\n",
              "    .dataframe thead th {\n",
              "        text-align: right;\n",
              "    }\n",
              "</style>\n",
              "<table border=\"1\" class=\"dataframe\">\n",
              "  <thead>\n",
              "    <tr style=\"text-align: right;\">\n",
              "      <th></th>\n",
              "      <th>rouge-1</th>\n",
              "      <th>rouge-2</th>\n",
              "      <th>rouge-l</th>\n",
              "      <th>text</th>\n",
              "      <th>summary</th>\n",
              "      <th>pred</th>\n",
              "      <th>f</th>\n",
              "      <th>p</th>\n",
              "      <th>r</th>\n",
              "    </tr>\n",
              "  </thead>\n",
              "  <tbody>\n",
              "    <tr>\n",
              "      <th>331</th>\n",
              "      <td>{'f': 0.13592232534640414, 'p': 0.1111111111111111, 'r': 0.175}</td>\n",
              "      <td>{'f': 0.019801975457309242, 'p': 0.016129032258064516, 'r': 0.02564102564102564}</td>\n",
              "      <td>{'f': 0.0898876357278124, 'p': 0.07272727272727272, 'r': 0.11764705882352941}</td>\n",
              "      <td>Ever since its inception, Chiranjeevi troops have been waiting with bated breath to see the megastar making a comeback after a 10-year hiatus. Khaidi No 150 Cast: Chiranjeevi, Kajal Aggarwal, Tarun Arora and Brahmanandam Khaidi No 150 Director: VV VinayakKhaidi No 150 Rating: (3/5)Despite the blockbuster film that Kaththi was, Chiranjeevi has to be appreciated for choosing a remake as his comeback to films. Being at the helm of a remake is like attracting the last nail to one's own coffin as it invariably compels the audience to get into unnecessary comparisons. ALSO READ: Chiranjeevi on Khaidi No 150- I'm not nervous, but curiousALSO READ: Chiranjeevi on Naga Babu-RGV fight- I was hurt, but I didn't reactHowever, director VV Vinayak makes no mistake with Khaidi No 150. Barring a few scenes and songs, the film is a frame-by-frame rendition of the Tamil version.Much like its original, the film introduces Kaththi Seenu (Chiranjeevi), an inmate of a Kolkata prison, trying to escape from the cops. The director shows Seenu's prison number (150), pauses for a few seconds, and then reveals Megastar's face. This customary introduction scene sees a chest-thumping reception from the Telugu circuit; after all, they've been dying to see him for years.As for the plot, a petty thief Kaththi Seenu discovers his badly wounded doppelganger Shankar (also Chiranjeevi) and decides to disguise himself as the latter to escape from the Kolkata police.When the plot slowly unfolds, Seenu gets to know about Shankar, a hydrologist, who is fighting against a corporate tycoon Aggarwal (Tarun Arora). Aggarwal attempts to draw groundwater from the Neeruru village to further his business. He's also to be blamed for the many farmer suicides.After learning the actual reason behind farmer suicides, Seenu and Aggarwal face off in this commercial yet socially relevant entertainer.Apart from the mass moments in the film, what deserves a special mention is Murugadoss's writing. While rampant issues like farmer suicides barely make for front page news, films like Khaidi No 150 or Kaththi pokes the audience's conscience. Films in this genre cater to a larger sect if it manages to deliver entertainment with a veiled social angle in it. In that sense, Khaidi No 150 is a win-win, even if the film is only about half as riveting compared to Chiranjeevi's Rudraveena (1988). There's a superb portion where the director criticises the mainstream media for having failed to address issues like farmer suicide. Some of the scenes have been purposely written to target the masses.Be it dialogue delivery or dancing, Chiranjeevi gives a stellar performance in dual roles. What's amusing about the actor is that even at 61, his age is hardly visible on screen. His son and actor Ram Charan, who has also produced the film, has a guest appearance in the song Ammadu Let's Do Kummudu. It goes without saying that Chiranjeevi's forte is dance and he's flexible with moves even after all these years. Ace comedians Ali and Brahmanandam provide the comic relief in Khaidi No 150.Samantha played the female lead in the Tamil version, while Kajal Aggarwal plays the role in Telugu. Though it's almost necessary to have a heroine on board, we wonder why both the actors were cast in their respective projects.One of the highlights of both the films is the coin fight scene. But the only difference is that while Vijay beat 80 goons to a pulp in Kaththi, the number is multiplied by 10 in its Telugu version. Because, Chiranjeevi. Neil Nitin Mukesh gave a commendable performance as the antagonist in Kaththi. Unfortunately, Tarun Arora is too funny to be taken seriously here.Khaidi No 150 has music by rockstar Devi Sri Prasad. The makers have retained a lot from the Tamil version. Khaidi No 150 would have been far better had Anirudh Ravichander composed the score for the Telugu version as well. Inevitably, most of the background score brings back memories of Kaththi. Though most of the songs spoil the mood of the film, they are worth your time just because you get to watch Chiranjeevi dance.</td>\n",
              "      <td>'Khaidi No 150', which released on Wednesday, \"is more about Chiranjeevi and his return than about the story or cinema,\" wrote The New Indian Express. \"The story has it's heart in the right place,\" wrote Times of India while India Today wrote, \"Films like Khaidi No 150... poke the audience's conscience.\" It was rated 2.5/5 (NIE), 3/5 (TOI, India Today). nnnnnnnn</td>\n",
              "      <td>Actor Chiranjeevi's upcoming film 'Khaidi No 150' is a frame-by-frame rendition of the original. The film introduces Kaththi Seenu, an inmate of a Kolkata prison, trying to escape from the cops. The film also stars Kajal Aggarwal and Tarun Arora.</td>\n",
              "      <td>0.135922</td>\n",
              "      <td>0.111111</td>\n",
              "      <td>0.175000</td>\n",
              "    </tr>\n",
              "    <tr>\n",
              "      <th>90</th>\n",
              "      <td>{'f': 0.14678898587660988, 'p': 0.13333333333333333, 'r': 0.16326530612244897}</td>\n",
              "      <td>{'f': 0.03738317262293716, 'p': 0.03389830508474576, 'r': 0.041666666666666664}</td>\n",
              "      <td>{'f': 0.1904761859552155, 'p': 0.14545454545454545, 'r': 0.27586206896551724}</td>\n",
              "      <td>Prime Minister Narendra Modi showed his might in his own parliamentary constituency of Varanasi, which will vote on March 8, yesterday with a massive roadshow. However, questions were raised over the show of strength with the Congress moving the Election Commission.The Congress complained that Modi's roadshow was held without necessary permission from the Varanasi administration. The Election Commission has even sought a reply from the District Magistrate of Varanasi regarding Modi's roadshow.The BJP today said that yesterday's event was not an official roadshow of PM Modi, who was on his way to Kashi Vishwanath temple and Kaal Bhairav temple while people just joined him on his way.</td>\n",
              "      <td>Quoting writer Mark Twain in Varanasi on Sunday, Prime Minister Narendra Modi said, \"'Our Benaras is older than history, older than tradition.\" \"It is my dream to bring the whole country forward, including Purvanchal. If we do so, it won't take long for us to progress,\" Modi added. The leader also reiterated his slogan of 'Sabka saath, sabka vikas'.</td>\n",
              "      <td>The Election Commission has sought a reply from the District Magistrate of Varanasi regarding Prime Minister Narendra Modi's roadshow. The Congress complained that Modi's roadshow was held without necessary permission from the Varanasi administration. The Election Commission has also sought a reply from the District Magistrate regarding Modi's roadshow.</td>\n",
              "      <td>0.146789</td>\n",
              "      <td>0.133333</td>\n",
              "      <td>0.163265</td>\n",
              "    </tr>\n",
              "    <tr>\n",
              "      <th>420</th>\n",
              "      <td>{'f': 0.16541352888235641, 'p': 0.18333333333333332, 'r': 0.1506849315068493}</td>\n",
              "      <td>{'f': 0.045801521766797346, 'p': 0.05084745762711865, 'r': 0.041666666666666664}</td>\n",
              "      <td>{'f': 0.17142856646530627, 'p': 0.1875, 'r': 0.15789473684210525}</td>\n",
              "      <td>It took him five years and lot of courage to openly speak about his battle with drug addiction. After making a promising start in Bollywood, Prateik Babbar vanished from the limelight for a good five years. His absence might not have caught anybody's attention, but his return has grabbed many eyeballs. And why not? For the first time, the 30-year-old actor has openly spoken about his battle with substance abuse. When many actors shy away from talking about their issues, Prateik has come out in the open, talking about his his long battle with addiction. In an interview to Mumbai Mirror, the actor talked about addiction, recovery and his career. This is what he said. On addiction He has come to terms with complications of his life and has fought the demons of substance abuse. It was last year when he first talked about his drug addiction, and in the last one year, he has been a \"work in progress\". \"Addiction is not a moral failing, it does not make you a bad person even if you have made a poor choice. People still think I got hooked because it was 'cool' for a celebrity to indulge in recreational drugs. But for me, it was more of an escape from reality. My childhood was complicated and there were a lot of questions I didn't have answers to so I looked elsewhere for solace,\" said Prateik.  On acceptanceIt took him a while to understand that he was an addict, and he needed to get out of it as soon as possible. \"Acceptance and speaking up can help change the face of addiction. It educates those who are ailing and tells others that the stereotype of people suffering is the exception rather than the rule. Acceptance is one of the first steps to recovery,\" added the actor. On coming outPrateik came out in open about his addiction as he didn't want to keep his fans in the dark. He wanted them to be aware of the dark truth of his life. \"I'm a fighter and criticism is not an option for me. Yes, one is entitled to his/her opinion and it's human to be judgmental but everyone deserves a second chance. The idea is to move on. I want to create awareness by showcasing the boy uninterrupted so the world doesn't get to see just one side of the story,\" said the 30-year-old actor. On recoveryIt has taken him a few years to get back to his normal life and he says that with each passing day, he is making an effort to better his life. He said, \"I'm still on the road to recovery but I'm proud to have turned over a new leaf. Substance abuse is like a bad marriage, even after you quit, it haunts you for a while till people start noticing the turnaround. I'm answerable to only my conscience. And yes, people take me more seriously now that I'm no longer the hippie rave but someone committed to fitness, auditions and family.\"On his careerHe began his career with the 2008 film Jaane Tu... Ya Jaane Na, and went onto bag a few promising roles in the subsequent years. However, it's been almost five years since Prateik has been seen on the big screen. But the actor is all set to bounce back. \"I'm looking for quality work and am not embarrassed to go out and ask for it. I'm also doing a lot of theatre with Jeff Goldberg because I believe it polishes your acting skills,\" he added.</td>\n",
              "      <td>Actor Prateik Babbar, while speaking about dealing with drug addiction, said substance abuse is like a bad marriage. \"[E]ven after you quit, it haunts you for a while till people start noticing the turnaround,\" he added. Prateik further said, \"Addiction is not a moral failing, it doesn't make you a bad person even if you have made a poor choice\".</td>\n",
              "      <td>Actor Prateik Babbar has revealed that he was addicted to drugs for five years. \"People still think I got hooked because it was 'cool' for a celebrity to indulge in recreational drugs, but for me, it was more of an escape from reality,\" said the 30-year-old actor. He added, \"It took him a while to understand that he was an addict and needed to get out of it as soon as possible.\"</td>\n",
              "      <td>0.165414</td>\n",
              "      <td>0.183333</td>\n",
              "      <td>0.150685</td>\n",
              "    </tr>\n",
              "    <tr>\n",
              "      <th>116</th>\n",
              "      <td>{'f': 0.20799999507200015, 'p': 0.23636363636363636, 'r': 0.18571428571428572}</td>\n",
              "      <td>{'f': 0.03252032027761328, 'p': 0.037037037037037035, 'r': 0.028985507246376812}</td>\n",
              "      <td>{'f': 0.17021276106835687, 'p': 0.2, 'r': 0.14814814814814814}</td>\n",
              "      <td>A woman from Chembur had gone to buy vegetables outside her building for a few minutes in April. When she returned she saw that her house was ransacked and her gold jewellery missing. Another woman in Shivaji Nagar went to her daughter?s school to pick her up and when she returned she found her house robbed.For the past one year, the Mumbai and Thane police were getting regular complaints of house break-ins within minutes by unknown thieves.After months of investigation and rounding up several history sheeters, the Tilak Nagar police found just one witness. He told the police that the robbers were dressed in jeans and t-shirts and had sunglasses. He said that the men got out of a Swift Desire and seemed to be guests at a house. However they left the building within 10 minutes, said the witness. ?We only knew that they drove a Swift Desire,? said inspector Santosh Kamble from Tilak Nagar police station.A team of three officers were then assigned to investigate the series of house break-ins. The officers, including PI Avinash Pore and PSI Amol Ambawane, found that the car that the robbers used had a number plate of a bullet bike from Meerut. The informers told the officers that this gang was from Meerut and travelled by car from Uttar Pradesh to Mumbai. The gang would stop on the way to Mumbai and break in to houses. ?The Meerut gang only chose two- or three-storey  houses for a quick escape,? said Shahaji Umap, deputy commissioner of police (zone VI). After finding out that the men had rented an apartment in Mumbra, the police team searched the house to find their clothes and other belongings. ?The five had rented an expensive apartment, saying that they were engineers and had to travel a lot. They did so to avoid staying at lodges and hotels,? added Umap. The team then left for UP on July 5 where they traced the five people who stayed in Meerut and Bulandshahr. After waiting for 12 days and following the five, the police officers arrested them when they gathered at Meerut on Monday to begin their journey to Mumbai. The five identified as Imran Qureshi, 24, Afsal Qureshi, 27, Shahid Shaikh, 35, Sameer Ali, 26, driver, and Irfan Alvi, 35, have allegedly carried out 12 robberies in Mumbai and 25 in Thane and Gujarat.?Although they were school drop outs they had made all arrangements to escape arrest. On searching their car, we found cavities underneath the gear box and steering wheel where they used to stash valuables so that they don?t get caught at nakabandis,? said Umap. The gang has been arrested for the first time. READ?121 crore stolen in 2016, Mumbai cops recovered just ?23 croreMan arrested for breaking into Railway cop?s house</td>\n",
              "      <td>The Mumbai Police has arrested a gang of five robbers accused of robbing 37 homes in Mumbai, Thane, and Gujarat. Police traced the robbers who stayed in Uttar Pradesh and arrested them in Meerut. The robbers would travel by car from Uttar Pradesh to Mumbai and stop on the way to break into houses.</td>\n",
              "      <td>A woman from Chembur had gone to buy vegetables outside her building for a few minutes in April and when she returned she saw that her house was ransacked and her gold jewellery missing. Another woman in Shivaji Nagar went to her daughter's school to pick her up and found her house robbed. The Mumbai and Thane police were getting regular complaints of house break-ins within minutes by unknown thieves.</td>\n",
              "      <td>0.208000</td>\n",
              "      <td>0.236364</td>\n",
              "      <td>0.185714</td>\n",
              "    </tr>\n",
              "    <tr>\n",
              "      <th>114</th>\n",
              "      <td>{'f': 0.20869564718336497, 'p': 0.2, 'r': 0.21818181818181817}</td>\n",
              "      <td>{'f': 0.017699110054038528, 'p': 0.01694915254237288, 'r': 0.018518518518518517}</td>\n",
              "      <td>{'f': 0.1372548969915419, 'p': 0.12727272727272726, 'r': 0.14893617021276595}</td>\n",
              "      <td>Whether it is a supernova or an asteroid impact, should a cosmic calamity strike, it seems there will be at least one form of life left: a tubby, microscopic animal with the appearance of a crumpled hoover bag.The creatures, known as tardigrades, are staggeringly hardy animals, a millimetre or less in size, with species living in wet conditions that range from mountain tops to chilly ocean waters to moss and lichen on land.?They can survive incredible conditions ? we are talking close to absolute zero, the vacuum of space, exposure to radiation that would kill us, and these things just walk away from it like nothing happened,? said David Sloan, an astrophysicist from the University of Oxford.Now new research by Sloan and colleagues has shown that the creatures would survive any cosmic disaster that might conceivably be thrown at Earth ? a discovery that could have implications elsewhere in the solar system, and beyond. ?There are quite a lot of stars like our sun out there, and about 20% of these stars have an Earth-like planet around them,? said Sloan. ?What you then want to ask is if life started on one of these planets, what are the odds that it is still around??Writing in the journal Scientific Reports, the researchers describe how they probed the conundrum by exploring the likelihood of a variety of catastrophes serious enough to wipe out tardigrades on an Earth-like planet, including a nearby supernova, a burst of gamma-rays, and an impact by a large asteroid powerful enough to cause the oceans to boil away. But the team found that the chances of such events were so remote as to be extremely unlikely ? there was little chance of a supernova occurring close enough to an Earth-like planet to kill off the creatures, and it would take an impact from an asteroid or dwarf planet near the mass of Vesta for the oceans to boil. ?There are about 17 [asteroids] this big in our solar system, but they are all on sufficient orbits that they will never intersect with us,? said Sloan. The upshot, he said, was that it was very unlikely any cosmic event would be so catastrophic as to sterilise an Earth-like planet where life, of the sort we know, had got going. ?Because [tardigrades] are so hardy it means that events that we are worried about as human beings, and rightly so, certainly wouldn?t concern you if you just considered all life,? said Sloan. Matthew Cobb, professor of zoology at the University of Manchester, who was not involved in the study said the findings were reassuring for the future of life on Earth.?It suggests that the complete eradication of life on Earth is extremely unlikely until we get to the point that the sun enlarges and all the oceans boil away,? he said. ?Many organisms, in particular animals and bacteria, live in the deep ocean, which the authors show would be unaffected by any conceivable cosmic cataclysm.?Mark Blaxter, professor of evolutionary genomics at the University of Edinburgh, agreed, adding that there are other organisms have a similar survival strategy to tardigrades. What?s more, he said, there are also organisms that live very deep underground in hot water within continental and under-sea-floor rocks. ?Sterilising the planet would have to deal with these too,? he noted. He also stressed that even tardigrades are not invincible. ?[Land-based] tardigrades stay alive in extreme conditions by drying out completely. So if there was no water left ? there would be no ?live? tardigrades, just dried up ones,? said Blaxter. ?And if there was some water left so that the tardigrades could re-animate, if there was no food left they eat algae and fungi - they too would be dead in a couple of weeks.?Cobb, too, noted that even if the tardigrades were the only survivors, they would face a struggle. ?For the tardigrades to inherit the Earth, whatever catastrophe swept over the planet would have to return to normal-ish conditions within a matter of decades at most, or it really could be curtains,? he said.</td>\n",
              "      <td>The most resilient form of life on Earth, tardigrade, also known as water bear, will survive until the Sun dies, as per an Oxford University research. The eight-legged micro-animal can survive for 30 years without food or water, and endure temperature extremes from -270ºC to 150ºC. Further, tardigrades can withstand catastrophic events like large asteroid impacts, supernovae, and gamma-ray bursts.</td>\n",
              "      <td>Scientists from the University of Oxford have found that tardigrades, a micro-organism with the appearance of a crumpled hoover bag, would survive any cosmic disaster that might strike Earth. The creatures can survive extreme conditions, including exposure to radiation that would kill them, and they just walk away from it like nothing happened, scientists said.</td>\n",
              "      <td>0.208696</td>\n",
              "      <td>0.200000</td>\n",
              "      <td>0.218182</td>\n",
              "    </tr>\n",
              "  </tbody>\n",
              "</table>\n",
              "</div>"
            ],
            "text/plain": [
              "                                                                            rouge-1  ...         r\n",
              "331  {'f': 0.13592232534640414, 'p': 0.1111111111111111, 'r': 0.175}                 ...  0.175000\n",
              "90   {'f': 0.14678898587660988, 'p': 0.13333333333333333, 'r': 0.16326530612244897}  ...  0.163265\n",
              "420  {'f': 0.16541352888235641, 'p': 0.18333333333333332, 'r': 0.1506849315068493}   ...  0.150685\n",
              "116  {'f': 0.20799999507200015, 'p': 0.23636363636363636, 'r': 0.18571428571428572}  ...  0.185714\n",
              "114  {'f': 0.20869564718336497, 'p': 0.2, 'r': 0.21818181818181817}                  ...  0.218182\n",
              "\n",
              "[5 rows x 9 columns]"
            ]
          },
          "metadata": {
            "tags": []
          },
          "execution_count": 67
        }
      ]
    },
    {
      "cell_type": "markdown",
      "metadata": {
        "id": "QHKMn1tteWj_"
      },
      "source": [
        "**5 SUMMARIZATION WITH MORE SCORE**"
      ]
    },
    {
      "cell_type": "code",
      "metadata": {
        "colab": {
          "base_uri": "https://localhost:8080/",
          "height": 1000
        },
        "id": "dP1aIZlvd3HH",
        "outputId": "36f76e3e-1c22-482c-9bfc-5d24cc8b7508"
      },
      "source": [
        "data_score.nlargest(5, 'f')"
      ],
      "execution_count": 68,
      "outputs": [
        {
          "output_type": "execute_result",
          "data": {
            "text/html": [
              "<div>\n",
              "<style scoped>\n",
              "    .dataframe tbody tr th:only-of-type {\n",
              "        vertical-align: middle;\n",
              "    }\n",
              "\n",
              "    .dataframe tbody tr th {\n",
              "        vertical-align: top;\n",
              "    }\n",
              "\n",
              "    .dataframe thead th {\n",
              "        text-align: right;\n",
              "    }\n",
              "</style>\n",
              "<table border=\"1\" class=\"dataframe\">\n",
              "  <thead>\n",
              "    <tr style=\"text-align: right;\">\n",
              "      <th></th>\n",
              "      <th>rouge-1</th>\n",
              "      <th>rouge-2</th>\n",
              "      <th>rouge-l</th>\n",
              "      <th>text</th>\n",
              "      <th>summary</th>\n",
              "      <th>pred</th>\n",
              "      <th>f</th>\n",
              "      <th>p</th>\n",
              "      <th>r</th>\n",
              "    </tr>\n",
              "  </thead>\n",
              "  <tbody>\n",
              "    <tr>\n",
              "      <th>89</th>\n",
              "      <td>{'f': 0.823529406765059, 'p': 0.8166666666666667, 'r': 0.8305084745762712}</td>\n",
              "      <td>{'f': 0.7008546958550662, 'p': 0.6949152542372882, 'r': 0.7068965517241379}</td>\n",
              "      <td>{'f': 0.849056598773585, 'p': 0.8490566037735849, 'r': 0.8490566037735849}</td>\n",
              "      <td>The Bombay high court has granted compensation of Rs2lakh to a 63-year-old murder convict from Aurangabad because he was kept in jail for three years and nine months beyond his sentence. A division bench of justices TV Nalawade and Sunil Kotwal directed the government to pay the amount to Ranjitsingh Gill within 45 days, failing which it would have to shell out interest at the rate of 12% a year. Gill was arrested in August 1975 on murder charges. He was acquitted by a trial court but the Bombay high court overturned the order and sentenced him to life imprisonment. The high court order was later upheld by the Supreme Court. After serving 17 years and nine months in jail, Gill was released in February 2002. Two years later, he approached the high court, seeking compensation of Rs25 lakh on the grounds that he was illegally detained for three years and nine months beyond the term of his sentence. Though the court agreed that section 433A (giving powers to state to commute or remit sentence)?of the Criminal Procedure Code, which came into effect three years after his conviction, was not applicable in this case, it said that the government had failed to release him on time. ?This court holds that compensation needs to be paid to the petitioner,? ruled the court. ?On the date he submitted his petition, the petitioner was about 50-year-old and it can be said that he lost more than three years of his active life owing to the illegal detention,? said the bench. ?When a person is kept behind bars, his entire family suffers. In our society, the male member is generally the main earner of the family,? it observedREADBombay high court irked with state?s cap on compensation for rape survivors at ?3 lakhBombay high court asks state to compensate student who lost MBBS seat to college irregularities</td>\n",
              "      <td>The Bombay High Court granted a compensation of ?2 lakh to a 63-year-old murder convict as he was illegally detained in jail for three years and nine months beyond his sentence. A bench of justices directed the government to pay him within 45 days, failing which it would have to shell out interest at the rate of 12% a year.</td>\n",
              "      <td>The Bombay High Court has granted compensation of?2 lakh to a 63-year-old murder convict from Aurangabad because he was kept in jail for three years and nine months beyond his sentence. The court directed the government to pay the amount within 45 days, failing which it would have to shell out interest at the rate of 12% a year.</td>\n",
              "      <td>0.823529</td>\n",
              "      <td>0.816667</td>\n",
              "      <td>0.830508</td>\n",
              "    </tr>\n",
              "    <tr>\n",
              "      <th>203</th>\n",
              "      <td>{'f': 0.81739129937845, 'p': 0.8867924528301887, 'r': 0.7580645161290323}</td>\n",
              "      <td>{'f': 0.6902654817573812, 'p': 0.75, 'r': 0.639344262295082}</td>\n",
              "      <td>{'f': 0.8199999950180001, 'p': 0.8723404255319149, 'r': 0.7735849056603774}</td>\n",
              "      <td>A Chennai-based NGO today filed a Public Interest Litigation (PIL) in the Supreme Court demanding a CBI probe into the death of former Tamil Nadu Chief Minister J Jayalalithaa.The petition has also asked for the recovery of all medical documents during the AIADMK chief's stay in Chennai's Apollo Hospital for more than two months.Jayalalithaa, 68, died of cardiac arrest on December 5. Her stay in Apollo since September 22 was marked by secrecy, forcing many to ask questions about her health and the future of the AIADMK.ALSO READ: What exactly happened to Jayalalithaa? We got this from doctors who know Last week, senior Tamil actor Gautami Tadimalla had written to Prime Minister Narendra Modi, raising questions about the \"secrecy\" maintained by the Tamil Nadu government during Jayalalithaa's treatment.ALSO READ: How did Jayalalithaa die? Tamil actor Gautami Tadimalla writes to PM Modi for answers</td>\n",
              "      <td>A Chennai-based NGO has filed a Public Interest Litigation (PIL) in the Supreme Court demanding a CBI probe into Late Tamil Nadu Chief Minister J Jayalalithaa's death. The petition has also sought for the recovery of all medical documents during the AIADMK Chief's stay in Chennai's Apollo Hospitals for more than two months.</td>\n",
              "      <td>A Chennai-based NGO has filed a Public Interest Litigation (PIL) in the Supreme Court demanding a CBI probe into the death of former Tamil Nadu Chief Minister J Jayalalithaa. The petition also asked for the recovery of all medical documents during the AIADMK chief's stay in Chennai's Apollo Hospital for more than two months. Jayalalithaa died of cardiac arrest on December 5.</td>\n",
              "      <td>0.817391</td>\n",
              "      <td>0.886792</td>\n",
              "      <td>0.758065</td>\n",
              "    </tr>\n",
              "    <tr>\n",
              "      <th>147</th>\n",
              "      <td>{'f': 0.8108108058112168, 'p': 0.8035714285714286, 'r': 0.8181818181818182}</td>\n",
              "      <td>{'f': 0.7339449491288613, 'p': 0.7272727272727273, 'r': 0.7407407407407407}</td>\n",
              "      <td>{'f': 0.8453608197427995, 'p': 0.8367346938775511, 'r': 0.8541666666666666}</td>\n",
              "      <td>Sabzar Ahmad Bhat, the slain Hizbul commander who routinely released his photographs in combat gear for social media, was no braveheart. Details emerging about the terrorist's last moments point at his being more adept at shooting from a smartphone than the Kalashnikov on his shoulder.Senior Army sources, privy to the operation in which Bhat was cornered and neutralised in Tral area of Kashmir's Pulwama district last Saturday, told Mail Today that the 27-year-old terrorist remained in hiding for nearly 10 hours, without firing a single bullet at the troops.Bhat also frantically sent text messages from his handset to gather a crowd of stone-pelters at the encounter site to provide him cover, the sources said.HOW DID ARMY TRACK SABZARSecurity forces had tracked down Bhat's location using technical intelligence provided to the troops on ground by the Jammu and Kashmir police cells. These units have been successful in nailing a large number of terrorists in recent years.\"The intelligence provided by the police confirmed that Sabzar and Faizan were in a cluster of houses in Saimoo village in Tral area and we laid a cordon on Friday evening around his house,\" senior Army sources said. The raiding party included Army, Special Operations Groups and state police troops.After laying the cordon, the troops tried to establish contact with Sabzar and his category A accomplice Faizan. There was no retaliation or firing from the terrorists in hiding as forces suspect the two did not want to give away their positions.A large number of weapons including an AK-47 and INSAS assault rifles along with a huge cache of ammunition and other warlike stores, were recovered from the hideout after the operation was over.After failing to establish contact with terrorists, the raiding team decided to \"smoke out the rats\" and called for fire tenders filled with petrol instead of water.STONE PELTERS TO RESCUE?Meanwhile, Bhat and his accomplice were trying to gather a crowd of stonepelters to be able to escape from the encounter location but the late hours did not get them much help. Sources said their messages betrayed desperation and fear.\"Petrol was poured inside the first house using hose pipes and it was set on fire but the two did not react. The result in the second house was also the same. But when the troops poured in petrol in the third house around 8:15 am, the two ran out of the house and tried to breach the cordon,\" the sources said. Before Bhat could open fire, the troops fired a hail of bullets. Within a few seconds, the two \"propagandist terrorists\" were lying dead on the ground.Army sources said Sabzar, a Class 7 dropout, was a known womaniser and drug addict at the time of his joining the Hizbul Mujahidden two years back. He replaced Burhan Wani who had been killed last year by the Army in South Kashmir.Both the terrorists were tracked by technical intelligence sleuths and killed in similar brief encounters. Sources said in Burhan's case too, the terrorist was trapped when the technical cells of Jammu and Kashmir police had followed a terrorist named Sartaj and did not know about Burhan's presence there.However, in Sabzar's case, they were tracking him directly and were sure about his presence in the Tral area.Sources said the recent crop of local terrorists is high on propaganda and try to conjure up a hero-like status by spreading their pictures on social media in full combat gear. \"Little do they know that this act of theirs is of big help for security forces in identifying them and locating them,\" the sources said.As part of Pakistan's strategy, local terrorists, who are not even trained formally into firing and combat tactics, are being used as cannon fodder to keep the militancy in J&amp;K alive.Also Read</td>\n",
              "      <td>Slain Hizbul commander Sabzar Ahmad Bhat remained in hiding for nearly 10 hours without firing a single bullet at the troops during the encounter, Army sources said. Bhat, who succeeded Burhan Wani, also sent text messages from his handset to gather a crowd of stone-pelters at the encounter site to provide him cover, the sources added.</td>\n",
              "      <td>Slain Hizbul commander Sabzar Ahmad Bhat, who released his photographs in combat gear for social media, remained in hiding for nearly 10 hours without firing a single bullet at the troops. He also sent text messages from his handset to gather a crowd of stone-pelters at the encounter site to provide him cover, sources said.</td>\n",
              "      <td>0.810811</td>\n",
              "      <td>0.803571</td>\n",
              "      <td>0.818182</td>\n",
              "    </tr>\n",
              "    <tr>\n",
              "      <th>314</th>\n",
              "      <td>{'f': 0.8103448225921522, 'p': 0.7833333333333333, 'r': 0.8392857142857143}</td>\n",
              "      <td>{'f': 0.6666666616728224, 'p': 0.6440677966101694, 'r': 0.6909090909090909}</td>\n",
              "      <td>{'f': 0.769230764231373, 'p': 0.7608695652173914, 'r': 0.7777777777777778}</td>\n",
              "      <td>A baby boy, who survived after being buried alive just 10 days after his birth, was put in the shallow grave in Madhya Pradesh?s Barwani by his minor mother who conceived him after rape, investigators said on Thursday.The suspected rapist, also a minor, was arrested after the girl was traced to a village in Maharashtra.The infant was found on July 3 by a tribal couple, who were alerted by his cries from a burial ground at Ghus village, about 64 kms from Barwani. The village is not far from the border with Maharashtra.The baby is admitted to a hospital and will be handed over to the district child welfare committee (CWC), officials said.Despite stringent rape laws, people in rural areas rarely report sexual assaults to police because of the stigma attached. Activists say people also blame the character of the victim, which puts more pressure on families to hide such incidents.Barwani superindent of police, Prashant Khare, said the girl?s family hurriedly married her off to a minor boy after discovering her pregnancy. She said she was raped about a year ago.But her husband, who came to know about the incident, also refused to accept the baby and told her to abandon it, the officer added.Khare said the ?painstaking investigation? took around 20 days.?It was a shock for us when we saw that the mother was a minor, her husband too was a minor as was the rapist,? he added.The girl hails from a village of Barwani and lives with with her husband in Sirpur, Maharashtra. Police said she came to her parents house on July 2 and buried the baby in neighbouring Ghus, about 10 km away.Besides the accused, police have also booked the mother on charges of abandoning the baby and exposing him to danger.?I didn?t want to kill my baby. I requested a lot but nobody supported me, so buried him in a shallow grave,? police quoted the girl as saying.The mother told police she wanted to become a teacher but was forced by her parents to leave her studies.The parents allegedly did not tell her husband that she was carrying a child, the police officer added.</td>\n",
              "      <td>A baby boy, who survived after being buried alive just 10 days after his birth, was put in a grave in Madhya Pradesh by his minor mother who conceived him after rape. The infant was found on July 3 by a tribal couple and the suspected rapist, also a minor, was arrested after the girl was traced in Maharashtra.</td>\n",
              "      <td>A baby boy, who survived after being buried alive just 10 days after his birth, was put in the shallow grave in Madhya Pradesh's Barwani by his minor mother who conceived him after rape, investigators said on Thursday. The suspected rapist, also a minor, was arrested after the girl was traced to a village in Maharashtra.</td>\n",
              "      <td>0.810345</td>\n",
              "      <td>0.783333</td>\n",
              "      <td>0.839286</td>\n",
              "    </tr>\n",
              "    <tr>\n",
              "      <th>22</th>\n",
              "      <td>{'f': 0.780952376029025, 'p': 0.6949152542372882, 'r': 0.8913043478260869}</td>\n",
              "      <td>{'f': 0.6601941698369308, 'p': 0.5862068965517241, 'r': 0.7555555555555555}</td>\n",
              "      <td>{'f': 0.7532467483150616, 'p': 0.6744186046511628, 'r': 0.8529411764705882}</td>\n",
              "      <td>In a shocking incident, a 15-year-old girl was locked inside a house in east Delhi's Krishna Nagar for two years by her mother.The matter came to light after a neighbour, who suspected that something was not right, informed the Delhi Police, who raided the house and rescued the girl.The room in which the girl was kept was found to be full of garbage.Locals told the police that the woman, Krishna Ghosh, who is the mother of the victim, would visit the house in the evening only to bring food for the girl.</td>\n",
              "      <td>A 15-year-old girl was locked inside a house in east Delhi's Krishna Nagar locality for two years by her mother. The matter came to light after a neighbour informed the Delhi police, who raided the house and rescued the girl. The girl's mother reportedly used to visit the house only in the evening to bring food for the girl.</td>\n",
              "      <td>A 15-year-old girl was locked inside a house in east Delhi's Krishna Nagar for two years by her mother. The woman, Krishna Ghosh, would visit the house in the evening only to bring food for the girl. The police raided the house and rescued the girl.</td>\n",
              "      <td>0.780952</td>\n",
              "      <td>0.694915</td>\n",
              "      <td>0.891304</td>\n",
              "    </tr>\n",
              "  </tbody>\n",
              "</table>\n",
              "</div>"
            ],
            "text/plain": [
              "                                                                         rouge-1  ...         r\n",
              "89   {'f': 0.823529406765059, 'p': 0.8166666666666667, 'r': 0.8305084745762712}   ...  0.830508\n",
              "203  {'f': 0.81739129937845, 'p': 0.8867924528301887, 'r': 0.7580645161290323}    ...  0.758065\n",
              "147  {'f': 0.8108108058112168, 'p': 0.8035714285714286, 'r': 0.8181818181818182}  ...  0.818182\n",
              "314  {'f': 0.8103448225921522, 'p': 0.7833333333333333, 'r': 0.8392857142857143}  ...  0.839286\n",
              "22   {'f': 0.780952376029025, 'p': 0.6949152542372882, 'r': 0.8913043478260869}   ...  0.891304\n",
              "\n",
              "[5 rows x 9 columns]"
            ]
          },
          "metadata": {
            "tags": []
          },
          "execution_count": 68
        }
      ]
    },
    {
      "cell_type": "markdown",
      "metadata": {
        "id": "JDyNYeGwed9z"
      },
      "source": [
        "**PROCESSING AMAZON DATASET**"
      ]
    },
    {
      "cell_type": "code",
      "metadata": {
        "id": "Y4wg1ULUUQTg"
      },
      "source": [
        "amazon_review=pd.read_csv(\"amazon_review.csv\")\n",
        "hyps=amazon_review['Summary'].tolist()\n",
        "refs=amazon_review['Text'].tolist()\n",
        "pred_test_amazon=[]\n",
        "for record in refs:\n",
        "  summary=summarizeText(record)\n",
        "  pred_test_amazon.append(summary)\n",
        "#hyps, refs = map(list, zip(*[[amazon_review['Summary'], amazon_review['Text']]]))\n",
        "scores = rouge.get_scores(hyps, refs)\n",
        "amazon_score=pd.DataFrame(scores)\n",
        "amazon_score['summary']=hyps\n",
        "amazon_score['text']=refs\n",
        "amazon_score['pred']=pred_test_amazon\n",
        "amazon_score.to_csv(\"amazon_score.csv\")\n",
        "scores_avg = rouge.get_scores(hyps, refs, avg=True)"
      ],
      "execution_count": 52,
      "outputs": []
    },
    {
      "cell_type": "code",
      "metadata": {
        "colab": {
          "base_uri": "https://localhost:8080/"
        },
        "id": "3VxI6q5HVdzt",
        "outputId": "2d4f247a-e8f7-4b46-d31a-6990a3ba99b6"
      },
      "source": [
        "scores_avg"
      ],
      "execution_count": 55,
      "outputs": [
        {
          "output_type": "execute_result",
          "data": {
            "text/plain": [
              "{'rouge-1': {'f': 0.05909964940117048,\n",
              "  'p': 0.26551948051948054,\n",
              "  'r': 0.03423567348555467},\n",
              " 'rouge-2': {'f': 0.01987382432380469,\n",
              "  'p': 0.10892857142857143,\n",
              "  'r': 0.011222411894318588},\n",
              " 'rouge-l': {'f': 0.06547612086213551,\n",
              "  'p': 0.2642857142857143,\n",
              "  'r': 0.03838984354487787}}"
            ]
          },
          "metadata": {
            "tags": []
          },
          "execution_count": 55
        }
      ]
    },
    {
      "cell_type": "code",
      "metadata": {
        "colab": {
          "base_uri": "https://localhost:8080/"
        },
        "id": "M2vja9dOY3Qy",
        "outputId": "751394cc-3781-4e02-988b-e14e4a610cfc"
      },
      "source": [
        "pd.set_option(\"display.max_colwidth\", -1)"
      ],
      "execution_count": 56,
      "outputs": [
        {
          "output_type": "stream",
          "text": [
            "/usr/local/lib/python3.7/dist-packages/ipykernel_launcher.py:1: FutureWarning: Passing a negative integer is deprecated in version 1.0 and will not be supported in future version. Instead, use None to not limit the column width.\n",
            "  \"\"\"Entry point for launching an IPython kernel.\n"
          ],
          "name": "stderr"
        }
      ]
    },
    {
      "cell_type": "code",
      "metadata": {
        "colab": {
          "base_uri": "https://localhost:8080/",
          "height": 1000
        },
        "id": "Zr4YzWSMYiT3",
        "outputId": "bd8023df-5538-4a3a-bdb3-d3abea307371"
      },
      "source": [
        "amazon_score.head()"
      ],
      "execution_count": 58,
      "outputs": [
        {
          "output_type": "execute_result",
          "data": {
            "text/html": [
              "<div>\n",
              "<style scoped>\n",
              "    .dataframe tbody tr th:only-of-type {\n",
              "        vertical-align: middle;\n",
              "    }\n",
              "\n",
              "    .dataframe tbody tr th {\n",
              "        vertical-align: top;\n",
              "    }\n",
              "\n",
              "    .dataframe thead th {\n",
              "        text-align: right;\n",
              "    }\n",
              "</style>\n",
              "<table border=\"1\" class=\"dataframe\">\n",
              "  <thead>\n",
              "    <tr style=\"text-align: right;\">\n",
              "      <th></th>\n",
              "      <th>rouge-1</th>\n",
              "      <th>rouge-2</th>\n",
              "      <th>rouge-l</th>\n",
              "      <th>summary</th>\n",
              "      <th>text</th>\n",
              "      <th>pred</th>\n",
              "    </tr>\n",
              "  </thead>\n",
              "  <tbody>\n",
              "    <tr>\n",
              "      <th>0</th>\n",
              "      <td>{'f': 0.0, 'p': 0.0, 'r': 0.0}</td>\n",
              "      <td>{'f': 0.0, 'p': 0.0, 'r': 0.0}</td>\n",
              "      <td>{'f': 0.0, 'p': 0.0, 'r': 0.0}</td>\n",
              "      <td>Good Quality Dog Food</td>\n",
              "      <td>I have bought several of the Vitality canned dog food products and have found them all to be of good quality. The product looks more like a stew than a processed meat and it smells better. My Labrador is finicky and she appreciates this product better than  most.</td>\n",
              "      <td>My Labrador loves the canned dog food Vitality canning product. It looks more like a stew than a processed meat and it smells better. She is finicky and she appreciates this product better than most.</td>\n",
              "    </tr>\n",
              "    <tr>\n",
              "      <th>1</th>\n",
              "      <td>{'f': 0.11428571271836736, 'p': 0.6666666666666666, 'r': 0.0625}</td>\n",
              "      <td>{'f': 0.0, 'p': 0.0, 'r': 0.0}</td>\n",
              "      <td>{'f': 0.12903225631633716, 'p': 0.6666666666666666, 'r': 0.07142857142857142}</td>\n",
              "      <td>Not as Advertised</td>\n",
              "      <td>Product arrived labeled as Jumbo Salted Peanuts...the peanuts were actually small sized unsalted. Not sure if this was an error or if the vendor intended to represent the product as \"Jumbo\".</td>\n",
              "      <td>The peanuts were actually small sized unsalted. Not sure if this was an error or if the vendor intended to represent the product as \"Jumbo\". I'm not sure if this was an error or if the vendor intended to represent the product as \"Jumbo\".</td>\n",
              "    </tr>\n",
              "    <tr>\n",
              "      <th>2</th>\n",
              "      <td>{'f': 0.020202019426589155, 'p': 0.25, 'r': 0.010526315789473684}</td>\n",
              "      <td>{'f': 0.0, 'p': 0.0, 'r': 0.0}</td>\n",
              "      <td>{'f': 0.0270270260043828, 'p': 0.25, 'r': 0.014285714285714285}</td>\n",
              "      <td>\"Delight\" says it all</td>\n",
              "      <td>This is a confection that has been around a few centuries.  It is a light, pillowy citrus gelatin with nuts - in this case Filberts. And it is cut into tiny squares and then liberally coated with powdered sugar.  And it is a tiny mouthful of heaven.  Not too chewy, and very flavorful.  I highly recommend this yummy treat.  If you are familiar with the story of C.S. Lewis' \"The Lion, The Witch, and The Wardrobe\" - this is the treat that seduces Edmund into selling out his Brother and Sisters to the Witch.</td>\n",
              "      <td>A confection that has been around a few centuries. It is a light, pillowy citrus gelatin with nuts - in this case Filberts. And it is cut into tiny squares and then liberally coated with powdered sugar. Not too chewy, and very flavorful.</td>\n",
              "    </tr>\n",
              "    <tr>\n",
              "      <th>3</th>\n",
              "      <td>{'f': 0.0, 'p': 0.0, 'r': 0.0}</td>\n",
              "      <td>{'f': 0.0, 'p': 0.0, 'r': 0.0}</td>\n",
              "      <td>{'f': 0.0, 'p': 0.0, 'r': 0.0}</td>\n",
              "      <td>Cough Medicine</td>\n",
              "      <td>If you are looking for the secret ingredient in Robitussin I believe I have found it.  I got this in addition to the Root Beer Extract I ordered (which was good) and made some cherry soda.  The flavor is very medicinal.</td>\n",
              "      <td>The secret ingredient in Robitussin is a root beer extract, which I ordered and made some cherry soda. It has a very medicinal flavor and the taste is very medicinal.</td>\n",
              "    </tr>\n",
              "    <tr>\n",
              "      <th>4</th>\n",
              "      <td>{'f': 0.13793103319857317, 'p': 1.0, 'r': 0.07407407407407407}</td>\n",
              "      <td>{'f': 0.07407407336076818, 'p': 1.0, 'r': 0.038461538461538464}</td>\n",
              "      <td>{'f': 0.17391304189035917, 'p': 1.0, 'r': 0.09523809523809523}</td>\n",
              "      <td>Great taffy</td>\n",
              "      <td>Great taffy at a great price.  There was a wide assortment of yummy taffy.  Delivery was very quick.  If your a taffy lover, this is a deal.</td>\n",
              "      <td>The taffy was very good and the delivery was quick. I would recommend this store to anyone who is a taffy lover.</td>\n",
              "    </tr>\n",
              "  </tbody>\n",
              "</table>\n",
              "</div>"
            ],
            "text/plain": [
              "                                                             rouge-1  ...                                                                                                                                                                                                                                           pred\n",
              "0  {'f': 0.0, 'p': 0.0, 'r': 0.0}                                     ...  My Labrador loves the canned dog food Vitality canning product. It looks more like a stew than a processed meat and it smells better. She is finicky and she appreciates this product better than most.                                      \n",
              "1  {'f': 0.11428571271836736, 'p': 0.6666666666666666, 'r': 0.0625}   ...  The peanuts were actually small sized unsalted. Not sure if this was an error or if the vendor intended to represent the product as \"Jumbo\". I'm not sure if this was an error or if the vendor intended to represent the product as \"Jumbo\".\n",
              "2  {'f': 0.020202019426589155, 'p': 0.25, 'r': 0.010526315789473684}  ...  A confection that has been around a few centuries. It is a light, pillowy citrus gelatin with nuts - in this case Filberts. And it is cut into tiny squares and then liberally coated with powdered sugar. Not too chewy, and very flavorful.\n",
              "3  {'f': 0.0, 'p': 0.0, 'r': 0.0}                                     ...  The secret ingredient in Robitussin is a root beer extract, which I ordered and made some cherry soda. It has a very medicinal flavor and the taste is very medicinal.                                                                       \n",
              "4  {'f': 0.13793103319857317, 'p': 1.0, 'r': 0.07407407407407407}     ...  The taffy was very good and the delivery was quick. I would recommend this store to anyone who is a taffy lover.                                                                                                                             \n",
              "\n",
              "[5 rows x 6 columns]"
            ]
          },
          "metadata": {
            "tags": []
          },
          "execution_count": 58
        }
      ]
    }
  ]
}