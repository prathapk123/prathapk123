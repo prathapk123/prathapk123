{
  "cells": [
    {
      "cell_type": "code",
      "execution_count": 1,
      "metadata": {
        "id": "7eM05KrYfdMf"
      },
      "outputs": [],
      "source": [
        "import datetime as dt\n",
        "from matplotlib import pyplot as plt\n",
        "from sklearn import model_selection\n",
        "from sklearn.metrics import confusion_matrix\n",
        "from sklearn.preprocessing import StandardScaler  \n",
        "from sklearn.model_selection import train_test_split\n",
        "import torch\n",
        "import torchvision\n",
        "import torch.nn as nn\n",
        "import torch.nn.functional as F\n",
        "import numpy as np\n",
        "import pandas as pd\n",
        "from sklearn.preprocessing import MinMaxScaler\n"
      ]
    },
    {
      "cell_type": "code",
      "source": [
        "df1=pd.read_csv(\"2014_Financial_Data.csv\") \n",
        "df2=pd.read_csv(\"2015_Financial_Data.csv\")\n",
        "df3=pd.read_csv(\"2016_Financial_Data.csv\")\n",
        "df4=pd.read_csv(\"2017_Financial_Data.csv\")\n",
        "df5=pd.read_csv(\"2018_Financial_Data.csv\")"
      ],
      "metadata": {
        "id": "BsFFtIxdmyEc"
      },
      "execution_count": 33,
      "outputs": []
    },
    {
      "cell_type": "code",
      "source": [
        "df1['Year']=2014\n",
        "df2['Year']=2015\n",
        "df3['Year']=2016\n",
        "df4['Year']=2017\n",
        "df5['Year']=2018"
      ],
      "metadata": {
        "id": "F6YhmQBVmyzj"
      },
      "execution_count": 34,
      "outputs": []
    },
    {
      "cell_type": "code",
      "source": [
        "### Drop the Stock Column\n",
        "df1 = df1.drop(df1.columns[0], axis = 1) \n",
        "df2 = df2.drop(df2.columns[0], axis = 1)\n",
        "df3 = df3.drop(df3.columns[0], axis = 1)\n",
        "df4 = df4.drop(df4.columns[0], axis = 1)\n",
        "df5 = df5.drop(df5.columns[0], axis = 1)"
      ],
      "metadata": {
        "id": "dcYcvcuQm0eu"
      },
      "execution_count": 35,
      "outputs": []
    },
    {
      "cell_type": "code",
      "source": [
        "### Change Data Type\n",
        "df1['Class'] = df1['Class'].astype(object)\n",
        "df2['Class'] = df2['Class'].astype(object)\n",
        "df3['Class'] = df3['Class'].astype(object)\n",
        "df4['Class'] = df4['Class'].astype(object)\n",
        "df5['Class'] = df5['Class'].astype(object)"
      ],
      "metadata": {
        "id": "mrWIKIk5m3DL"
      },
      "execution_count": 36,
      "outputs": []
    },
    {
      "cell_type": "code",
      "source": [
        "df5['Class'] = df5['Class'].astype(object)\n",
        "df1.rename(columns={\"2015 PRICE VAR [%]\": \"PRICE_VAR\"},inplace=True)\n",
        "df2.rename(columns={\"2016 PRICE VAR [%]\": \"PRICE_VAR\"},inplace=True)\n",
        "df3.rename(columns={\"2017 PRICE VAR [%]\": \"PRICE_VAR\"},inplace=True)\n",
        "df4.rename(columns={\"2018 PRICE VAR [%]\": \"PRICE_VAR\"},inplace=True)\n",
        "df5.rename(columns={\"2019 PRICE VAR [%]\": \"PRICE_VAR\"},inplace=True)"
      ],
      "metadata": {
        "id": "-FXzWrUUm4or"
      },
      "execution_count": 37,
      "outputs": []
    },
    {
      "cell_type": "code",
      "source": [
        "df1.drop(['Sector'], axis=1, inplace=True)\n",
        "df2.drop(['Sector'], axis=1, inplace=True)\n",
        "df3.drop(['Sector'], axis=1, inplace=True)\n",
        "df4.drop(['Sector'], axis=1, inplace=True)\n",
        "df5.drop(['Sector'], axis=1, inplace=True)\n",
        "df1 = df1[df1['Class'].notna()]\n",
        "df2 = df2[df2['Class'].notna()]\n",
        "df3 = df3[df3['Class'].notna()]\n",
        "df4 = df4[df4['Class'].notna()]\n",
        "df5 = df5[df5['Class'].notna()]"
      ],
      "metadata": {
        "id": "16Rgvd6Ym6QY"
      },
      "execution_count": 38,
      "outputs": []
    },
    {
      "cell_type": "code",
      "source": [
        "from sklearn.impute import KNNImputer\n",
        "imputer = KNNImputer(n_neighbors=20, weights='distance', metric='nan_euclidean', copy=True)"
      ],
      "metadata": {
        "id": "unT_KlhRm7uY"
      },
      "execution_count": 39,
      "outputs": []
    },
    {
      "cell_type": "code",
      "source": [
        "df1_clean = imputer.fit_transform(df1)\n",
        "df1_clean = pd.DataFrame(df1_clean)\n",
        "df1_clean.columns = list(df1)"
      ],
      "metadata": {
        "id": "X7qIaJkVm9nz"
      },
      "execution_count": 40,
      "outputs": []
    },
    {
      "cell_type": "code",
      "source": [
        "df2_clean = imputer.fit_transform(df2)\n",
        "df2_clean = pd.DataFrame(df2_clean)\n",
        "df2_clean.columns = list(df2)\n",
        "df3_clean = imputer.fit_transform(df3)\n",
        "df3_clean = pd.DataFrame(df3_clean)\n",
        "df3_clean.columns = list(df3)\n",
        "df4_clean = imputer.fit_transform(df4)\n",
        "df4_clean = pd.DataFrame(df4_clean)\n",
        "df4_clean.columns = list(df4)\n",
        "df5_clean = imputer.fit_transform(df5)\n",
        "df5_clean = pd.DataFrame(df5_clean)\n",
        "df5_clean.columns = list(df5)\n"
      ],
      "metadata": {
        "id": "ZggwxJLBm_K4"
      },
      "execution_count": 41,
      "outputs": []
    },
    {
      "cell_type": "code",
      "source": [
        "data = pd.concat([df1_clean, df2_clean, df3_clean, df4_clean, df5_clean])"
      ],
      "metadata": {
        "id": "jnLqJ9l4nAgP"
      },
      "execution_count": 42,
      "outputs": []
    },
    {
      "cell_type": "code",
      "execution_count": 48,
      "metadata": {
        "colab": {
          "base_uri": "https://localhost:8080/",
          "height": 404
        },
        "id": "jAum6NTXX9ua",
        "outputId": "f92638c2-f085-45c4-c4aa-dcf0fe13911a"
      },
      "outputs": [
        {
          "output_type": "stream",
          "name": "stderr",
          "text": [
            "/usr/local/lib/python3.7/dist-packages/ipykernel_launcher.py:3: PerformanceWarning: DataFrame is highly fragmented.  This is usually the result of calling `frame.insert` many times, which has poor performance.  Consider joining all columns at once using pd.concat(axis=1) instead.  To get a de-fragmented frame, use `newframe = frame.copy()`\n",
            "  This is separate from the ipykernel package so we can avoid doing imports until\n"
          ]
        },
        {
          "output_type": "execute_result",
          "data": {
            "text/plain": [
              "        Revenue  Revenue Growth  Cost of Revenue  Gross Profit  R&D Expenses  \\\n",
              "0  7.440100e+10         -0.0713     3.903000e+10  3.537100e+10  0.000000e+00   \n",
              "1  3.734148e+09          1.1737     2.805625e+09  9.285226e+08  1.083303e+08   \n",
              "2  9.837500e+10          0.0182     7.813800e+10  2.023700e+10  0.000000e+00   \n",
              "3  2.552641e+10          0.0053     1.820268e+10  7.323734e+09  0.000000e+00   \n",
              "4  1.790960e+10          0.0076     1.153980e+10  6.369800e+09  0.000000e+00   \n",
              "\n",
              "   SG&A Expense  Operating Expenses  Operating Income  Interest Expense  \\\n",
              "0  2.146100e+10        2.146100e+10      1.391000e+10      7.090000e+08   \n",
              "1  3.441414e+08        7.939267e+08      1.345959e+08      1.214869e+07   \n",
              "2  1.519600e+10        1.751200e+10      2.725000e+09      4.430000e+08   \n",
              "3  6.561162e+09        6.586482e+09      7.372520e+08      4.245910e+08   \n",
              "4  3.474300e+09        3.412400e+09      2.957400e+09      3.024000e+08   \n",
              "\n",
              "   Earnings before Tax  ...  Receivables growth  Inventory Growth  \\\n",
              "0         1.449400e+10  ...           -0.018700         -0.021700   \n",
              "1         1.753823e+08  ...            0.090157          0.088497   \n",
              "2         2.270000e+09  ...            0.061800          0.098100   \n",
              "3         2.502180e+08  ...            0.021100         -0.051000   \n",
              "4         2.707700e+09  ...            0.025700          0.009000   \n",
              "\n",
              "   Asset Growth  Book Value per Share Growth  Debt Growth  R&D Expense Growth  \\\n",
              "0      0.035900                     0.031600     0.122800              0.0000   \n",
              "1      0.101764                    -0.031982     0.290933              1.6484   \n",
              "2      0.188600                     0.326800     0.273800              0.0000   \n",
              "3     -0.018900                     0.196300    -0.045800              0.0000   \n",
              "4      0.021500                     0.027400     0.102500              0.0000   \n",
              "\n",
              "   SG&A Expenses Growth  PRICE_VAR    Year  Class  \n",
              "0               -0.1746  -9.323276  2014.0    0.0  \n",
              "1                1.7313 -25.512193  2014.0    0.0  \n",
              "2                0.0234  33.118297  2014.0    1.0  \n",
              "3               -0.0060   2.752291  2014.0    1.0  \n",
              "4               -0.0220  12.897715  2014.0    1.0  \n",
              "\n",
              "[5 rows x 224 columns]"
            ],
            "text/html": [
              "\n",
              "  <div id=\"df-ad28b3ed-e254-4a02-9f26-8cb01e202b82\">\n",
              "    <div class=\"colab-df-container\">\n",
              "      <div>\n",
              "<style scoped>\n",
              "    .dataframe tbody tr th:only-of-type {\n",
              "        vertical-align: middle;\n",
              "    }\n",
              "\n",
              "    .dataframe tbody tr th {\n",
              "        vertical-align: top;\n",
              "    }\n",
              "\n",
              "    .dataframe thead th {\n",
              "        text-align: right;\n",
              "    }\n",
              "</style>\n",
              "<table border=\"1\" class=\"dataframe\">\n",
              "  <thead>\n",
              "    <tr style=\"text-align: right;\">\n",
              "      <th></th>\n",
              "      <th>Revenue</th>\n",
              "      <th>Revenue Growth</th>\n",
              "      <th>Cost of Revenue</th>\n",
              "      <th>Gross Profit</th>\n",
              "      <th>R&amp;D Expenses</th>\n",
              "      <th>SG&amp;A Expense</th>\n",
              "      <th>Operating Expenses</th>\n",
              "      <th>Operating Income</th>\n",
              "      <th>Interest Expense</th>\n",
              "      <th>Earnings before Tax</th>\n",
              "      <th>...</th>\n",
              "      <th>Receivables growth</th>\n",
              "      <th>Inventory Growth</th>\n",
              "      <th>Asset Growth</th>\n",
              "      <th>Book Value per Share Growth</th>\n",
              "      <th>Debt Growth</th>\n",
              "      <th>R&amp;D Expense Growth</th>\n",
              "      <th>SG&amp;A Expenses Growth</th>\n",
              "      <th>PRICE_VAR</th>\n",
              "      <th>Year</th>\n",
              "      <th>Class</th>\n",
              "    </tr>\n",
              "  </thead>\n",
              "  <tbody>\n",
              "    <tr>\n",
              "      <th>0</th>\n",
              "      <td>7.440100e+10</td>\n",
              "      <td>-0.0713</td>\n",
              "      <td>3.903000e+10</td>\n",
              "      <td>3.537100e+10</td>\n",
              "      <td>0.000000e+00</td>\n",
              "      <td>2.146100e+10</td>\n",
              "      <td>2.146100e+10</td>\n",
              "      <td>1.391000e+10</td>\n",
              "      <td>7.090000e+08</td>\n",
              "      <td>1.449400e+10</td>\n",
              "      <td>...</td>\n",
              "      <td>-0.018700</td>\n",
              "      <td>-0.021700</td>\n",
              "      <td>0.035900</td>\n",
              "      <td>0.031600</td>\n",
              "      <td>0.122800</td>\n",
              "      <td>0.0000</td>\n",
              "      <td>-0.1746</td>\n",
              "      <td>-9.323276</td>\n",
              "      <td>2014.0</td>\n",
              "      <td>0.0</td>\n",
              "    </tr>\n",
              "    <tr>\n",
              "      <th>1</th>\n",
              "      <td>3.734148e+09</td>\n",
              "      <td>1.1737</td>\n",
              "      <td>2.805625e+09</td>\n",
              "      <td>9.285226e+08</td>\n",
              "      <td>1.083303e+08</td>\n",
              "      <td>3.441414e+08</td>\n",
              "      <td>7.939267e+08</td>\n",
              "      <td>1.345959e+08</td>\n",
              "      <td>1.214869e+07</td>\n",
              "      <td>1.753823e+08</td>\n",
              "      <td>...</td>\n",
              "      <td>0.090157</td>\n",
              "      <td>0.088497</td>\n",
              "      <td>0.101764</td>\n",
              "      <td>-0.031982</td>\n",
              "      <td>0.290933</td>\n",
              "      <td>1.6484</td>\n",
              "      <td>1.7313</td>\n",
              "      <td>-25.512193</td>\n",
              "      <td>2014.0</td>\n",
              "      <td>0.0</td>\n",
              "    </tr>\n",
              "    <tr>\n",
              "      <th>2</th>\n",
              "      <td>9.837500e+10</td>\n",
              "      <td>0.0182</td>\n",
              "      <td>7.813800e+10</td>\n",
              "      <td>2.023700e+10</td>\n",
              "      <td>0.000000e+00</td>\n",
              "      <td>1.519600e+10</td>\n",
              "      <td>1.751200e+10</td>\n",
              "      <td>2.725000e+09</td>\n",
              "      <td>4.430000e+08</td>\n",
              "      <td>2.270000e+09</td>\n",
              "      <td>...</td>\n",
              "      <td>0.061800</td>\n",
              "      <td>0.098100</td>\n",
              "      <td>0.188600</td>\n",
              "      <td>0.326800</td>\n",
              "      <td>0.273800</td>\n",
              "      <td>0.0000</td>\n",
              "      <td>0.0234</td>\n",
              "      <td>33.118297</td>\n",
              "      <td>2014.0</td>\n",
              "      <td>1.0</td>\n",
              "    </tr>\n",
              "    <tr>\n",
              "      <th>3</th>\n",
              "      <td>2.552641e+10</td>\n",
              "      <td>0.0053</td>\n",
              "      <td>1.820268e+10</td>\n",
              "      <td>7.323734e+09</td>\n",
              "      <td>0.000000e+00</td>\n",
              "      <td>6.561162e+09</td>\n",
              "      <td>6.586482e+09</td>\n",
              "      <td>7.372520e+08</td>\n",
              "      <td>4.245910e+08</td>\n",
              "      <td>2.502180e+08</td>\n",
              "      <td>...</td>\n",
              "      <td>0.021100</td>\n",
              "      <td>-0.051000</td>\n",
              "      <td>-0.018900</td>\n",
              "      <td>0.196300</td>\n",
              "      <td>-0.045800</td>\n",
              "      <td>0.0000</td>\n",
              "      <td>-0.0060</td>\n",
              "      <td>2.752291</td>\n",
              "      <td>2014.0</td>\n",
              "      <td>1.0</td>\n",
              "    </tr>\n",
              "    <tr>\n",
              "      <th>4</th>\n",
              "      <td>1.790960e+10</td>\n",
              "      <td>0.0076</td>\n",
              "      <td>1.153980e+10</td>\n",
              "      <td>6.369800e+09</td>\n",
              "      <td>0.000000e+00</td>\n",
              "      <td>3.474300e+09</td>\n",
              "      <td>3.412400e+09</td>\n",
              "      <td>2.957400e+09</td>\n",
              "      <td>3.024000e+08</td>\n",
              "      <td>2.707700e+09</td>\n",
              "      <td>...</td>\n",
              "      <td>0.025700</td>\n",
              "      <td>0.009000</td>\n",
              "      <td>0.021500</td>\n",
              "      <td>0.027400</td>\n",
              "      <td>0.102500</td>\n",
              "      <td>0.0000</td>\n",
              "      <td>-0.0220</td>\n",
              "      <td>12.897715</td>\n",
              "      <td>2014.0</td>\n",
              "      <td>1.0</td>\n",
              "    </tr>\n",
              "  </tbody>\n",
              "</table>\n",
              "<p>5 rows × 224 columns</p>\n",
              "</div>\n",
              "      <button class=\"colab-df-convert\" onclick=\"convertToInteractive('df-ad28b3ed-e254-4a02-9f26-8cb01e202b82')\"\n",
              "              title=\"Convert this dataframe to an interactive table.\"\n",
              "              style=\"display:none;\">\n",
              "        \n",
              "  <svg xmlns=\"http://www.w3.org/2000/svg\" height=\"24px\"viewBox=\"0 0 24 24\"\n",
              "       width=\"24px\">\n",
              "    <path d=\"M0 0h24v24H0V0z\" fill=\"none\"/>\n",
              "    <path d=\"M18.56 5.44l.94 2.06.94-2.06 2.06-.94-2.06-.94-.94-2.06-.94 2.06-2.06.94zm-11 1L8.5 8.5l.94-2.06 2.06-.94-2.06-.94L8.5 2.5l-.94 2.06-2.06.94zm10 10l.94 2.06.94-2.06 2.06-.94-2.06-.94-.94-2.06-.94 2.06-2.06.94z\"/><path d=\"M17.41 7.96l-1.37-1.37c-.4-.4-.92-.59-1.43-.59-.52 0-1.04.2-1.43.59L10.3 9.45l-7.72 7.72c-.78.78-.78 2.05 0 2.83L4 21.41c.39.39.9.59 1.41.59.51 0 1.02-.2 1.41-.59l7.78-7.78 2.81-2.81c.8-.78.8-2.07 0-2.86zM5.41 20L4 18.59l7.72-7.72 1.47 1.35L5.41 20z\"/>\n",
              "  </svg>\n",
              "      </button>\n",
              "      \n",
              "  <style>\n",
              "    .colab-df-container {\n",
              "      display:flex;\n",
              "      flex-wrap:wrap;\n",
              "      gap: 12px;\n",
              "    }\n",
              "\n",
              "    .colab-df-convert {\n",
              "      background-color: #E8F0FE;\n",
              "      border: none;\n",
              "      border-radius: 50%;\n",
              "      cursor: pointer;\n",
              "      display: none;\n",
              "      fill: #1967D2;\n",
              "      height: 32px;\n",
              "      padding: 0 0 0 0;\n",
              "      width: 32px;\n",
              "    }\n",
              "\n",
              "    .colab-df-convert:hover {\n",
              "      background-color: #E2EBFA;\n",
              "      box-shadow: 0px 1px 2px rgba(60, 64, 67, 0.3), 0px 1px 3px 1px rgba(60, 64, 67, 0.15);\n",
              "      fill: #174EA6;\n",
              "    }\n",
              "\n",
              "    [theme=dark] .colab-df-convert {\n",
              "      background-color: #3B4455;\n",
              "      fill: #D2E3FC;\n",
              "    }\n",
              "\n",
              "    [theme=dark] .colab-df-convert:hover {\n",
              "      background-color: #434B5C;\n",
              "      box-shadow: 0px 1px 3px 1px rgba(0, 0, 0, 0.15);\n",
              "      filter: drop-shadow(0px 1px 2px rgba(0, 0, 0, 0.3));\n",
              "      fill: #FFFFFF;\n",
              "    }\n",
              "  </style>\n",
              "\n",
              "      <script>\n",
              "        const buttonEl =\n",
              "          document.querySelector('#df-ad28b3ed-e254-4a02-9f26-8cb01e202b82 button.colab-df-convert');\n",
              "        buttonEl.style.display =\n",
              "          google.colab.kernel.accessAllowed ? 'block' : 'none';\n",
              "\n",
              "        async function convertToInteractive(key) {\n",
              "          const element = document.querySelector('#df-ad28b3ed-e254-4a02-9f26-8cb01e202b82');\n",
              "          const dataTable =\n",
              "            await google.colab.kernel.invokeFunction('convertToInteractive',\n",
              "                                                     [key], {});\n",
              "          if (!dataTable) return;\n",
              "\n",
              "          const docLinkHtml = 'Like what you see? Visit the ' +\n",
              "            '<a target=\"_blank\" href=https://colab.research.google.com/notebooks/data_table.ipynb>data table notebook</a>'\n",
              "            + ' to learn more about interactive tables.';\n",
              "          element.innerHTML = '';\n",
              "          dataTable['output_type'] = 'display_data';\n",
              "          await google.colab.output.renderOutput(dataTable, element);\n",
              "          const docLink = document.createElement('div');\n",
              "          docLink.innerHTML = docLinkHtml;\n",
              "          element.appendChild(docLink);\n",
              "        }\n",
              "      </script>\n",
              "    </div>\n",
              "  </div>\n",
              "  "
            ]
          },
          "metadata": {},
          "execution_count": 48
        }
      ],
      "source": [
        "source=data\n",
        "dataframe=source.pop('Class')\n",
        "source['Class']=dataframe\n",
        "source.head()"
      ]
    },
    {
      "cell_type": "code",
      "execution_count": 49,
      "metadata": {
        "colab": {
          "base_uri": "https://localhost:8080/"
        },
        "id": "4ArZDAQLKCQA",
        "outputId": "9a74a8c0-3a17-444f-dae5-3fb6338bd4bb"
      },
      "outputs": [
        {
          "output_type": "execute_result",
          "data": {
            "text/plain": [
              "Class\n",
              "0.0     9044\n",
              "1.0    10636\n",
              "dtype: int64"
            ]
          },
          "metadata": {},
          "execution_count": 49
        }
      ],
      "source": [
        "source[['Class']].groupby('Class').size()"
      ]
    },
    {
      "cell_type": "code",
      "execution_count": 50,
      "metadata": {
        "colab": {
          "base_uri": "https://localhost:8080/"
        },
        "id": "whpWntA7KZtb",
        "outputId": "76118f0c-0276-4262-88e7-1ecc9995dc53"
      },
      "outputs": [
        {
          "output_type": "stream",
          "name": "stdout",
          "text": [
            " Training data set :  (15744, 224) \n",
            " Evalutation data set :  (3936, 224)\n"
          ]
        }
      ],
      "source": [
        "from sklearn.model_selection import train_test_split\n",
        "trainingDataSet, evaluationDataSet = train_test_split(source, test_size = 0.2)\n",
        "print(\n",
        "    \" Training data set : \",\n",
        "     trainingDataSet.shape,\n",
        "     \"\\n\",\n",
        "    \"Evalutation data set : \",\n",
        "    evaluationDataSet.shape\n",
        ")"
      ]
    },
    {
      "cell_type": "code",
      "execution_count": 51,
      "metadata": {
        "colab": {
          "base_uri": "https://localhost:8080/"
        },
        "id": "jGKzvj328tVV",
        "outputId": "c17933df-d4fe-4054-bbe4-c56f9f516d25"
      },
      "outputs": [
        {
          "output_type": "stream",
          "name": "stdout",
          "text": [
            "(15744, 223) (15744,) (3936, 223) (3936,)\n",
            "(15744, 1, 223) (15744,) (3936, 1, 223) (3936,)\n"
          ]
        }
      ],
      "source": [
        "train=trainingDataSet.to_numpy()\n",
        "test=evaluationDataSet.to_numpy()\n",
        "train_X, train_y = train[:, :-1], train[:, -1]\n",
        "test_X, test_y = test[:, :-1], test[:, -1]\n",
        "print(train_X.shape, train_y.shape,test_X.shape,test_y.shape)\n",
        "train_X = train_X.reshape((train_X.shape[0], 1, train_X.shape[1]))\n",
        "test_X = test_X.reshape((test_X.shape[0], 1, test_X.shape[1]))\n",
        "print(train_X.shape, train_y.shape,test_X.shape,test_y.shape)"
      ]
    },
    {
      "cell_type": "code",
      "execution_count": 52,
      "metadata": {
        "colab": {
          "base_uri": "https://localhost:8080/",
          "height": 1000
        },
        "id": "NL7Uk4wbCQYD",
        "outputId": "ad73e001-321a-4f3e-cbc1-a65506ff002f"
      },
      "outputs": [
        {
          "output_type": "stream",
          "name": "stdout",
          "text": [
            "Epoch 1/50\n",
            "219/219 - 7s - loss: 0.5906 - val_loss: 0.5150 - 7s/epoch - 30ms/step\n",
            "Epoch 2/50\n",
            "219/219 - 1s - loss: 0.4921 - val_loss: 0.4791 - 787ms/epoch - 4ms/step\n",
            "Epoch 3/50\n",
            "219/219 - 1s - loss: 0.4734 - val_loss: 0.4674 - 782ms/epoch - 4ms/step\n",
            "Epoch 4/50\n",
            "219/219 - 1s - loss: 0.4659 - val_loss: 0.4614 - 781ms/epoch - 4ms/step\n",
            "Epoch 5/50\n",
            "219/219 - 1s - loss: 0.4618 - val_loss: 0.4573 - 783ms/epoch - 4ms/step\n",
            "Epoch 6/50\n",
            "219/219 - 1s - loss: 0.4588 - val_loss: 0.4540 - 795ms/epoch - 4ms/step\n",
            "Epoch 7/50\n",
            "219/219 - 1s - loss: 0.4562 - val_loss: 0.4512 - 834ms/epoch - 4ms/step\n",
            "Epoch 8/50\n",
            "219/219 - 1s - loss: 0.4542 - val_loss: 0.4488 - 806ms/epoch - 4ms/step\n",
            "Epoch 9/50\n",
            "219/219 - 1s - loss: 0.4524 - val_loss: 0.4466 - 789ms/epoch - 4ms/step\n",
            "Epoch 10/50\n",
            "219/219 - 1s - loss: 0.4510 - val_loss: 0.4447 - 784ms/epoch - 4ms/step\n",
            "Epoch 11/50\n",
            "219/219 - 1s - loss: 0.4497 - val_loss: 0.4432 - 786ms/epoch - 4ms/step\n",
            "Epoch 12/50\n",
            "219/219 - 1s - loss: 0.4487 - val_loss: 0.4420 - 775ms/epoch - 4ms/step\n",
            "Epoch 13/50\n",
            "219/219 - 1s - loss: 0.4480 - val_loss: 0.4410 - 798ms/epoch - 4ms/step\n",
            "Epoch 14/50\n",
            "219/219 - 1s - loss: 0.4474 - val_loss: 0.4402 - 806ms/epoch - 4ms/step\n",
            "Epoch 15/50\n",
            "219/219 - 1s - loss: 0.4469 - val_loss: 0.4396 - 776ms/epoch - 4ms/step\n",
            "Epoch 16/50\n",
            "219/219 - 1s - loss: 0.4465 - val_loss: 0.4390 - 813ms/epoch - 4ms/step\n",
            "Epoch 17/50\n",
            "219/219 - 1s - loss: 0.4461 - val_loss: 0.4385 - 817ms/epoch - 4ms/step\n",
            "Epoch 18/50\n",
            "219/219 - 1s - loss: 0.4459 - val_loss: 0.4381 - 801ms/epoch - 4ms/step\n",
            "Epoch 19/50\n",
            "219/219 - 1s - loss: 0.4457 - val_loss: 0.4378 - 750ms/epoch - 3ms/step\n",
            "Epoch 20/50\n",
            "219/219 - 1s - loss: 0.4455 - val_loss: 0.4375 - 787ms/epoch - 4ms/step\n",
            "Epoch 21/50\n",
            "219/219 - 1s - loss: 0.4454 - val_loss: 0.4372 - 840ms/epoch - 4ms/step\n",
            "Epoch 22/50\n",
            "219/219 - 1s - loss: 0.4453 - val_loss: 0.4371 - 829ms/epoch - 4ms/step\n",
            "Epoch 23/50\n",
            "219/219 - 1s - loss: 0.4452 - val_loss: 0.4369 - 779ms/epoch - 4ms/step\n",
            "Epoch 24/50\n",
            "219/219 - 1s - loss: 0.4452 - val_loss: 0.4367 - 818ms/epoch - 4ms/step\n",
            "Epoch 25/50\n",
            "219/219 - 1s - loss: 0.4451 - val_loss: 0.4366 - 754ms/epoch - 3ms/step\n",
            "Epoch 26/50\n",
            "219/219 - 1s - loss: 0.4451 - val_loss: 0.4365 - 824ms/epoch - 4ms/step\n",
            "Epoch 27/50\n",
            "219/219 - 1s - loss: 0.4450 - val_loss: 0.4364 - 780ms/epoch - 4ms/step\n",
            "Epoch 28/50\n",
            "219/219 - 1s - loss: 0.4450 - val_loss: 0.4363 - 833ms/epoch - 4ms/step\n",
            "Epoch 29/50\n",
            "219/219 - 1s - loss: 0.4450 - val_loss: 0.4363 - 783ms/epoch - 4ms/step\n",
            "Epoch 30/50\n",
            "219/219 - 1s - loss: 0.4450 - val_loss: 0.4364 - 810ms/epoch - 4ms/step\n",
            "Epoch 31/50\n",
            "219/219 - 1s - loss: 0.4450 - val_loss: 0.4362 - 794ms/epoch - 4ms/step\n",
            "Epoch 32/50\n",
            "219/219 - 1s - loss: 0.4450 - val_loss: 0.4362 - 775ms/epoch - 4ms/step\n",
            "Epoch 33/50\n",
            "219/219 - 1s - loss: 0.4449 - val_loss: 0.4362 - 820ms/epoch - 4ms/step\n",
            "Epoch 34/50\n",
            "219/219 - 1s - loss: 0.4449 - val_loss: 0.4362 - 765ms/epoch - 3ms/step\n",
            "Epoch 35/50\n",
            "219/219 - 1s - loss: 0.4449 - val_loss: 0.4362 - 791ms/epoch - 4ms/step\n",
            "Epoch 36/50\n",
            "219/219 - 1s - loss: 0.4449 - val_loss: 0.4362 - 771ms/epoch - 4ms/step\n",
            "Epoch 37/50\n",
            "219/219 - 1s - loss: 0.4449 - val_loss: 0.4361 - 850ms/epoch - 4ms/step\n",
            "Epoch 38/50\n",
            "219/219 - 1s - loss: 0.4449 - val_loss: 0.4361 - 837ms/epoch - 4ms/step\n",
            "Epoch 39/50\n",
            "219/219 - 1s - loss: 0.4449 - val_loss: 0.4361 - 800ms/epoch - 4ms/step\n",
            "Epoch 40/50\n",
            "219/219 - 1s - loss: 0.4449 - val_loss: 0.4361 - 789ms/epoch - 4ms/step\n",
            "Epoch 41/50\n",
            "219/219 - 1s - loss: 0.4449 - val_loss: 0.4361 - 915ms/epoch - 4ms/step\n",
            "Epoch 42/50\n",
            "219/219 - 1s - loss: 0.4449 - val_loss: 0.4361 - 816ms/epoch - 4ms/step\n",
            "Epoch 43/50\n",
            "219/219 - 1s - loss: 0.4449 - val_loss: 0.4361 - 813ms/epoch - 4ms/step\n",
            "Epoch 44/50\n",
            "219/219 - 1s - loss: 0.4449 - val_loss: 0.4361 - 786ms/epoch - 4ms/step\n",
            "Epoch 45/50\n",
            "219/219 - 1s - loss: 0.4449 - val_loss: 0.4361 - 812ms/epoch - 4ms/step\n",
            "Epoch 46/50\n",
            "219/219 - 1s - loss: 0.4449 - val_loss: 0.4361 - 764ms/epoch - 3ms/step\n",
            "Epoch 47/50\n",
            "219/219 - 1s - loss: 0.4449 - val_loss: 0.4361 - 780ms/epoch - 4ms/step\n",
            "Epoch 48/50\n",
            "219/219 - 1s - loss: 0.4449 - val_loss: 0.4361 - 774ms/epoch - 4ms/step\n",
            "Epoch 49/50\n",
            "219/219 - 1s - loss: 0.4449 - val_loss: 0.4361 - 786ms/epoch - 4ms/step\n",
            "Epoch 50/50\n",
            "219/219 - 1s - loss: 0.4449 - val_loss: 0.4361 - 832ms/epoch - 4ms/step\n"
          ]
        },
        {
          "output_type": "display_data",
          "data": {
            "text/plain": [
              "<Figure size 432x288 with 1 Axes>"
            ],
            "image/png": "[encoded data removed]"
          },
          "metadata": {
            "needs_background": "light"
          }
        }
      ],
      "source": [
        "from keras.models import Sequential\n",
        "import tensorflow\n",
        "from keras.layers import LSTM,Dense\n",
        "import matplotlib.pyplot as pyplot\n",
        "\n",
        "model = Sequential()\n",
        "model.add(LSTM(50, input_shape=(train_X.shape[1], train_X.shape[2])))\n",
        "model.add(Dense(1))\n",
        "model.compile(loss='mae', optimizer='adam')\n",
        "# fit network\n",
        "history = model.fit(train_X, train_y, epochs=50, batch_size=72, validation_data=(test_X, test_y), verbose=2, shuffle=False)\n",
        "# plot history\n",
        "pyplot.plot(history.history['loss'], label='train')\n",
        "pyplot.plot(history.history['val_loss'], label='test')\n",
        "pyplot.legend()\n",
        "pyplot.show()"
      ]
    },
    {
      "cell_type": "code",
      "execution_count": 53,
      "metadata": {
        "colab": {
          "base_uri": "https://localhost:8080/"
        },
        "id": "bBPqj6ujFBOh",
        "outputId": "4be7421e-7811-4edb-8eb5-e8c8bc4f2981"
      },
      "outputs": [
        {
          "output_type": "stream",
          "name": "stdout",
          "text": [
            "(3936, 1, 223)\n",
            "Test RMSE: 0.559\n"
          ]
        }
      ],
      "source": [
        "# make a prediction\n",
        "from math import sqrt\n",
        "from numpy import concatenate\n",
        "from sklearn.metrics import mean_squared_error\n",
        "print(test_X.shape)\n",
        "yhat = model.predict(test_X)\n",
        "test_X = test_X.reshape((test_X.shape[0], test_X.shape[2]))\n",
        "# invert scaling for forecast\n",
        "inv_yhat = concatenate((yhat, test_X[:, 1:]), axis=1)\n",
        "inv_yhat = inv_yhat[:,0]\n",
        "# invert scaling for actual\n",
        "test_y = test_y.reshape((len(test_y), 1))\n",
        "inv_y = concatenate((test_y, test_X[:, 1:]), axis=1)\n",
        "inv_y = inv_y[:,0]\n",
        "# calculate RMSE\n",
        "rmse = sqrt(mean_squared_error(inv_y, inv_yhat))\n",
        "print('Test RMSE: %.3f' % rmse)"
      ]
    },
    {
      "cell_type": "code",
      "execution_count": 54,
      "metadata": {
        "colab": {
          "base_uri": "https://localhost:8080/"
        },
        "id": "eJZclWhEcG1d",
        "outputId": "15cd0360-7e6a-4fd9-c911-0ff167075b66"
      },
      "outputs": [
        {
          "output_type": "stream",
          "name": "stdout",
          "text": [
            "Model: \"sequential\"\n",
            "_________________________________________________________________\n",
            " Layer (type)                Output Shape              Param #   \n",
            "=================================================================\n",
            " lstm (LSTM)                 (None, 50)                54800     \n",
            "                                                                 \n",
            " dense (Dense)               (None, 1)                 51        \n",
            "                                                                 \n",
            "=================================================================\n",
            "Total params: 54,851\n",
            "Trainable params: 54,851\n",
            "Non-trainable params: 0\n",
            "_________________________________________________________________\n"
          ]
        }
      ],
      "source": [
        "model.summary()"
      ]
    },
    {
      "cell_type": "code",
      "execution_count": 55,
      "metadata": {
        "id": "fITKEsurI7eu"
      },
      "outputs": [],
      "source": [
        "val = []\n",
        "for i in inv_yhat:\n",
        "  if i<0.5:\n",
        "    val.append(0)\n",
        "  else:\n",
        "    val.append(1)\n",
        "y_val = np.array(val)"
      ]
    },
    {
      "cell_type": "code",
      "execution_count": 56,
      "metadata": {
        "colab": {
          "base_uri": "https://localhost:8080/"
        },
        "id": "RvZR-eVC93Wj",
        "outputId": "a0f8b344-2566-4f5a-d653-d6f7f13c8ffc"
      },
      "outputs": [
        {
          "output_type": "stream",
          "name": "stdout",
          "text": [
            "              precision    recall  f1-score   support\n",
            "\n",
            "           0       0.15      0.68      0.25       405\n",
            "           1       0.94      0.57      0.71      3531\n",
            "\n",
            "    accuracy                           0.58      3936\n",
            "   macro avg       0.55      0.63      0.48      3936\n",
            "weighted avg       0.86      0.58      0.66      3936\n",
            "\n"
          ]
        }
      ],
      "source": [
        "import sklearn.metrics as sm\n",
        "import numpy as np\n",
        "from sklearn.metrics import classification_report\n",
        "print(classification_report(y_val,inv_y))"
      ]
    },
    {
      "cell_type": "code",
      "execution_count": 57,
      "metadata": {
        "colab": {
          "base_uri": "https://localhost:8080/"
        },
        "id": "KCEszSBT7RbF",
        "outputId": "57a98381-4779-4074-f545-ef3c41ae38f3"
      },
      "outputs": [
        {
          "output_type": "stream",
          "name": "stdout",
          "text": [
            "Mean absolute error = 0.4174\n",
            "Mean squared error = 0.4174\n",
            "Root Mean squared error = 0.6461\n",
            "Median absolute error = 0.0\n",
            "Explain variance score = -2.1846\n",
            "R2 score = -3.5221\n",
            "mean_absolute_percentage_error = nan\n",
            "Accuracy  = nan\n"
          ]
        },
        {
          "output_type": "stream",
          "name": "stderr",
          "text": [
            "/usr/local/lib/python3.7/dist-packages/ipykernel_launcher.py:3: RuntimeWarning: divide by zero encountered in true_divide\n",
            "  This is separate from the ipykernel package so we can avoid doing imports until\n",
            "/usr/local/lib/python3.7/dist-packages/ipykernel_launcher.py:3: RuntimeWarning: invalid value encountered in true_divide\n",
            "  This is separate from the ipykernel package so we can avoid doing imports until\n"
          ]
        }
      ],
      "source": [
        "def mean_absolute_percentage_error(y_true, y_pred):\n",
        "  y_true, y_pred = np.array(y_true), np.array(y_pred)\n",
        "  return np.mean(np.abs((y_true - y_pred) / y_true))*100/len(y_true)\n",
        "print(\"Mean absolute error =\", round(sm.mean_absolute_error(y_val,inv_y), 4))  \n",
        "print(\"Mean squared error =\", round(sm.mean_squared_error(y_val,inv_y), 4)) \n",
        "print(\"Root Mean squared error =\", round(sm.mean_squared_error(y_val,inv_y,squared=False), 4)) \n",
        "print(\"Median absolute error =\", round(sm.median_absolute_error(y_val,inv_y),4)) \n",
        "print(\"Explain variance score =\", round(sm.explained_variance_score(y_val,inv_y), 4)) \n",
        "print(\"R2 score =\", round(sm.r2_score(y_val,inv_y), 4))\n",
        "print(\"mean_absolute_percentage_error =\", round(mean_absolute_percentage_error(y_val,inv_y), 4))\n",
        "print(\"Accuracy  =\", round((1-mean_absolute_percentage_error(y_val,inv_y))*100, 4))"
      ]
    },
    {
      "cell_type": "code",
      "execution_count": 58,
      "metadata": {
        "id": "EIkUA9ypKmap"
      },
      "outputs": [],
      "source": [
        "import torch\n",
        "import torchvision\n",
        "import numpy as np\n",
        "import matplotlib.pyplot as plt\n",
        "import torch.nn as nn\n",
        "import torch.nn.functional as F\n",
        "from torchvision.transforms import ToTensor\n",
        "from torchvision.utils import make_grid\n",
        "from torch.utils.data.dataloader import DataLoader\n",
        "from torch.utils.data import random_split\n",
        "import torch.utils.data as data_utils"
      ]
    },
    {
      "cell_type": "code",
      "execution_count": 60,
      "metadata": {
        "id": "sf2nOVTyKo_P"
      },
      "outputs": [],
      "source": [
        "train = data_utils.TensorDataset(torch.Tensor(np.array(trainingDataSet.drop(columns=['Class']))), torch.Tensor(np.array(trainingDataSet['Class'])))\n",
        "train_loader = data_utils.DataLoader(train, batch_size = 150, shuffle = True)"
      ]
    },
    {
      "cell_type": "code",
      "execution_count": 62,
      "metadata": {
        "id": "OrGEIdc1KZ1o"
      },
      "outputs": [],
      "source": [
        "test = data_utils.TensorDataset(torch.Tensor(np.array(evaluationDataSet.drop(columns=['Class']))), torch.Tensor(np.array(evaluationDataSet['Class'])))\n",
        "test_loader = data_utils.DataLoader(test, batch_size = 150, shuffle = True)"
      ]
    },
    {
      "cell_type": "code",
      "execution_count": 63,
      "metadata": {
        "colab": {
          "base_uri": "https://localhost:8080/"
        },
        "id": "0yXVuK1gKZ_T",
        "outputId": "f729a01e-0e32-481a-af85-3245511a603e"
      },
      "outputs": [
        {
          "output_type": "stream",
          "name": "stdout",
          "text": [
            "tensor([[ 3.0844e+09,  3.2260e-01,  1.5722e+09,  ...,  3.2890e-01,\n",
            "          2.0511e+01,  2.0140e+03],\n",
            "        [ 0.0000e+00,  0.0000e+00,  0.0000e+00,  ...,  6.3100e-01,\n",
            "         -4.2228e+01,  2.0150e+03],\n",
            "        [ 1.0736e+10,  1.9600e-02,  8.1630e+09,  ..., -1.0700e-01,\n",
            "          4.4949e+01,  2.0180e+03],\n",
            "        ...,\n",
            "        [ 1.8660e+06,  8.5381e-02,  3.1890e+07,  ...,  2.2626e+00,\n",
            "          1.9967e+00,  2.0150e+03],\n",
            "        [ 1.3760e+08,  3.4680e-01,  0.0000e+00,  ...,  5.1210e-01,\n",
            "          1.0881e+01,  2.0140e+03],\n",
            "        [ 4.6240e+08,  8.6600e-02,  7.6280e+06,  ..., -1.7930e-01,\n",
            "         -2.1339e+00,  2.0150e+03]])\n"
          ]
        }
      ],
      "source": [
        "for batch in train_loader:\n",
        "    images, labels = batch \n",
        "    out = images   \n",
        "print(out)               # Generate predictions"
      ]
    },
    {
      "cell_type": "code",
      "execution_count": 64,
      "metadata": {
        "id": "11-EQPDULG7D"
      },
      "outputs": [],
      "source": [
        "class BankruptionClassificationBase(nn.Module):\n",
        "    def training_step(self, batch):\n",
        "        images, labels = batch \n",
        "        out = self(images)                  # Generate predictions\n",
        "        labels=labels.view(len(labels),1)\n",
        "        loss = F.binary_cross_entropy(out, labels)   # Calculate loss\n",
        "        acc = accuracy(out, labels)  \n",
        "        #return {'val_loss': loss.detach(), 'val_acc': acc}\n",
        "        return loss\n",
        "    \n",
        "    def validation_step(self, batch):\n",
        "        images, labels = batch \n",
        "        out = self(images)     # Generate predictions\n",
        "        labels=labels.view(len(labels),1)\n",
        "        loss = F.binary_cross_entropy(out, labels)   # Calculate loss\n",
        "        acc = accuracy(out, labels)           # Calculate accuracy\n",
        "        return {'val_loss': loss.detach(), 'val_acc': acc}\n",
        "        \n",
        "    def validation_epoch_end(self, outputs):\n",
        "        batch_losses = [x['val_loss'] for x in outputs]\n",
        "        epoch_loss = torch.stack(batch_losses).mean()   # Combine losses\n",
        "        batch_accs = [x['val_acc'] for x in outputs]\n",
        "        epoch_acc = torch.stack(batch_accs).mean()      # Combine accuracies\n",
        "        return {'val_loss': epoch_loss.item(), 'val_acc': epoch_acc.item()}\n",
        "    \n",
        "    def epoch_end(self, epoch, result):\n",
        "        print(\"Epoch [{}], val_loss: {:.4f}, val_acc: {:.4f}\".format(epoch, result['val_loss'], result['val_acc']))"
      ]
    },
    {
      "cell_type": "code",
      "execution_count": 65,
      "metadata": {
        "id": "Yi6gE0eBL5LM"
      },
      "outputs": [],
      "source": [
        "def accuracy(outputs, labels):\n",
        "    _, preds = torch.max(outputs, dim=1)\n",
        "    return torch.tensor(torch.sum(preds == labels).item() / len(preds))\n",
        "def evaluate(model, val_loader):\n",
        "    outputs = [model.validation_step(batch) for batch in val_loader]\n",
        "    return model.validation_epoch_end(outputs)"
      ]
    },
    {
      "cell_type": "code",
      "execution_count": 66,
      "metadata": {
        "id": "ABXxUsbdL8T_"
      },
      "outputs": [],
      "source": [
        "#SGD Plain Vannila\n",
        "def fit(epochs, lr, model, train_loader, val_loader, opt_func=torch.optim.SGD):\n",
        "    history = []\n",
        "    optimizer = opt_func(model.parameters(), lr)\n",
        "    for epoch in range(epochs):\n",
        "        # Training Phase \n",
        "        for batch in train_loader:\n",
        "            loss = model.training_step(batch)\n",
        "            loss.backward()\n",
        "            optimizer.step()\n",
        "            optimizer.zero_grad()\n",
        "        # Validation phase\n",
        "        result = evaluate(model, val_loader)\n",
        "        model.epoch_end(epoch, result)\n",
        "        history.append(result)\n",
        "    return history"
      ]
    },
    {
      "cell_type": "code",
      "execution_count": 67,
      "metadata": {
        "id": "Zjg0inmgMD6G"
      },
      "outputs": [],
      "source": [
        "def plot_losses(train_loss,test_loss):\n",
        "    losses_test = [x['val_loss'] for x in test_loss]\n",
        "    losses_train = [x['val_loss'] for x in train_loss]\n",
        "    plt.plot(losses_test, '-x',label='Test Loss')\n",
        "    plt.plot(losses_train, '--',label='Training Loss')\n",
        "    plt.legend([\"Test Loss\", \"Training Loss\"], loc =\"lower right\") \n",
        "    plt.xlabel('epoch')\n",
        "    plt.ylabel('loss')\n",
        "    plt.title('Loss vs. No. of epochs');"
      ]
    },
    {
      "cell_type": "code",
      "execution_count": 68,
      "metadata": {
        "id": "m_yLcLEMME8G"
      },
      "outputs": [],
      "source": [
        "def plot_accuracies(test_accuracy,train_accuracy):\n",
        "    accuracy_test = [x['val_acc'] for x in test_accuracy]\n",
        "    accuracy_train = [x['val_acc'] for x in train_accuracy]\n",
        "    plt.plot(accuracy_test, '-x',label='Test Accuracy')\n",
        "    plt.plot(accuracy_train, '--',label='Training Accuracy')\n",
        "    plt.legend([\"Test Accuracy\", \"Training Accuracy\"], loc =\"lower right\") \n",
        "    plt.xlabel('epoch')\n",
        "    plt.ylabel('Accuracy')\n",
        "    plt.title('Accuracy vs. No. of epochs');"
      ]
    },
    {
      "cell_type": "code",
      "execution_count": 73,
      "metadata": {
        "id": "9f051niPMGcw"
      },
      "outputs": [],
      "source": [
        "#Actual Model\n",
        "class BankruptionIdentification(BankruptionClassificationBase):\n",
        "    def __init__(self):\n",
        "        super().__init__()\n",
        "        self.linear1 = nn.Linear(223, 150)\n",
        "        self.linear2 = nn.Linear(150, 30)\n",
        "        self.linear3 = nn.Linear(30, 1)\n",
        "        #            layers.Dense(1, activation=\"sigmoid\")(x)\n",
        "    def forward(self, xb):\n",
        "        # Max pooling over a (2, 2) window\n",
        "        #print(self.num_flat_features(xb))\n",
        "        xb = F.relu(self.linear1(xb))\n",
        "        xb = F.relu(self.linear2(xb))\n",
        "        xb = F.sigmoid(self.linear3(xb))\n",
        "        return xb"
      ]
    },
    {
      "cell_type": "code",
      "execution_count": 75,
      "metadata": {
        "id": "ezgwo2-KMVq8"
      },
      "outputs": [],
      "source": [
        "model=BankruptionIdentification()\n",
        "model1=BankruptionIdentification()"
      ]
    },
    {
      "cell_type": "code",
      "execution_count": 71,
      "metadata": {
        "colab": {
          "base_uri": "https://localhost:8080/"
        },
        "id": "bpjf89tIZn2j",
        "outputId": "c77e8f1b-a919-4106-a0d3-9a8d40d4d55a"
      },
      "outputs": [
        {
          "output_type": "stream",
          "name": "stdout",
          "text": [
            "BankruptionIdentification(\n",
            "  (linear1): Linear(in_features=95, out_features=3000, bias=True)\n",
            "  (linear2): Linear(in_features=3000, out_features=30, bias=True)\n",
            "  (linear3): Linear(in_features=30, out_features=1, bias=True)\n",
            ")\n"
          ]
        }
      ],
      "source": [
        "print(model)"
      ]
    },
    {
      "cell_type": "code",
      "execution_count": 76,
      "metadata": {
        "colab": {
          "base_uri": "https://localhost:8080/"
        },
        "id": "po6KCRrUMX3G",
        "outputId": "8f5d4a9d-f2b8-4b63-8a24-3b99ada92e79"
      },
      "outputs": [
        {
          "output_type": "stream",
          "name": "stderr",
          "text": [
            "/usr/local/lib/python3.7/dist-packages/torch/nn/functional.py:1806: UserWarning: nn.functional.sigmoid is deprecated. Use torch.sigmoid instead.\n",
            "  warnings.warn(\"nn.functional.sigmoid is deprecated. Use torch.sigmoid instead.\")\n"
          ]
        },
        {
          "output_type": "execute_result",
          "data": {
            "text/plain": [
              "{'val_acc': 66.22222137451172, 'val_loss': 54.378597259521484}"
            ]
          },
          "metadata": {},
          "execution_count": 76
        }
      ],
      "source": [
        "evaluate(model, test_loader)"
      ]
    },
    {
      "cell_type": "code",
      "execution_count": 77,
      "metadata": {
        "colab": {
          "base_uri": "https://localhost:8080/"
        },
        "id": "37RAeWh7NJNQ",
        "outputId": "324c17e6-e889-4832-867b-6add26221548"
      },
      "outputs": [
        {
          "output_type": "stream",
          "name": "stderr",
          "text": [
            "/usr/local/lib/python3.7/dist-packages/torch/nn/functional.py:1806: UserWarning: nn.functional.sigmoid is deprecated. Use torch.sigmoid instead.\n",
            "  warnings.warn(\"nn.functional.sigmoid is deprecated. Use torch.sigmoid instead.\")\n"
          ]
        }
      ],
      "source": [
        "history = [evaluate(model, test_loader)]\n",
        "history_train=[evaluate(model1, train_loader)]"
      ]
    },
    {
      "cell_type": "code",
      "execution_count": 78,
      "metadata": {
        "colab": {
          "base_uri": "https://localhost:8080/"
        },
        "id": "QqHff6l_NQFE",
        "outputId": "3813dd24-c564-4352-ff1c-e3994e8f8b1c"
      },
      "outputs": [
        {
          "output_type": "stream",
          "name": "stderr",
          "text": [
            "/usr/local/lib/python3.7/dist-packages/torch/nn/functional.py:1806: UserWarning: nn.functional.sigmoid is deprecated. Use torch.sigmoid instead.\n",
            "  warnings.warn(\"nn.functional.sigmoid is deprecated. Use torch.sigmoid instead.\")\n"
          ]
        },
        {
          "output_type": "stream",
          "name": "stdout",
          "text": [
            "Epoch [0], val_loss: 54.8354, val_acc: 66.2222\n",
            "Epoch [1], val_loss: 54.4444, val_acc: 66.2222\n",
            "Epoch [2], val_loss: 54.6008, val_acc: 66.2222\n",
            "Epoch [3], val_loss: 54.3663, val_acc: 66.2222\n",
            "Epoch [4], val_loss: 54.9918, val_acc: 66.2222\n",
            "Epoch [5], val_loss: 54.3663, val_acc: 66.2222\n",
            "Epoch [6], val_loss: 54.1317, val_acc: 66.2222\n",
            "Epoch [7], val_loss: 54.3663, val_acc: 66.2222\n",
            "Epoch [8], val_loss: 54.6008, val_acc: 66.2222\n",
            "Epoch [9], val_loss: 54.5226, val_acc: 66.2222\n",
            "Epoch [0], val_loss: 45.6926, val_acc: 69.1048\n",
            "Epoch [1], val_loss: 45.6939, val_acc: 69.1048\n",
            "Epoch [2], val_loss: 45.6926, val_acc: 69.1048\n",
            "Epoch [3], val_loss: 45.6960, val_acc: 69.1048\n",
            "Epoch [4], val_loss: 45.6902, val_acc: 69.1048\n",
            "Epoch [5], val_loss: 45.6929, val_acc: 69.1048\n",
            "Epoch [6], val_loss: 45.6915, val_acc: 69.1048\n",
            "Epoch [7], val_loss: 45.6966, val_acc: 69.1048\n",
            "Epoch [8], val_loss: 45.6968, val_acc: 69.1048\n",
            "Epoch [9], val_loss: 45.6894, val_acc: 69.1048\n",
            "Epoch [0], val_loss: 54.5226, val_acc: 66.2222\n",
            "Epoch [1], val_loss: 54.9136, val_acc: 66.2222\n",
            "Epoch [2], val_loss: 54.7572, val_acc: 66.2222\n",
            "Epoch [3], val_loss: 54.6790, val_acc: 66.2222\n",
            "Epoch [4], val_loss: 54.9136, val_acc: 66.2222\n",
            "Epoch [5], val_loss: 54.5226, val_acc: 66.2222\n",
            "Epoch [6], val_loss: 54.2099, val_acc: 66.2222\n",
            "Epoch [7], val_loss: 54.6790, val_acc: 66.2222\n",
            "Epoch [8], val_loss: 54.5226, val_acc: 66.2222\n",
            "Epoch [9], val_loss: 54.6008, val_acc: 66.2222\n",
            "Epoch [0], val_loss: 45.6923, val_acc: 69.1048\n",
            "Epoch [1], val_loss: 45.6955, val_acc: 69.1048\n",
            "Epoch [2], val_loss: 45.6921, val_acc: 69.1048\n",
            "Epoch [3], val_loss: 45.6955, val_acc: 69.1048\n",
            "Epoch [4], val_loss: 45.6921, val_acc: 69.1048\n",
            "Epoch [5], val_loss: 45.6944, val_acc: 69.1048\n",
            "Epoch [6], val_loss: 45.6907, val_acc: 69.1048\n",
            "Epoch [7], val_loss: 45.6905, val_acc: 69.1048\n",
            "Epoch [8], val_loss: 45.6937, val_acc: 69.1048\n",
            "Epoch [9], val_loss: 45.6913, val_acc: 69.1048\n",
            "Epoch [0], val_loss: 54.8354, val_acc: 66.2222\n",
            "Epoch [1], val_loss: 54.6790, val_acc: 66.2222\n",
            "Epoch [2], val_loss: 54.6008, val_acc: 66.2222\n",
            "Epoch [3], val_loss: 54.6790, val_acc: 66.2222\n",
            "Epoch [4], val_loss: 54.6008, val_acc: 66.2222\n",
            "Epoch [5], val_loss: 54.4444, val_acc: 66.2222\n",
            "Epoch [6], val_loss: 54.8354, val_acc: 66.2222\n",
            "Epoch [7], val_loss: 54.5226, val_acc: 66.2222\n",
            "Epoch [8], val_loss: 54.1317, val_acc: 66.2222\n",
            "Epoch [9], val_loss: 55.2263, val_acc: 66.2222\n",
            "Epoch [0], val_loss: 45.6939, val_acc: 69.1048\n",
            "Epoch [1], val_loss: 45.6952, val_acc: 69.1048\n",
            "Epoch [2], val_loss: 45.6934, val_acc: 69.1048\n",
            "Epoch [3], val_loss: 45.6960, val_acc: 69.1048\n",
            "Epoch [4], val_loss: 45.6939, val_acc: 69.1048\n",
            "Epoch [5], val_loss: 45.6921, val_acc: 69.1048\n",
            "Epoch [6], val_loss: 45.6923, val_acc: 69.1048\n",
            "Epoch [7], val_loss: 45.6952, val_acc: 69.1048\n",
            "Epoch [8], val_loss: 45.6923, val_acc: 69.1048\n",
            "Epoch [9], val_loss: 45.6936, val_acc: 69.1048\n"
          ]
        }
      ],
      "source": [
        "history = [evaluate(model, test_loader)]\n",
        "history_train=[evaluate(model1, train_loader)]\n",
        "history += fit(10, 1e-1, model, train_loader, test_loader)\n",
        "history_train += fit(10, 1e-1, model1, train_loader, train_loader)\n",
        "history += fit(10, 1e-2, model, train_loader, test_loader)\n",
        "history_train += fit(10, 1e-2, model1, train_loader, train_loader)\n",
        "history += fit(10, 1e-3, model, train_loader, test_loader)\n",
        "history_train += fit(10, 1e-3, model1, train_loader, train_loader)"
      ]
    },
    {
      "cell_type": "code",
      "execution_count": 79,
      "metadata": {
        "colab": {
          "base_uri": "https://localhost:8080/"
        },
        "id": "o0YhiO5QNwM6",
        "outputId": "59d04bec-c25d-4f63-c5c5-afb3d1cebe18"
      },
      "outputs": [
        {
          "output_type": "stream",
          "name": "stderr",
          "text": [
            "/usr/local/lib/python3.7/dist-packages/torch/nn/functional.py:1806: UserWarning: nn.functional.sigmoid is deprecated. Use torch.sigmoid instead.\n",
            "  warnings.warn(\"nn.functional.sigmoid is deprecated. Use torch.sigmoid instead.\")\n"
          ]
        },
        {
          "output_type": "execute_result",
          "data": {
            "text/plain": [
              "{'val_acc': 66.22222137451172, 'val_loss': 55.14814758300781}"
            ]
          },
          "metadata": {},
          "execution_count": 79
        }
      ],
      "source": [
        "evaluate(model, test_loader)"
      ]
    },
    {
      "cell_type": "code",
      "execution_count": 80,
      "metadata": {
        "colab": {
          "base_uri": "https://localhost:8080/"
        },
        "id": "mJKqgXOyN1LX",
        "outputId": "8f21e1eb-733e-41b6-b161-ff620d5ad65a"
      },
      "outputs": [
        {
          "output_type": "stream",
          "name": "stderr",
          "text": [
            "/usr/local/lib/python3.7/dist-packages/torch/nn/functional.py:1806: UserWarning: nn.functional.sigmoid is deprecated. Use torch.sigmoid instead.\n",
            "  warnings.warn(\"nn.functional.sigmoid is deprecated. Use torch.sigmoid instead.\")\n"
          ]
        },
        {
          "output_type": "execute_result",
          "data": {
            "text/plain": [
              "{'val_acc': 66.22222137451172, 'val_loss': 45.00822830200195}"
            ]
          },
          "metadata": {},
          "execution_count": 80
        }
      ],
      "source": [
        "evaluate(model1, test_loader)"
      ]
    },
    {
      "cell_type": "code",
      "execution_count": 81,
      "metadata": {
        "colab": {
          "base_uri": "https://localhost:8080/",
          "height": 295
        },
        "id": "QfCM7raPN5r2",
        "outputId": "8b1d6962-33c4-4cda-bbf7-81a1f4ef039a"
      },
      "outputs": [
        {
          "output_type": "display_data",
          "data": {
            "text/plain": [
              "<Figure size 432x288 with 1 Axes>"
            ],
            "image/png": "[encoded data removed]"
          },
          "metadata": {
            "needs_background": "light"
          }
        }
      ],
      "source": [
        "plot_losses(history,history_train)"
      ]
    },
    {
      "cell_type": "code",
      "execution_count": 82,
      "metadata": {
        "colab": {
          "base_uri": "https://localhost:8080/",
          "height": 295
        },
        "id": "U3Zui5yIN9-m",
        "outputId": "4b63febf-6af0-4b9b-be8e-609123adb404"
      },
      "outputs": [
        {
          "output_type": "display_data",
          "data": {
            "text/plain": [
              "<Figure size 432x288 with 1 Axes>"
            ],
            "image/png": "[encoded data removed]"
          },
          "metadata": {
            "needs_background": "light"
          }
        }
      ],
      "source": [
        "plot_accuracies(history,history_train)"
      ]
    },
    {
      "cell_type": "code",
      "execution_count": 83,
      "metadata": {
        "colab": {
          "base_uri": "https://localhost:8080/"
        },
        "id": "pzF3RyGGOBaG",
        "outputId": "2d8ed94f-5e8f-4304-b2e4-e691bb3a4527"
      },
      "outputs": [
        {
          "output_type": "stream",
          "name": "stdout",
          "text": [
            "              precision    recall  f1-score   support\n",
            "\n",
            "         0.0       0.45      1.00      0.62      1788\n",
            "         1.0       0.00      0.00      0.00      2148\n",
            "\n",
            "    accuracy                           0.45      3936\n",
            "   macro avg       0.23      0.50      0.31      3936\n",
            "weighted avg       0.21      0.45      0.28      3936\n",
            "\n"
          ]
        },
        {
          "output_type": "stream",
          "name": "stderr",
          "text": [
            "/usr/local/lib/python3.7/dist-packages/torch/nn/functional.py:1806: UserWarning: nn.functional.sigmoid is deprecated. Use torch.sigmoid instead.\n",
            "  warnings.warn(\"nn.functional.sigmoid is deprecated. Use torch.sigmoid instead.\")\n",
            "/usr/local/lib/python3.7/dist-packages/sklearn/metrics/_classification.py:1318: UndefinedMetricWarning: Precision and F-score are ill-defined and being set to 0.0 in labels with no predicted samples. Use `zero_division` parameter to control this behavior.\n",
            "  _warn_prf(average, modifier, msg_start, len(result))\n",
            "/usr/local/lib/python3.7/dist-packages/sklearn/metrics/_classification.py:1318: UndefinedMetricWarning: Precision and F-score are ill-defined and being set to 0.0 in labels with no predicted samples. Use `zero_division` parameter to control this behavior.\n",
            "  _warn_prf(average, modifier, msg_start, len(result))\n",
            "/usr/local/lib/python3.7/dist-packages/sklearn/metrics/_classification.py:1318: UndefinedMetricWarning: Precision and F-score are ill-defined and being set to 0.0 in labels with no predicted samples. Use `zero_division` parameter to control this behavior.\n",
            "  _warn_prf(average, modifier, msg_start, len(result))\n"
          ]
        }
      ],
      "source": [
        "Y_Probability=[]\n",
        "Y_Actual=[]\n",
        "for batch in test_loader:\n",
        "   img,label=batch\n",
        "   try:\n",
        "    outputs2=model(img)\n",
        "    if len(Y_Probability)==0:\n",
        "        _,pred = torch.max(outputs2, 1)\n",
        "        Y_Probability=pred.detach().numpy()\n",
        "        Y_Actual=label.detach().numpy()\n",
        "    else:\n",
        "       if len(outputs2.detach().numpy()[:,-1])==len(label.detach().numpy()):\n",
        "           _,pred = torch.max(outputs2, 1)\n",
        "           pred=pred.detach().numpy()\n",
        "           Y_Actual=np.append(Y_Actual,label.detach().numpy())        #print('hihi')\n",
        "           Y_Probability=np.append(Y_Probability, pred)\n",
        "   except:\n",
        "       print('skipped')\n",
        "        \n",
        "from sklearn.metrics import classification_report\n",
        "print(classification_report(Y_Actual, Y_Probability))"
      ]
    },
    {
      "cell_type": "code",
      "execution_count": 84,
      "metadata": {
        "colab": {
          "base_uri": "https://localhost:8080/"
        },
        "id": "eDqTbyQHrkhq",
        "outputId": "93ed8051-0cdc-439c-f71d-42f23d761f90"
      },
      "outputs": [
        {
          "output_type": "stream",
          "name": "stdout",
          "text": [
            "Mean absolute error = 0.5457\n",
            "Mean squared error = 0.5457\n",
            "Root Mean squared error = 0.7387\n",
            "Median absolute error = 1.0\n",
            "Explain variance score = 0.0\n",
            "R2 score = 0.0\n",
            "mean_absolute_percentage_error = nan\n",
            "Accuracy  = nan\n"
          ]
        },
        {
          "output_type": "stream",
          "name": "stderr",
          "text": [
            "/usr/local/lib/python3.7/dist-packages/ipykernel_launcher.py:5: RuntimeWarning: divide by zero encountered in true_divide\n",
            "  \"\"\"\n",
            "/usr/local/lib/python3.7/dist-packages/ipykernel_launcher.py:5: RuntimeWarning: invalid value encountered in true_divide\n",
            "  \"\"\"\n"
          ]
        }
      ],
      "source": [
        "import sklearn.metrics as sm\n",
        "import numpy as np\n",
        "def mean_absolute_percentage_error(y_true, y_pred):\n",
        "  y_true, y_pred = np.array(y_true), np.array(y_pred)\n",
        "  return np.mean(np.abs((y_true - y_pred) / y_true))*100/len(y_true)\n",
        "print(\"Mean absolute error =\", round(sm.mean_absolute_error(Y_Probability, Y_Actual), 4))  \n",
        "print(\"Mean squared error =\", round(sm.mean_squared_error(Y_Probability, Y_Actual), 4)) \n",
        "print(\"Root Mean squared error =\", round(sm.mean_squared_error(Y_Probability, Y_Actual,squared=False), 4)) \n",
        "print(\"Median absolute error =\", round(sm.median_absolute_error(Y_Probability, Y_Actual),4)) \n",
        "print(\"Explain variance score =\", round(sm.explained_variance_score(Y_Probability, Y_Actual), 4)) \n",
        "print(\"R2 score =\", round(sm.r2_score(Y_Probability, Y_Actual), 4))\n",
        "print(\"mean_absolute_percentage_error =\", round(mean_absolute_percentage_error(Y_Probability, Y_Actual), 4))\n",
        "print(\"Accuracy  =\", round((1-mean_absolute_percentage_error(Y_Probability, Y_Actual))*100, 4))"
      ]
    },
    {
      "cell_type": "code",
      "execution_count": 85,
      "metadata": {
        "colab": {
          "base_uri": "https://localhost:8080/",
          "height": 295
        },
        "id": "jO1cseMuOFzO",
        "outputId": "9e5f2f85-552c-4384-e751-5d63c347bb79"
      },
      "outputs": [
        {
          "output_type": "display_data",
          "data": {
            "text/plain": [
              "<Figure size 432x288 with 1 Axes>"
            ],
            "image/png": "[encoded data removed]"
          },
          "metadata": {
            "needs_background": "light"
          }
        }
      ],
      "source": [
        "#ROC Curve.\n",
        "import sklearn.metrics as metrics\n",
        "flse,true,thres = metrics.roc_curve(Y_Actual, Y_Probability)\n",
        "roc_curve = metrics.auc(flse, true)\n",
        "prec,recall,thres = metrics.precision_recall_curve(Y_Actual, Y_Probability)\n",
        "\n",
        "plt.title('Receiver Operating Characteristic(ROC) Curve')\n",
        "plt.plot(flse, true, 'b', label ='AUC=%0.2f' % roc_curve)\n",
        "plt.legend(loc = \"lower right\")\n",
        "plt.plot([0, 1], [0, 1],'g--')\n",
        "plt.xlim([0, 1])\n",
        "plt.ylim([0, 1])\n",
        "plt.ylabel('True Positive Rate')\n",
        "plt.xlabel('False Positive Rate')\n",
        "plt.show()"
      ]
    },
    {
      "cell_type": "code",
      "execution_count": 86,
      "metadata": {
        "colab": {
          "base_uri": "https://localhost:8080/",
          "height": 279
        },
        "id": "oAuxYbucORo-",
        "outputId": "48584865-949b-4f75-88ad-90c389c353b9"
      },
      "outputs": [
        {
          "output_type": "display_data",
          "data": {
            "text/plain": [
              "<Figure size 432x288 with 1 Axes>"
            ],
            "image/png": "[encoded data removed]"
          },
          "metadata": {
            "needs_background": "light"
          }
        }
      ],
      "source": [
        "#Precision Recall curve.\n",
        "fig, axis = plt.subplots()\n",
        "axis.plot(recall,prec,'k--',color='red')\n",
        "axis.set_xlabel(\"Recall\")\n",
        "axis.set_ylabel(\"Precision\")\n",
        "plt.savefig('fig.jpg')\n",
        "fig.show()"
      ]
    },
    {
      "cell_type": "code",
      "execution_count": 87,
      "metadata": {
        "id": "l-r8rDwuS9bq"
      },
      "outputs": [],
      "source": [
        "#SGD with momentum\n",
        "def fit(epochs, lr, model, train_loader, val_loader, opt_func=torch.optim.SGD):\n",
        "    history = []\n",
        "    optimizer = opt_func(model.parameters(), lr, momentum=0.9)\n",
        "    for epoch in range(epochs):\n",
        "        # Training Phase \n",
        "        for batch in train_loader:\n",
        "            loss = model.training_step(batch)\n",
        "            loss.backward()\n",
        "            optimizer.step()\n",
        "            optimizer.zero_grad()\n",
        "        # Validation phase\n",
        "        result = evaluate(model, val_loader)\n",
        "        model.epoch_end(epoch, result)\n",
        "        history.append(result)\n",
        "    return history"
      ]
    },
    {
      "cell_type": "code",
      "execution_count": 88,
      "metadata": {
        "colab": {
          "base_uri": "https://localhost:8080/"
        },
        "id": "FcgbTLYBTAAr",
        "outputId": "a206774f-8512-4b26-ece7-7a0831d01f31"
      },
      "outputs": [
        {
          "output_type": "stream",
          "name": "stderr",
          "text": [
            "/usr/local/lib/python3.7/dist-packages/torch/nn/functional.py:1806: UserWarning: nn.functional.sigmoid is deprecated. Use torch.sigmoid instead.\n",
            "  warnings.warn(\"nn.functional.sigmoid is deprecated. Use torch.sigmoid instead.\")\n"
          ]
        },
        {
          "output_type": "stream",
          "name": "stdout",
          "text": [
            "Epoch [0], val_loss: 54.4444, val_acc: 66.2222\n",
            "Epoch [1], val_loss: 54.5226, val_acc: 66.2222\n",
            "Epoch [2], val_loss: 54.3663, val_acc: 66.2222\n",
            "Epoch [3], val_loss: 54.4444, val_acc: 66.2222\n",
            "Epoch [4], val_loss: 54.6008, val_acc: 66.2222\n",
            "Epoch [5], val_loss: 54.3663, val_acc: 66.2222\n",
            "Epoch [6], val_loss: 54.3663, val_acc: 66.2222\n",
            "Epoch [7], val_loss: 54.6008, val_acc: 66.2222\n",
            "Epoch [8], val_loss: 54.6790, val_acc: 66.2222\n",
            "Epoch [9], val_loss: 54.7572, val_acc: 66.2222\n",
            "Epoch [0], val_loss: 45.6934, val_acc: 69.1048\n",
            "Epoch [1], val_loss: 45.6952, val_acc: 69.1048\n",
            "Epoch [2], val_loss: 45.6899, val_acc: 69.1048\n",
            "Epoch [3], val_loss: 45.6960, val_acc: 69.1048\n",
            "Epoch [4], val_loss: 45.6939, val_acc: 69.1048\n",
            "Epoch [5], val_loss: 45.6936, val_acc: 69.1048\n",
            "Epoch [6], val_loss: 45.6939, val_acc: 69.1048\n",
            "Epoch [7], val_loss: 45.6937, val_acc: 69.1048\n",
            "Epoch [8], val_loss: 45.6934, val_acc: 69.1048\n",
            "Epoch [9], val_loss: 45.6950, val_acc: 69.1048\n",
            "Epoch [0], val_loss: 54.6008, val_acc: 66.2222\n",
            "Epoch [1], val_loss: 54.4444, val_acc: 66.2222\n",
            "Epoch [2], val_loss: 54.2881, val_acc: 66.2222\n",
            "Epoch [3], val_loss: 54.1317, val_acc: 66.2222\n",
            "Epoch [4], val_loss: 54.4444, val_acc: 66.2222\n",
            "Epoch [5], val_loss: 54.9918, val_acc: 66.2222\n",
            "Epoch [6], val_loss: 54.9136, val_acc: 66.2222\n",
            "Epoch [7], val_loss: 54.6008, val_acc: 66.2222\n",
            "Epoch [8], val_loss: 54.7572, val_acc: 66.2222\n",
            "Epoch [9], val_loss: 54.6790, val_acc: 66.2222\n",
            "Epoch [0], val_loss: 45.6921, val_acc: 69.1048\n",
            "Epoch [1], val_loss: 45.6955, val_acc: 69.1048\n",
            "Epoch [2], val_loss: 45.6955, val_acc: 69.1048\n",
            "Epoch [3], val_loss: 45.6915, val_acc: 69.1048\n",
            "Epoch [4], val_loss: 45.6926, val_acc: 69.1048\n",
            "Epoch [5], val_loss: 45.6921, val_acc: 69.1048\n",
            "Epoch [6], val_loss: 45.6934, val_acc: 69.1048\n",
            "Epoch [7], val_loss: 45.6921, val_acc: 69.1048\n",
            "Epoch [8], val_loss: 45.6937, val_acc: 69.1048\n",
            "Epoch [9], val_loss: 45.6929, val_acc: 69.1048\n",
            "Epoch [0], val_loss: 54.3663, val_acc: 66.2222\n",
            "Epoch [1], val_loss: 54.6008, val_acc: 66.2222\n",
            "Epoch [2], val_loss: 54.6008, val_acc: 66.2222\n",
            "Epoch [3], val_loss: 54.6008, val_acc: 66.2222\n",
            "Epoch [4], val_loss: 54.9136, val_acc: 66.2222\n",
            "Epoch [5], val_loss: 54.9136, val_acc: 66.2222\n",
            "Epoch [6], val_loss: 54.0535, val_acc: 66.2222\n",
            "Epoch [7], val_loss: 54.8354, val_acc: 66.2222\n",
            "Epoch [8], val_loss: 54.5226, val_acc: 66.2222\n",
            "Epoch [9], val_loss: 54.0535, val_acc: 66.2222\n",
            "Epoch [0], val_loss: 45.6942, val_acc: 69.1048\n",
            "Epoch [1], val_loss: 45.6944, val_acc: 69.1048\n",
            "Epoch [2], val_loss: 45.6923, val_acc: 69.1048\n",
            "Epoch [3], val_loss: 45.6931, val_acc: 69.1048\n",
            "Epoch [4], val_loss: 45.6931, val_acc: 69.1048\n",
            "Epoch [5], val_loss: 45.6921, val_acc: 69.1048\n",
            "Epoch [6], val_loss: 45.6923, val_acc: 69.1048\n",
            "Epoch [7], val_loss: 45.6947, val_acc: 69.1048\n",
            "Epoch [8], val_loss: 45.6929, val_acc: 69.1048\n",
            "Epoch [9], val_loss: 45.6915, val_acc: 69.1048\n"
          ]
        }
      ],
      "source": [
        "history = [evaluate(model, test_loader)]\n",
        "history_train=[evaluate(model1, train_loader)]\n",
        "history += fit(10, 1e-1, model, train_loader, test_loader)\n",
        "history_train += fit(10, 1e-1, model1, train_loader, train_loader)\n",
        "history += fit(10, 1e-2, model, train_loader, test_loader)\n",
        "history_train += fit(10, 1e-2, model1, train_loader, train_loader)\n",
        "history += fit(10, 1e-3, model, train_loader, test_loader)\n",
        "history_train += fit(10, 1e-3, model1, train_loader, train_loader)"
      ]
    },
    {
      "cell_type": "code",
      "execution_count": 89,
      "metadata": {
        "colab": {
          "base_uri": "https://localhost:8080/"
        },
        "id": "Bm9P83zUTAv5",
        "outputId": "02003d80-ee25-4103-8c2d-fd89917d871e"
      },
      "outputs": [
        {
          "output_type": "stream",
          "name": "stdout",
          "text": [
            "              precision    recall  f1-score   support\n",
            "\n",
            "         0.0       0.45      1.00      0.62      1788\n",
            "         1.0       0.00      0.00      0.00      2148\n",
            "\n",
            "    accuracy                           0.45      3936\n",
            "   macro avg       0.23      0.50      0.31      3936\n",
            "weighted avg       0.21      0.45      0.28      3936\n",
            "\n"
          ]
        },
        {
          "output_type": "stream",
          "name": "stderr",
          "text": [
            "/usr/local/lib/python3.7/dist-packages/torch/nn/functional.py:1806: UserWarning: nn.functional.sigmoid is deprecated. Use torch.sigmoid instead.\n",
            "  warnings.warn(\"nn.functional.sigmoid is deprecated. Use torch.sigmoid instead.\")\n",
            "/usr/local/lib/python3.7/dist-packages/sklearn/metrics/_classification.py:1318: UndefinedMetricWarning: Precision and F-score are ill-defined and being set to 0.0 in labels with no predicted samples. Use `zero_division` parameter to control this behavior.\n",
            "  _warn_prf(average, modifier, msg_start, len(result))\n",
            "/usr/local/lib/python3.7/dist-packages/sklearn/metrics/_classification.py:1318: UndefinedMetricWarning: Precision and F-score are ill-defined and being set to 0.0 in labels with no predicted samples. Use `zero_division` parameter to control this behavior.\n",
            "  _warn_prf(average, modifier, msg_start, len(result))\n",
            "/usr/local/lib/python3.7/dist-packages/sklearn/metrics/_classification.py:1318: UndefinedMetricWarning: Precision and F-score are ill-defined and being set to 0.0 in labels with no predicted samples. Use `zero_division` parameter to control this behavior.\n",
            "  _warn_prf(average, modifier, msg_start, len(result))\n"
          ]
        }
      ],
      "source": [
        "Y_Probability=[]\n",
        "Y_Actual=[]\n",
        "for batch in test_loader:\n",
        "   img,label=batch\n",
        "   try:\n",
        "    outputs2=model(img)\n",
        "    if len(Y_Probability)==0:\n",
        "        _,pred = torch.max(outputs2, 1)\n",
        "        Y_Probability=pred.detach().numpy()\n",
        "        Y_Actual=label.detach().numpy()\n",
        "    else:\n",
        "       if len(outputs2.detach().numpy()[:,-1])==len(label.detach().numpy()):\n",
        "           _,pred = torch.max(outputs2, 1)\n",
        "           pred=pred.detach().numpy()\n",
        "           Y_Actual=np.append(Y_Actual,label.detach().numpy())        #print('hihi')\n",
        "           Y_Probability=np.append(Y_Probability, pred)\n",
        "   except:\n",
        "       print('skipped')\n",
        "        \n",
        "from sklearn.metrics import classification_report\n",
        "print(classification_report(Y_Actual, Y_Probability))"
      ]
    },
    {
      "cell_type": "code",
      "execution_count": 90,
      "metadata": {
        "colab": {
          "base_uri": "https://localhost:8080/"
        },
        "id": "ZGFgyX4mrqTm",
        "outputId": "44c17e05-d9c1-4423-b55b-30f7d88bd57d"
      },
      "outputs": [
        {
          "output_type": "stream",
          "name": "stdout",
          "text": [
            "Mean absolute error = 0.5457\n",
            "Mean squared error = 0.5457\n",
            "Root Mean squared error = 0.7387\n",
            "Median absolute error = 1.0\n",
            "Explain variance score = 0.0\n",
            "R2 score = 0.0\n",
            "mean_absolute_percentage_error = nan\n",
            "Accuracy  = nan\n"
          ]
        },
        {
          "output_type": "stream",
          "name": "stderr",
          "text": [
            "/usr/local/lib/python3.7/dist-packages/ipykernel_launcher.py:5: RuntimeWarning: divide by zero encountered in true_divide\n",
            "  \"\"\"\n",
            "/usr/local/lib/python3.7/dist-packages/ipykernel_launcher.py:5: RuntimeWarning: invalid value encountered in true_divide\n",
            "  \"\"\"\n"
          ]
        }
      ],
      "source": [
        "import sklearn.metrics as sm\n",
        "import numpy as np\n",
        "def mean_absolute_percentage_error(y_true, y_pred):\n",
        "  y_true, y_pred = np.array(y_true), np.array(y_pred)\n",
        "  return np.mean(np.abs((y_true - y_pred) / y_true))*100/len(y_true)\n",
        "print(\"Mean absolute error =\", round(sm.mean_absolute_error(Y_Probability, Y_Actual), 4))  \n",
        "print(\"Mean squared error =\", round(sm.mean_squared_error(Y_Probability, Y_Actual), 4)) \n",
        "print(\"Root Mean squared error =\", round(sm.mean_squared_error(Y_Probability, Y_Actual,squared=False), 4)) \n",
        "print(\"Median absolute error =\", round(sm.median_absolute_error(Y_Probability, Y_Actual),4)) \n",
        "print(\"Explain variance score =\", round(sm.explained_variance_score(Y_Probability, Y_Actual), 4)) \n",
        "print(\"R2 score =\", round(sm.r2_score(Y_Probability, Y_Actual), 4))\n",
        "print(\"mean_absolute_percentage_error =\", round(mean_absolute_percentage_error(Y_Probability, Y_Actual), 4))\n",
        "print(\"Accuracy  =\", round((1-mean_absolute_percentage_error(Y_Probability, Y_Actual))*100, 4))"
      ]
    },
    {
      "cell_type": "code",
      "execution_count": 91,
      "metadata": {
        "id": "rZdxDWc0TA73"
      },
      "outputs": [],
      "source": [
        "#RNN Model\n",
        "class BankruptionIdentification(BankruptionClassificationBase):\n",
        "    def __init__(self):\n",
        "        super().__init__()\n",
        "        self.hidden_dim = 3000\n",
        "        self.n_layers = 1\n",
        "        self.rnn = nn.RNN(95, self.hidden_dim, self.n_layers, batch_first=True)   \n",
        "        # Fully connected layer\n",
        "        self.fc = nn.Linear(3000, 1)\n",
        "\n",
        "    def forward(self, xb):\n",
        "        # Max pooling over a (2, 2) window\n",
        "        #print(self.num_flat_features(xb))\n",
        "        hidden = self.init_hidden(batch_size=len(xb))\n",
        "        # Passing in the input and hidden state into the model and obtaining outputs\n",
        "        xb=xb.resize_((len(xb),1,95))\n",
        "        #print(xb.size())\n",
        "        out, hidden = self.rnn(xb, hidden)\n",
        "        #print(out.size())\n",
        "        # Reshaping the outputs such that it can be fit into the fully connected layer\n",
        "        out = out.contiguous().view(-1, self.hidden_dim)\n",
        "        out = F.sigmoid(self.fc(out))\n",
        "        return out\n",
        "    \n",
        "    def init_hidden(self, batch_size):\n",
        "        # This method generates the first hidden state of zeros which we'll use in the forward pass\n",
        "        # We'll send the tensor holding the hidden state to the device we specified earlier as well\n",
        "        hidden = torch.zeros(self.n_layers, batch_size, self.hidden_dim)\n",
        "        return hidden"
      ]
    },
    {
      "cell_type": "code",
      "execution_count": 92,
      "metadata": {
        "id": "TUGVQx-yT2wW"
      },
      "outputs": [],
      "source": [
        "#SGD Plain Vannila\n",
        "def fit(epochs, lr, model, train_loader, val_loader, opt_func=torch.optim.SGD):\n",
        "    history = []\n",
        "    optimizer = opt_func(model.parameters(), lr)\n",
        "    for epoch in range(epochs):\n",
        "        # Training Phase \n",
        "        for batch in train_loader:\n",
        "            loss = model.training_step(batch)\n",
        "            loss.backward()\n",
        "            optimizer.step()\n",
        "            optimizer.zero_grad()\n",
        "        # Validation phase\n",
        "        result = evaluate(model, val_loader)\n",
        "        model.epoch_end(epoch, result)\n",
        "        history.append(result)\n",
        "    return history"
      ]
    },
    {
      "cell_type": "code",
      "execution_count": 93,
      "metadata": {
        "colab": {
          "base_uri": "https://localhost:8080/"
        },
        "id": "D-hUpNYfT6mM",
        "outputId": "640aa837-2b99-4b21-8132-32789735589c"
      },
      "outputs": [
        {
          "output_type": "stream",
          "name": "stderr",
          "text": [
            "/usr/local/lib/python3.7/dist-packages/torch/nn/functional.py:1806: UserWarning: nn.functional.sigmoid is deprecated. Use torch.sigmoid instead.\n",
            "  warnings.warn(\"nn.functional.sigmoid is deprecated. Use torch.sigmoid instead.\")\n"
          ]
        },
        {
          "output_type": "stream",
          "name": "stdout",
          "text": [
            "Epoch [0], val_loss: 1.2429, val_acc: 66.2222\n",
            "Epoch [1], val_loss: 0.9283, val_acc: 66.2222\n",
            "Epoch [2], val_loss: 1.2552, val_acc: 66.2222\n",
            "Epoch [3], val_loss: 1.0747, val_acc: 66.2222\n",
            "Epoch [4], val_loss: 1.3599, val_acc: 66.2222\n",
            "Epoch [5], val_loss: 1.1413, val_acc: 66.2222\n",
            "Epoch [6], val_loss: 1.1540, val_acc: 66.2222\n",
            "Epoch [7], val_loss: 1.2793, val_acc: 66.2222\n",
            "Epoch [8], val_loss: 1.5344, val_acc: 66.2222\n",
            "Epoch [9], val_loss: 1.0016, val_acc: 66.2222\n",
            "Epoch [0], val_loss: 1.2113, val_acc: 69.1048\n",
            "Epoch [1], val_loss: 1.2145, val_acc: 69.1048\n",
            "Epoch [2], val_loss: 1.2097, val_acc: 69.1048\n",
            "Epoch [3], val_loss: 1.0755, val_acc: 69.1048\n",
            "Epoch [4], val_loss: 1.4492, val_acc: 69.1048\n",
            "Epoch [5], val_loss: 1.1570, val_acc: 69.1048\n",
            "Epoch [6], val_loss: 1.8257, val_acc: 69.1048\n",
            "Epoch [7], val_loss: 1.1925, val_acc: 69.1048\n",
            "Epoch [8], val_loss: 1.3138, val_acc: 69.1048\n",
            "Epoch [9], val_loss: 1.7501, val_acc: 69.1048\n",
            "Epoch [0], val_loss: 0.8099, val_acc: 66.2222\n",
            "Epoch [1], val_loss: 0.7817, val_acc: 66.2222\n",
            "Epoch [2], val_loss: 0.7622, val_acc: 66.2222\n",
            "Epoch [3], val_loss: 0.7737, val_acc: 66.2222\n",
            "Epoch [4], val_loss: 0.7470, val_acc: 66.2222\n",
            "Epoch [5], val_loss: 0.7502, val_acc: 66.2222\n",
            "Epoch [6], val_loss: 0.7395, val_acc: 66.2222\n",
            "Epoch [7], val_loss: 0.7469, val_acc: 66.2222\n",
            "Epoch [8], val_loss: 0.7355, val_acc: 66.2222\n",
            "Epoch [9], val_loss: 0.7353, val_acc: 66.2222\n",
            "Epoch [0], val_loss: 0.7867, val_acc: 69.1048\n",
            "Epoch [1], val_loss: 0.7726, val_acc: 69.1048\n",
            "Epoch [2], val_loss: 0.7577, val_acc: 69.1048\n",
            "Epoch [3], val_loss: 0.7606, val_acc: 69.1048\n",
            "Epoch [4], val_loss: 0.7473, val_acc: 69.1048\n",
            "Epoch [5], val_loss: 0.7389, val_acc: 69.1048\n",
            "Epoch [6], val_loss: 0.7354, val_acc: 69.1048\n",
            "Epoch [7], val_loss: 0.7318, val_acc: 69.1048\n",
            "Epoch [8], val_loss: 0.7264, val_acc: 69.1048\n",
            "Epoch [9], val_loss: 0.7268, val_acc: 69.1048\n",
            "Epoch [0], val_loss: 0.7335, val_acc: 66.2222\n",
            "Epoch [1], val_loss: 0.7318, val_acc: 66.2222\n",
            "Epoch [2], val_loss: 0.7204, val_acc: 66.2222\n",
            "Epoch [3], val_loss: 0.7222, val_acc: 66.2222\n",
            "Epoch [4], val_loss: 0.7227, val_acc: 66.2222\n",
            "Epoch [5], val_loss: 0.7225, val_acc: 66.2222\n",
            "Epoch [6], val_loss: 0.7166, val_acc: 66.2222\n",
            "Epoch [7], val_loss: 0.7302, val_acc: 66.2222\n",
            "Epoch [8], val_loss: 0.7237, val_acc: 66.2222\n",
            "Epoch [9], val_loss: 0.7146, val_acc: 66.2222\n",
            "Epoch [0], val_loss: 0.7237, val_acc: 69.1048\n",
            "Epoch [1], val_loss: 0.7156, val_acc: 69.1048\n",
            "Epoch [2], val_loss: 0.7171, val_acc: 69.1048\n",
            "Epoch [3], val_loss: 0.7206, val_acc: 69.1048\n",
            "Epoch [4], val_loss: 0.7219, val_acc: 69.1048\n",
            "Epoch [5], val_loss: 0.7176, val_acc: 69.1048\n",
            "Epoch [6], val_loss: 0.7202, val_acc: 69.1048\n",
            "Epoch [7], val_loss: 0.7182, val_acc: 69.1048\n",
            "Epoch [8], val_loss: 0.7176, val_acc: 69.1048\n",
            "Epoch [9], val_loss: 0.7180, val_acc: 69.1048\n"
          ]
        }
      ],
      "source": [
        "model = BankruptionIdentification()\n",
        "model1=BankruptionIdentification()\n",
        "history = [evaluate(model, test_loader)]\n",
        "history_train=[evaluate(model1, train_loader)]\n",
        "history += fit(10, 1e-1, model, train_loader, test_loader)\n",
        "history_train += fit(10, 1e-1, model1, train_loader, train_loader)\n",
        "history += fit(10, 1e-2, model, train_loader, test_loader)\n",
        "history_train += fit(10, 1e-2, model1, train_loader, train_loader)\n",
        "history += fit(10, 1e-3, model, train_loader, test_loader)\n",
        "history_train += fit(10, 1e-3, model1, train_loader, train_loader)"
      ]
    },
    {
      "cell_type": "code",
      "execution_count": 94,
      "metadata": {
        "colab": {
          "base_uri": "https://localhost:8080/"
        },
        "id": "bNdYXrPiaMyh",
        "outputId": "9b9f7075-fe91-4036-bdef-de891062fcd7"
      },
      "outputs": [
        {
          "output_type": "stream",
          "name": "stdout",
          "text": [
            "BankruptionIdentification(\n",
            "  (rnn): RNN(95, 3000, batch_first=True)\n",
            "  (fc): Linear(in_features=3000, out_features=1, bias=True)\n",
            ")\n"
          ]
        }
      ],
      "source": [
        "print(model)"
      ]
    },
    {
      "cell_type": "code",
      "execution_count": 95,
      "metadata": {
        "colab": {
          "base_uri": "https://localhost:8080/",
          "height": 295
        },
        "id": "MuORocOtURkS",
        "outputId": "b228e90f-850d-4def-927f-9bc0eab40025"
      },
      "outputs": [
        {
          "output_type": "display_data",
          "data": {
            "text/plain": [
              "<Figure size 432x288 with 1 Axes>"
            ],
            "image/png": "[encoded data removed]"
          },
          "metadata": {
            "needs_background": "light"
          }
        }
      ],
      "source": [
        "plot_losses(history,history_train)"
      ]
    },
    {
      "cell_type": "code",
      "execution_count": 96,
      "metadata": {
        "colab": {
          "base_uri": "https://localhost:8080/",
          "height": 295
        },
        "id": "PCRuG_8KUZS_",
        "outputId": "6d81ce7d-abad-4db3-9123-22bf2b7c9a57"
      },
      "outputs": [
        {
          "output_type": "display_data",
          "data": {
            "text/plain": [
              "<Figure size 432x288 with 1 Axes>"
            ],
            "image/png": "[encoded data removed]"
          },
          "metadata": {
            "needs_background": "light"
          }
        }
      ],
      "source": [
        "plot_accuracies(history,history_train)"
      ]
    },
    {
      "cell_type": "code",
      "execution_count": 97,
      "metadata": {
        "colab": {
          "base_uri": "https://localhost:8080/"
        },
        "id": "MzR5pJB4UbQi",
        "outputId": "a186cfa3-fe5d-4ca0-b229-85e436b1ae35"
      },
      "outputs": [
        {
          "output_type": "stream",
          "name": "stderr",
          "text": [
            "/usr/local/lib/python3.7/dist-packages/torch/nn/functional.py:1806: UserWarning: nn.functional.sigmoid is deprecated. Use torch.sigmoid instead.\n",
            "  warnings.warn(\"nn.functional.sigmoid is deprecated. Use torch.sigmoid instead.\")\n"
          ]
        },
        {
          "output_type": "stream",
          "name": "stdout",
          "text": [
            "              precision    recall  f1-score   support\n",
            "\n",
            "         0.0       0.45      1.00      0.62      1788\n",
            "         1.0       0.00      0.00      0.00      2148\n",
            "\n",
            "    accuracy                           0.45      3936\n",
            "   macro avg       0.23      0.50      0.31      3936\n",
            "weighted avg       0.21      0.45      0.28      3936\n",
            "\n"
          ]
        },
        {
          "output_type": "stream",
          "name": "stderr",
          "text": [
            "/usr/local/lib/python3.7/dist-packages/sklearn/metrics/_classification.py:1318: UndefinedMetricWarning: Precision and F-score are ill-defined and being set to 0.0 in labels with no predicted samples. Use `zero_division` parameter to control this behavior.\n",
            "  _warn_prf(average, modifier, msg_start, len(result))\n",
            "/usr/local/lib/python3.7/dist-packages/sklearn/metrics/_classification.py:1318: UndefinedMetricWarning: Precision and F-score are ill-defined and being set to 0.0 in labels with no predicted samples. Use `zero_division` parameter to control this behavior.\n",
            "  _warn_prf(average, modifier, msg_start, len(result))\n",
            "/usr/local/lib/python3.7/dist-packages/sklearn/metrics/_classification.py:1318: UndefinedMetricWarning: Precision and F-score are ill-defined and being set to 0.0 in labels with no predicted samples. Use `zero_division` parameter to control this behavior.\n",
            "  _warn_prf(average, modifier, msg_start, len(result))\n"
          ]
        }
      ],
      "source": [
        "Y_Probability=[]\n",
        "Y_Actual=[]\n",
        "for batch in test_loader:\n",
        "   img,label=batch\n",
        "   try:\n",
        "    outputs2=model(img)\n",
        "    if len(Y_Probability)==0:\n",
        "        _,pred = torch.max(outputs2, 1)\n",
        "        Y_Probability=pred.detach().numpy()\n",
        "        Y_Actual=label.detach().numpy()\n",
        "    else:\n",
        "       if len(outputs2.detach().numpy()[:,-1])==len(label.detach().numpy()):\n",
        "           _,pred = torch.max(outputs2, 1)\n",
        "           pred=pred.detach().numpy()\n",
        "           Y_Actual=np.append(Y_Actual,label.detach().numpy())        #print('hihi')\n",
        "           Y_Probability=np.append(Y_Probability, pred)\n",
        "   except:\n",
        "       print('skipped')\n",
        "        \n",
        "from sklearn.metrics import classification_report\n",
        "print(classification_report(Y_Actual, Y_Probability))"
      ]
    },
    {
      "cell_type": "code",
      "execution_count": 98,
      "metadata": {
        "colab": {
          "base_uri": "https://localhost:8080/"
        },
        "id": "ZeTxA3MJnmyJ",
        "outputId": "8a0c1690-df50-443e-940e-00ff3bfdb9ff"
      },
      "outputs": [
        {
          "output_type": "stream",
          "name": "stdout",
          "text": [
            "Mean absolute error = 0.5457\n",
            "Mean squared error = 0.5457\n",
            "Root Mean squared error = 0.7387\n",
            "Median absolute error = 1.0\n",
            "Explain variance score = 0.0\n",
            "R2 score = 0.0\n",
            "mean_absolute_percentage_error = nan\n",
            "Accuracy  = nan\n"
          ]
        },
        {
          "output_type": "stream",
          "name": "stderr",
          "text": [
            "/usr/local/lib/python3.7/dist-packages/ipykernel_launcher.py:5: RuntimeWarning: divide by zero encountered in true_divide\n",
            "  \"\"\"\n",
            "/usr/local/lib/python3.7/dist-packages/ipykernel_launcher.py:5: RuntimeWarning: invalid value encountered in true_divide\n",
            "  \"\"\"\n"
          ]
        }
      ],
      "source": [
        "import sklearn.metrics as sm\n",
        "import numpy as np\n",
        "def mean_absolute_percentage_error(y_true, y_pred):\n",
        "  y_true, y_pred = np.array(y_true), np.array(y_pred)\n",
        "  return np.mean(np.abs((y_true - y_pred) / y_true))*100/len(y_true)\n",
        "print(\"Mean absolute error =\", round(sm.mean_absolute_error(Y_Probability, Y_Actual), 4))  \n",
        "print(\"Mean squared error =\", round(sm.mean_squared_error(Y_Probability, Y_Actual), 4)) \n",
        "print(\"Root Mean squared error =\", round(sm.mean_squared_error(Y_Probability, Y_Actual,squared=False), 4)) \n",
        "print(\"Median absolute error =\", round(sm.median_absolute_error(Y_Probability, Y_Actual),4)) \n",
        "print(\"Explain variance score =\", round(sm.explained_variance_score(Y_Probability, Y_Actual), 4)) \n",
        "print(\"R2 score =\", round(sm.r2_score(Y_Probability, Y_Actual), 4))\n",
        "print(\"mean_absolute_percentage_error =\", round(mean_absolute_percentage_error(Y_Probability, Y_Actual), 4))\n",
        "print(\"Accuracy  =\", round((1-mean_absolute_percentage_error(Y_Probability, Y_Actual))*100, 4))"
      ]
    }
  ],
  "metadata": {
    "accelerator": "GPU",
    "colab": {
      "collapsed_sections": [],
      "name": "Aarthiee_mtech_final_financial_ratio_part2.ipynb",
      "provenance": []
    },
    "kernelspec": {
      "display_name": "Python 3",
      "name": "python3"
    }
  },
  "nbformat": 4,
  "nbformat_minor": 0
}